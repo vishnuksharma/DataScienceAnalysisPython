{
 "cells": [
  {
   "cell_type": "code",
   "execution_count": 4,
   "metadata": {},
   "outputs": [
    {
     "name": "stdout",
     "output_type": "stream",
     "text": [
      "Impossible\n"
     ]
    }
   ],
   "source": [
    "# sides = [5,4,2,1,4,5]\n",
    "sides = [1,3,2]\n",
    "def isPossible(slides):\n",
    "    front = 0\n",
    "    back = -1\n",
    "    stack = []\n",
    "    isPossible = True\n",
    "    while(len(sides)+back != front-1):\n",
    "      if (len(stack) > 0 and (stack[-1] < sides[front] or stack[-1] < sides[back])):\n",
    "        isPossible = False\n",
    "        break\n",
    "      elif(sides[back] >= sides[front] ):\n",
    "        stack.append(sides[back])\n",
    "        back = back-1\n",
    "      else:\n",
    "        stack.append(sides[front])\n",
    "        front = front+1\n",
    "    return \"Possible\" if isPossible else \"Impossible\"\n",
    "print(isPossible(sides))"
   ]
  },
  {
   "cell_type": "code",
   "execution_count": 8,
   "metadata": {},
   "outputs": [
    {
     "name": "stdout",
     "output_type": "stream",
     "text": [
      "[1]\n",
      "[1, 1]\n",
      "[1, 2, 1]\n",
      "[1, 3, 3, 1]\n",
      "[1, 4, 6, 4, 1]\n",
      "[1, 5, 10, 10, 5, 1]\n",
      "[1, 6, 15, 20, 15, 6, 1]\n",
      "[1, 7, 21, 35, 35, 21, 7, 1]\n"
     ]
    }
   ],
   "source": [
    "def pascal_prob(n):\n",
    "    row = [1]\n",
    "    if n>1:\n",
    "        row_above = pascal_prob(n-1)\n",
    "        print(row_above)\n",
    "        for i in range(len(row_above) - 1):\n",
    "            row.append(row_above[i] + row_above[i+1])\n",
    "        row.append(1)\n",
    "    return row\n",
    "\n",
    "print(pascal_prob(8))"
   ]
  },
  {
   "cell_type": "code",
   "execution_count": 17,
   "metadata": {},
   "outputs": [
    {
     "name": "stdout",
     "output_type": "stream",
     "text": [
      "[3, 5, 6, 7, 8, 23, 34, 54, 234, 235]\n"
     ]
    }
   ],
   "source": [
    "l = [54,5,235,234,23,7,34,8,6,3]\n",
    "\n",
    "# merge sort\n",
    "def mergesort(a):\n",
    "    if len(a) > 1:\n",
    "        m = len(a)//2\n",
    "        L = a[:m]\n",
    "        R = a[m:]\n",
    "\n",
    "        mergesort(L)\n",
    "        mergesort(R)\n",
    "\n",
    "        i = j = k = 0\n",
    "        \n",
    "        while(i < len(L) and j< len(R)):\n",
    "            if(L[i] < R[j]):\n",
    "                a[k]=L[i]\n",
    "                i = i+1\n",
    "            else:\n",
    "                a[k] = R[j]\n",
    "                j = j+1\n",
    "            k = k+1\n",
    "\n",
    "        # if any element left in L & R\n",
    "        while(i < len(L)):\n",
    "            a[k] = L[i]\n",
    "            i +=1\n",
    "            k +=1\n",
    "        while(j< len(R)):\n",
    "            a[k] = R[j]\n",
    "            j +=1\n",
    "            k +=1\n",
    "    return a\n",
    "\n",
    "print(mergesort(l))\n",
    "\n",
    "\n",
    "\n"
   ]
  },
  {
   "cell_type": "code",
   "execution_count": 18,
   "metadata": {},
   "outputs": [
    {
     "name": "stdout",
     "output_type": "stream",
     "text": [
      "[54, 5, 235, 234, 23, 7, 34, 8, 6, 3]\n",
      "[3, 54, 235, 234, 23, 7, 34, 8, 6, 5]\n",
      "[3, 5, 235, 234, 54, 23, 34, 8, 7, 6]\n",
      "[3, 5, 6, 235, 234, 54, 34, 23, 8, 7]\n",
      "[3, 5, 6, 7, 235, 234, 54, 34, 23, 8]\n",
      "[3, 5, 6, 7, 8, 235, 234, 54, 34, 23]\n",
      "[3, 5, 6, 7, 8, 23, 235, 234, 54, 34]\n",
      "[3, 5, 6, 7, 8, 23, 34, 235, 234, 54]\n",
      "[3, 5, 6, 7, 8, 23, 34, 54, 235, 234]\n",
      "[3, 5, 6, 7, 8, 23, 34, 54, 234, 235]\n",
      "[3, 5, 6, 7, 8, 23, 34, 54, 234, 235]\n"
     ]
    }
   ],
   "source": [
    "# selection sort\n",
    "for i in range(0, len(a)):\n",
    "  print(a)\n",
    "  for j in range(i, len(a)):\n",
    "    if a[j] < a[i]:\n",
    "      tmp = a[i]\n",
    "      a[i] = a[j]\n",
    "      a[j] = tmp\n",
    "\n",
    "print(a)\n"
   ]
  },
  {
   "cell_type": "code",
   "execution_count": 20,
   "metadata": {},
   "outputs": [
    {
     "name": "stdout",
     "output_type": "stream",
     "text": [
      "[3, 5, 6, 7, 8, 23, 34, 54, 234, 235]\n",
      "[3, 5, 6, 7, 8, 23, 34, 54, 234, 235]\n",
      "[3, 5, 6, 7, 8, 23, 34, 54, 234, 235]\n",
      "[3, 5, 6, 7, 8, 23, 34, 54, 234, 235]\n",
      "[3, 5, 6, 7, 8, 23, 34, 54, 234, 235]\n",
      "[3, 5, 6, 7, 8, 23, 34, 54, 234, 235]\n",
      "[3, 5, 6, 7, 8, 23, 34, 54, 234, 235]\n",
      "[3, 5, 6, 7, 8, 23, 34, 54, 234, 235]\n",
      "[3, 5, 6, 7, 8, 23, 34, 54, 234, 235]\n",
      "[3, 5, 6, 7, 8, 23, 34, 54, 234, 235]\n",
      "[3, 5, 6, 7, 8, 23, 34, 54, 234, 235]\n"
     ]
    }
   ],
   "source": [
    "\n",
    "# insertion sort\n",
    "for i in range(0, len(l)):\n",
    "  k = l[i]\n",
    "  j = i-1\n",
    "  print(l)\n",
    "  while(l[j]>k and j >= 0):\n",
    "    l[j+1] = l[j]\n",
    "    j = j-1\n",
    "  \n",
    "  l[j+1] = k\n",
    "\n",
    "print(l)"
   ]
  },
  {
   "cell_type": "code",
   "execution_count": null,
   "metadata": {},
   "outputs": [],
   "source": []
  }
 ],
 "metadata": {
  "kernelspec": {
   "display_name": "Python 3",
   "language": "python",
   "name": "python3"
  },
  "language_info": {
   "codemirror_mode": {
    "name": "ipython",
    "version": 3
   },
   "file_extension": ".py",
   "mimetype": "text/x-python",
   "name": "python",
   "nbconvert_exporter": "python",
   "pygments_lexer": "ipython3",
   "version": "3.7.6"
  }
 },
 "nbformat": 4,
 "nbformat_minor": 4
}
