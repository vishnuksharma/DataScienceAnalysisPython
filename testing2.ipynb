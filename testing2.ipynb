{
 "cells": [
  {
   "cell_type": "code",
   "execution_count": 4,
   "metadata": {},
   "outputs": [
    {
     "name": "stdout",
     "output_type": "stream",
     "text": [
      "Impossible\n"
     ]
    }
   ],
   "source": [
    "# sides = [5,4,2,1,4,5]\n",
    "sides = [1,3,2]\n",
    "def isPossible(slides):\n",
    "    front = 0\n",
    "    back = -1\n",
    "    stack = []\n",
    "    isPossible = True\n",
    "    while(len(sides)+back != front-1):\n",
    "      if (len(stack) > 0 and (stack[-1] < sides[front] or stack[-1] < sides[back])):\n",
    "        isPossible = False\n",
    "        break\n",
    "      elif(sides[back] >= sides[front] ):\n",
    "        stack.append(sides[back])\n",
    "        back = back-1\n",
    "      else:\n",
    "        stack.append(sides[front])\n",
    "        front = front+1\n",
    "    return \"Possible\" if isPossible else \"Impossible\"\n",
    "print(isPossible(sides))"
   ]
  },
  {
   "cell_type": "code",
   "execution_count": 8,
   "metadata": {},
   "outputs": [
    {
     "name": "stdout",
     "output_type": "stream",
     "text": [
      "[1]\n",
      "[1, 1]\n",
      "[1, 2, 1]\n",
      "[1, 3, 3, 1]\n",
      "[1, 4, 6, 4, 1]\n",
      "[1, 5, 10, 10, 5, 1]\n",
      "[1, 6, 15, 20, 15, 6, 1]\n",
      "[1, 7, 21, 35, 35, 21, 7, 1]\n"
     ]
    }
   ],
   "source": [
    "def pascal_prob(n):\n",
    "    row = [1]\n",
    "    if n>1:\n",
    "        row_above = pascal_prob(n-1)\n",
    "        print(row_above)\n",
    "        for i in range(len(row_above) - 1):\n",
    "            row.append(row_above[i] + row_above[i+1])\n",
    "        row.append(1)\n",
    "    return row\n",
    "\n",
    "print(pascal_prob(8))"
   ]
  },
  {
   "cell_type": "code",
   "execution_count": 17,
   "metadata": {},
   "outputs": [
    {
     "name": "stdout",
     "output_type": "stream",
     "text": [
      "[3, 5, 6, 7, 8, 23, 34, 54, 234, 235]\n"
     ]
    }
   ],
   "source": [
    "l = [54,5,235,234,23,7,34,8,6,3]\n",
    "\n",
    "# merge sort\n",
    "def mergesort(a):\n",
    "    if len(a) > 1:\n",
    "        m = len(a)//2\n",
    "        L = a[:m]\n",
    "        R = a[m:]\n",
    "\n",
    "        mergesort(L)\n",
    "        mergesort(R)\n",
    "\n",
    "        i = j = k = 0\n",
    "        \n",
    "        while(i < len(L) and j< len(R)):\n",
    "            if(L[i] < R[j]):\n",
    "                a[k]=L[i]\n",
    "                i = i+1\n",
    "            else:\n",
    "                a[k] = R[j]\n",
    "                j = j+1\n",
    "            k = k+1\n",
    "\n",
    "        # if any element left in L & R\n",
    "        while(i < len(L)):\n",
    "            a[k] = L[i]\n",
    "            i +=1\n",
    "            k +=1\n",
    "        while(j< len(R)):\n",
    "            a[k] = R[j]\n",
    "            j +=1\n",
    "            k +=1\n",
    "    return a\n",
    "\n",
    "print(mergesort(l))\n",
    "\n",
    "\n",
    "\n"
   ]
  },
  {
   "cell_type": "code",
   "execution_count": 18,
   "metadata": {},
   "outputs": [
    {
     "name": "stdout",
     "output_type": "stream",
     "text": [
      "[54, 5, 235, 234, 23, 7, 34, 8, 6, 3]\n",
      "[3, 54, 235, 234, 23, 7, 34, 8, 6, 5]\n",
      "[3, 5, 235, 234, 54, 23, 34, 8, 7, 6]\n",
      "[3, 5, 6, 235, 234, 54, 34, 23, 8, 7]\n",
      "[3, 5, 6, 7, 235, 234, 54, 34, 23, 8]\n",
      "[3, 5, 6, 7, 8, 235, 234, 54, 34, 23]\n",
      "[3, 5, 6, 7, 8, 23, 235, 234, 54, 34]\n",
      "[3, 5, 6, 7, 8, 23, 34, 235, 234, 54]\n",
      "[3, 5, 6, 7, 8, 23, 34, 54, 235, 234]\n",
      "[3, 5, 6, 7, 8, 23, 34, 54, 234, 235]\n",
      "[3, 5, 6, 7, 8, 23, 34, 54, 234, 235]\n"
     ]
    }
   ],
   "source": [
    "# selection sort\n",
    "for i in range(0, len(a)):\n",
    "  print(a)\n",
    "  for j in range(i, len(a)):\n",
    "    if a[j] < a[i]:\n",
    "      tmp = a[i]\n",
    "      a[i] = a[j]\n",
    "      a[j] = tmp\n",
    "\n",
    "print(a)\n"
   ]
  },
  {
   "cell_type": "code",
   "execution_count": 20,
   "metadata": {},
   "outputs": [
    {
     "name": "stdout",
     "output_type": "stream",
     "text": [
      "[3, 5, 6, 7, 8, 23, 34, 54, 234, 235]\n",
      "[3, 5, 6, 7, 8, 23, 34, 54, 234, 235]\n",
      "[3, 5, 6, 7, 8, 23, 34, 54, 234, 235]\n",
      "[3, 5, 6, 7, 8, 23, 34, 54, 234, 235]\n",
      "[3, 5, 6, 7, 8, 23, 34, 54, 234, 235]\n",
      "[3, 5, 6, 7, 8, 23, 34, 54, 234, 235]\n",
      "[3, 5, 6, 7, 8, 23, 34, 54, 234, 235]\n",
      "[3, 5, 6, 7, 8, 23, 34, 54, 234, 235]\n",
      "[3, 5, 6, 7, 8, 23, 34, 54, 234, 235]\n",
      "[3, 5, 6, 7, 8, 23, 34, 54, 234, 235]\n",
      "[3, 5, 6, 7, 8, 23, 34, 54, 234, 235]\n"
     ]
    }
   ],
   "source": [
    "\n",
    "# insertion sort\n",
    "for i in range(0, len(l)):\n",
    "  k = l[i]\n",
    "  j = i-1\n",
    "  print(l)\n",
    "  while(l[j]>k and j >= 0):\n",
    "    l[j+1] = l[j]\n",
    "    j = j-1\n",
    "  \n",
    "  l[j+1] = k\n",
    "\n",
    "print(l)"
   ]
  },
  {
   "cell_type": "code",
   "execution_count": 21,
   "metadata": {},
   "outputs": [
    {
     "data": {
      "text/plain": [
       "[20, 10, 15, 5, 29]"
      ]
     },
     "execution_count": 21,
     "metadata": {},
     "output_type": "execute_result"
    }
   ],
   "source": [
    "def func(x):\n",
    "     return x % 10\n",
    "\n",
    "L = [15, 20, 5, 29, 10]\n",
    "sorted(L, key = func)"
   ]
  },
  {
   "cell_type": "code",
   "execution_count": 90,
   "metadata": {},
   "outputs": [
    {
     "name": "stdout",
     "output_type": "stream",
     "text": [
      "[0, 0, 0, 0, 1, 1, 1, 2, 2]\n",
      "[0, 0, 0, 0, 1, 1, 1, 2]\n"
     ]
    }
   ],
   "source": [
    "# arr = [0, 0, 1, 1, 1, 1, 0, 1, 0, 0, 0, 1, 1, 0]\n",
    "arr = [0, 2, 0, 0, 1, 1, 2, 0, 1]\n",
    "j = 0\n",
    "for i in range(len(arr)):\n",
    "    if (arr[i] == 0):\n",
    "        tmp = arr[j]\n",
    "        arr[j] = arr[i]\n",
    "        arr[i] = tmp\n",
    "        j = j+1\n",
    "\n",
    "j = 0\n",
    "for i in range(len(arr)):\n",
    "    if (arr[i] == 0 or arr[i] == 1):\n",
    "        tmp = arr[j]\n",
    "        arr[j] = arr[i]\n",
    "        arr[i] = tmp\n",
    "        j = j+1\n",
    "print(arr)\n",
    "\n",
    "arr.remove(2)\n",
    "print(arr)"
   ]
  },
  {
   "cell_type": "code",
   "execution_count": 76,
   "metadata": {
    "scrolled": true
   },
   "outputs": [
    {
     "name": "stdout",
     "output_type": "stream",
     "text": [
      "5\n",
      "8\n"
     ]
    }
   ],
   "source": [
    "def Unknown_func(number):\n",
    "    if(number == 1):\n",
    "        return (0)\n",
    "    else:\n",
    "        return (1 + Unknown_func(number//2))\n",
    "\n",
    "print(Unknown_func(63))\n",
    "\n",
    "\n",
    "def Unknown_func(n):\n",
    "    if n <= 1:\n",
    "        return(n)\n",
    "    else:\n",
    "        return (Unknown_func(n-1) + Unknown_func(n-2))\n",
    "print(Unknown_func(6))"
   ]
  },
  {
   "cell_type": "code",
   "execution_count": 80,
   "metadata": {},
   "outputs": [
    {
     "ename": "ModuleNotFoundError",
     "evalue": "No module named 'pynput'",
     "output_type": "error",
     "traceback": [
      "\u001b[0;31m---------------------------------------------------------------------------\u001b[0m",
      "\u001b[0;31mModuleNotFoundError\u001b[0m                       Traceback (most recent call last)",
      "\u001b[0;32m<ipython-input-80-335513d483e8>\u001b[0m in \u001b[0;36m<module>\u001b[0;34m\u001b[0m\n\u001b[0;32m----> 1\u001b[0;31m \u001b[0;32mfrom\u001b[0m \u001b[0mpynput\u001b[0m\u001b[0;34m.\u001b[0m\u001b[0mmouse\u001b[0m \u001b[0;32mimport\u001b[0m \u001b[0mButton\u001b[0m\u001b[0;34m,\u001b[0m \u001b[0mController\u001b[0m\u001b[0;34m\u001b[0m\u001b[0;34m\u001b[0m\u001b[0m\n\u001b[0m\u001b[1;32m      2\u001b[0m \u001b[0;34m\u001b[0m\u001b[0m\n\u001b[1;32m      3\u001b[0m \u001b[0mmouse\u001b[0m \u001b[0;34m=\u001b[0m \u001b[0mController\u001b[0m\u001b[0;34m(\u001b[0m\u001b[0;34m)\u001b[0m\u001b[0;34m\u001b[0m\u001b[0;34m\u001b[0m\u001b[0m\n\u001b[1;32m      4\u001b[0m \u001b[0;34m\u001b[0m\u001b[0m\n\u001b[1;32m      5\u001b[0m \u001b[0;31m# Read pointer position\u001b[0m\u001b[0;34m\u001b[0m\u001b[0;34m\u001b[0m\u001b[0;34m\u001b[0m\u001b[0m\n",
      "\u001b[0;31mModuleNotFoundError\u001b[0m: No module named 'pynput'"
     ]
    }
   ],
   "source": [
    "from pynput.mouse import Button, Controller\n",
    "\n",
    "mouse = Controller()\n",
    "\n",
    "# Read pointer position\n",
    "print('The current pointer position is {0}'.format(\n",
    "    mouse.position))\n",
    "\n",
    "# Set pointer position\n",
    "mouse.position = (10, 20)\n",
    "print('Now we have moved it to {0}'.format(\n",
    "    mouse.position))\n",
    "\n",
    "# Move pointer relative to current position\n",
    "mouse.move(5, -5)\n",
    "\n",
    "# Press and release\n",
    "mouse.press(Button.left)\n",
    "mouse.release(Button.left)\n",
    "\n",
    "# Double click; this is different from pressing and releasing\n",
    "# twice on Mac OSX\n",
    "mouse.click(Button.left, 2)\n",
    "\n",
    "# Scroll two steps down\n",
    "mouse.scroll(0, 2)"
   ]
  },
  {
   "cell_type": "code",
   "execution_count": 89,
   "metadata": {},
   "outputs": [
    {
     "name": "stdout",
     "output_type": "stream",
     "text": [
      "USAGE mouseclick [int x] [int y] [optional delay in seconds]\n"
     ]
    }
   ],
   "source": [
    "import sys\n",
    "try:\n",
    "    print(info(sys))\n",
    "#     xclick=intsys.argv1\n",
    "#     yclick=intsys.argv2\n",
    "#     try:\n",
    "#         delay=intsys.argv3\n",
    "#     except:\n",
    "#         delay=0\n",
    "except:\n",
    "    print(\"USAGE mouseclick [int x] [int y] [optional delay in seconds]\")\n",
    "    exit\n",
    "# print(\"mouse click at \", xclick, \",\", yclick,\" in \", delay, \"seconds\")"
   ]
  },
  {
   "cell_type": "code",
   "execution_count": 95,
   "metadata": {},
   "outputs": [
    {
     "data": {
      "text/html": [
       "<div>\n",
       "<style scoped>\n",
       "    .dataframe tbody tr th:only-of-type {\n",
       "        vertical-align: middle;\n",
       "    }\n",
       "\n",
       "    .dataframe tbody tr th {\n",
       "        vertical-align: top;\n",
       "    }\n",
       "\n",
       "    .dataframe thead th {\n",
       "        text-align: right;\n",
       "    }\n",
       "</style>\n",
       "<table border=\"1\" class=\"dataframe\">\n",
       "  <thead>\n",
       "    <tr style=\"text-align: right;\">\n",
       "      <th></th>\n",
       "      <th>Ord_id</th>\n",
       "      <th>Prod_id</th>\n",
       "      <th>Ship_id</th>\n",
       "      <th>Cust_id</th>\n",
       "      <th>Sales</th>\n",
       "      <th>Discount</th>\n",
       "      <th>Order_Quantity</th>\n",
       "      <th>Profit</th>\n",
       "      <th>Shipping_Cost</th>\n",
       "      <th>Product_Base_Margin</th>\n",
       "      <th>Product_Category</th>\n",
       "      <th>Product_Sub_Category</th>\n",
       "    </tr>\n",
       "  </thead>\n",
       "  <tbody>\n",
       "    <tr>\n",
       "      <th>0</th>\n",
       "      <td>Ord_5446</td>\n",
       "      <td>Prod_16</td>\n",
       "      <td>SHP_7609</td>\n",
       "      <td>Cust_1818</td>\n",
       "      <td>136.81</td>\n",
       "      <td>0.01</td>\n",
       "      <td>23</td>\n",
       "      <td>-30.51</td>\n",
       "      <td>3.60</td>\n",
       "      <td>0.56</td>\n",
       "      <td>OFFICE SUPPLIES</td>\n",
       "      <td>SCISSORS, RULERS AND TRIMMERS</td>\n",
       "    </tr>\n",
       "    <tr>\n",
       "      <th>1</th>\n",
       "      <td>Ord_2978</td>\n",
       "      <td>Prod_16</td>\n",
       "      <td>SHP_4112</td>\n",
       "      <td>Cust_1088</td>\n",
       "      <td>305.05</td>\n",
       "      <td>0.04</td>\n",
       "      <td>27</td>\n",
       "      <td>23.12</td>\n",
       "      <td>3.37</td>\n",
       "      <td>0.57</td>\n",
       "      <td>OFFICE SUPPLIES</td>\n",
       "      <td>SCISSORS, RULERS AND TRIMMERS</td>\n",
       "    </tr>\n",
       "    <tr>\n",
       "      <th>2</th>\n",
       "      <td>Ord_5484</td>\n",
       "      <td>Prod_16</td>\n",
       "      <td>SHP_7663</td>\n",
       "      <td>Cust_1820</td>\n",
       "      <td>322.82</td>\n",
       "      <td>0.05</td>\n",
       "      <td>35</td>\n",
       "      <td>-17.58</td>\n",
       "      <td>3.98</td>\n",
       "      <td>0.56</td>\n",
       "      <td>OFFICE SUPPLIES</td>\n",
       "      <td>SCISSORS, RULERS AND TRIMMERS</td>\n",
       "    </tr>\n",
       "    <tr>\n",
       "      <th>3</th>\n",
       "      <td>Ord_3730</td>\n",
       "      <td>Prod_16</td>\n",
       "      <td>SHP_5175</td>\n",
       "      <td>Cust_1314</td>\n",
       "      <td>459.08</td>\n",
       "      <td>0.04</td>\n",
       "      <td>34</td>\n",
       "      <td>61.57</td>\n",
       "      <td>3.14</td>\n",
       "      <td>0.60</td>\n",
       "      <td>OFFICE SUPPLIES</td>\n",
       "      <td>SCISSORS, RULERS AND TRIMMERS</td>\n",
       "    </tr>\n",
       "    <tr>\n",
       "      <th>4</th>\n",
       "      <td>Ord_4143</td>\n",
       "      <td>Prod_16</td>\n",
       "      <td>SHP_5771</td>\n",
       "      <td>Cust_1417</td>\n",
       "      <td>207.21</td>\n",
       "      <td>0.06</td>\n",
       "      <td>24</td>\n",
       "      <td>-78.64</td>\n",
       "      <td>6.14</td>\n",
       "      <td>0.59</td>\n",
       "      <td>OFFICE SUPPLIES</td>\n",
       "      <td>SCISSORS, RULERS AND TRIMMERS</td>\n",
       "    </tr>\n",
       "  </tbody>\n",
       "</table>\n",
       "</div>"
      ],
      "text/plain": [
       "     Ord_id  Prod_id   Ship_id    Cust_id   Sales  Discount  Order_Quantity  \\\n",
       "0  Ord_5446  Prod_16  SHP_7609  Cust_1818  136.81      0.01              23   \n",
       "1  Ord_2978  Prod_16  SHP_4112  Cust_1088  305.05      0.04              27   \n",
       "2  Ord_5484  Prod_16  SHP_7663  Cust_1820  322.82      0.05              35   \n",
       "3  Ord_3730  Prod_16  SHP_5175  Cust_1314  459.08      0.04              34   \n",
       "4  Ord_4143  Prod_16  SHP_5771  Cust_1417  207.21      0.06              24   \n",
       "\n",
       "   Profit  Shipping_Cost  Product_Base_Margin Product_Category  \\\n",
       "0  -30.51           3.60                 0.56  OFFICE SUPPLIES   \n",
       "1   23.12           3.37                 0.57  OFFICE SUPPLIES   \n",
       "2  -17.58           3.98                 0.56  OFFICE SUPPLIES   \n",
       "3   61.57           3.14                 0.60  OFFICE SUPPLIES   \n",
       "4  -78.64           6.14                 0.59  OFFICE SUPPLIES   \n",
       "\n",
       "            Product_Sub_Category  \n",
       "0  SCISSORS, RULERS AND TRIMMERS  \n",
       "1  SCISSORS, RULERS AND TRIMMERS  \n",
       "2  SCISSORS, RULERS AND TRIMMERS  \n",
       "3  SCISSORS, RULERS AND TRIMMERS  \n",
       "4  SCISSORS, RULERS AND TRIMMERS  "
      ]
     },
     "execution_count": 95,
     "metadata": {},
     "output_type": "execute_result"
    }
   ],
   "source": [
    "import numpy as np\n",
    "import pandas as pd\n",
    "import matplotlib.pyplot as plt\n",
    "import seaborn as sns\n",
    "\n",
    "# set seaborn theme if you prefer\n",
    "sns.set(style=\"white\")\n",
    "\n",
    "# read data\n",
    "market_df = pd.read_csv(\"Data-Visualisation-Module/Session3+-+Categorical+Data+++Time+Series/global_sales_data/market_fact.csv\")\n",
    "customer_df = pd.read_csv(\"Data-Visualisation-Module/Session3+-+Categorical+Data+++Time+Series/global_sales_data/cust_dimen.csv\")\n",
    "product_df = pd.read_csv(\"Data-Visualisation-Module/Session3+-+Categorical+Data+++Time+Series/global_sales_data/prod_dimen.csv\")\n",
    "shipping_df = pd.read_csv(\"Data-Visualisation-Module/Session3+-+Categorical+Data+++Time+Series/global_sales_data/shipping_dimen.csv\")\n",
    "orders_df = pd.read_csv(\"Data-Visualisation-Module/Session3+-+Categorical+Data+++Time+Series/global_sales_data/orders_dimen.csv\")\n",
    "\n",
    "# merge the dataframe to add a categorical variable \n",
    "df = pd.merge(market_df, product_df, how='inner', on='Prod_id')\n",
    "df.head()"
   ]
  },
  {
   "cell_type": "code",
   "execution_count": 96,
   "metadata": {},
   "outputs": [
    {
     "data": {
      "text/html": [
       "<div>\n",
       "<style scoped>\n",
       "    .dataframe tbody tr th:only-of-type {\n",
       "        vertical-align: middle;\n",
       "    }\n",
       "\n",
       "    .dataframe tbody tr th {\n",
       "        vertical-align: top;\n",
       "    }\n",
       "\n",
       "    .dataframe thead th {\n",
       "        text-align: right;\n",
       "    }\n",
       "</style>\n",
       "<table border=\"1\" class=\"dataframe\">\n",
       "  <thead>\n",
       "    <tr style=\"text-align: right;\">\n",
       "      <th></th>\n",
       "      <th>Ord_id</th>\n",
       "      <th>Prod_id</th>\n",
       "      <th>Ship_id</th>\n",
       "      <th>Cust_id</th>\n",
       "      <th>Sales</th>\n",
       "      <th>Discount</th>\n",
       "      <th>Order_Quantity</th>\n",
       "      <th>Profit</th>\n",
       "      <th>Shipping_Cost</th>\n",
       "      <th>Product_Base_Margin</th>\n",
       "      <th>Product_Category</th>\n",
       "      <th>Product_Sub_Category</th>\n",
       "      <th>Customer_Name</th>\n",
       "      <th>Province</th>\n",
       "      <th>Region</th>\n",
       "      <th>Customer_Segment</th>\n",
       "    </tr>\n",
       "  </thead>\n",
       "  <tbody>\n",
       "    <tr>\n",
       "      <th>0</th>\n",
       "      <td>Ord_5446</td>\n",
       "      <td>Prod_16</td>\n",
       "      <td>SHP_7609</td>\n",
       "      <td>Cust_1818</td>\n",
       "      <td>136.81</td>\n",
       "      <td>0.01</td>\n",
       "      <td>23</td>\n",
       "      <td>-30.51</td>\n",
       "      <td>3.60</td>\n",
       "      <td>0.56</td>\n",
       "      <td>OFFICE SUPPLIES</td>\n",
       "      <td>SCISSORS, RULERS AND TRIMMERS</td>\n",
       "      <td>AARON BERGMAN</td>\n",
       "      <td>ALBERTA</td>\n",
       "      <td>WEST</td>\n",
       "      <td>CORPORATE</td>\n",
       "    </tr>\n",
       "    <tr>\n",
       "      <th>1</th>\n",
       "      <td>Ord_5406</td>\n",
       "      <td>Prod_13</td>\n",
       "      <td>SHP_7549</td>\n",
       "      <td>Cust_1818</td>\n",
       "      <td>42.27</td>\n",
       "      <td>0.01</td>\n",
       "      <td>13</td>\n",
       "      <td>4.56</td>\n",
       "      <td>0.93</td>\n",
       "      <td>0.54</td>\n",
       "      <td>OFFICE SUPPLIES</td>\n",
       "      <td>PENS &amp; ART SUPPLIES</td>\n",
       "      <td>AARON BERGMAN</td>\n",
       "      <td>ALBERTA</td>\n",
       "      <td>WEST</td>\n",
       "      <td>CORPORATE</td>\n",
       "    </tr>\n",
       "    <tr>\n",
       "      <th>2</th>\n",
       "      <td>Ord_5446</td>\n",
       "      <td>Prod_4</td>\n",
       "      <td>SHP_7610</td>\n",
       "      <td>Cust_1818</td>\n",
       "      <td>4701.69</td>\n",
       "      <td>0.00</td>\n",
       "      <td>26</td>\n",
       "      <td>1148.90</td>\n",
       "      <td>2.50</td>\n",
       "      <td>0.59</td>\n",
       "      <td>TECHNOLOGY</td>\n",
       "      <td>TELEPHONES AND COMMUNICATION</td>\n",
       "      <td>AARON BERGMAN</td>\n",
       "      <td>ALBERTA</td>\n",
       "      <td>WEST</td>\n",
       "      <td>CORPORATE</td>\n",
       "    </tr>\n",
       "    <tr>\n",
       "      <th>3</th>\n",
       "      <td>Ord_5456</td>\n",
       "      <td>Prod_6</td>\n",
       "      <td>SHP_7625</td>\n",
       "      <td>Cust_1818</td>\n",
       "      <td>2337.89</td>\n",
       "      <td>0.09</td>\n",
       "      <td>43</td>\n",
       "      <td>729.34</td>\n",
       "      <td>14.30</td>\n",
       "      <td>0.37</td>\n",
       "      <td>OFFICE SUPPLIES</td>\n",
       "      <td>PAPER</td>\n",
       "      <td>AARON BERGMAN</td>\n",
       "      <td>ALBERTA</td>\n",
       "      <td>WEST</td>\n",
       "      <td>CORPORATE</td>\n",
       "    </tr>\n",
       "    <tr>\n",
       "      <th>4</th>\n",
       "      <td>Ord_5446</td>\n",
       "      <td>Prod_6</td>\n",
       "      <td>SHP_7608</td>\n",
       "      <td>Cust_1818</td>\n",
       "      <td>164.02</td>\n",
       "      <td>0.03</td>\n",
       "      <td>23</td>\n",
       "      <td>-47.64</td>\n",
       "      <td>6.15</td>\n",
       "      <td>0.37</td>\n",
       "      <td>OFFICE SUPPLIES</td>\n",
       "      <td>PAPER</td>\n",
       "      <td>AARON BERGMAN</td>\n",
       "      <td>ALBERTA</td>\n",
       "      <td>WEST</td>\n",
       "      <td>CORPORATE</td>\n",
       "    </tr>\n",
       "  </tbody>\n",
       "</table>\n",
       "</div>"
      ],
      "text/plain": [
       "     Ord_id  Prod_id   Ship_id    Cust_id    Sales  Discount  Order_Quantity  \\\n",
       "0  Ord_5446  Prod_16  SHP_7609  Cust_1818   136.81      0.01              23   \n",
       "1  Ord_5406  Prod_13  SHP_7549  Cust_1818    42.27      0.01              13   \n",
       "2  Ord_5446   Prod_4  SHP_7610  Cust_1818  4701.69      0.00              26   \n",
       "3  Ord_5456   Prod_6  SHP_7625  Cust_1818  2337.89      0.09              43   \n",
       "4  Ord_5446   Prod_6  SHP_7608  Cust_1818   164.02      0.03              23   \n",
       "\n",
       "    Profit  Shipping_Cost  Product_Base_Margin Product_Category  \\\n",
       "0   -30.51           3.60                 0.56  OFFICE SUPPLIES   \n",
       "1     4.56           0.93                 0.54  OFFICE SUPPLIES   \n",
       "2  1148.90           2.50                 0.59       TECHNOLOGY   \n",
       "3   729.34          14.30                 0.37  OFFICE SUPPLIES   \n",
       "4   -47.64           6.15                 0.37  OFFICE SUPPLIES   \n",
       "\n",
       "            Product_Sub_Category  Customer_Name Province Region  \\\n",
       "0  SCISSORS, RULERS AND TRIMMERS  AARON BERGMAN  ALBERTA   WEST   \n",
       "1            PENS & ART SUPPLIES  AARON BERGMAN  ALBERTA   WEST   \n",
       "2   TELEPHONES AND COMMUNICATION  AARON BERGMAN  ALBERTA   WEST   \n",
       "3                          PAPER  AARON BERGMAN  ALBERTA   WEST   \n",
       "4                          PAPER  AARON BERGMAN  ALBERTA   WEST   \n",
       "\n",
       "  Customer_Segment  \n",
       "0        CORPORATE  \n",
       "1        CORPORATE  \n",
       "2        CORPORATE  \n",
       "3        CORPORATE  \n",
       "4        CORPORATE  "
      ]
     },
     "execution_count": 96,
     "metadata": {},
     "output_type": "execute_result"
    }
   ],
   "source": [
    "# merging with customers df\n",
    "df = pd.merge(df, customer_df, how='inner', on='Cust_id')\n",
    "df.head()"
   ]
  },
  {
   "cell_type": "code",
   "execution_count": 98,
   "metadata": {},
   "outputs": [
    {
     "data": {
      "image/png": "[encoded data removed]",
      "text/plain": [
       "<Figure size 960x640 with 1 Axes>"
      ]
     },
     "metadata": {},
     "output_type": "display_data"
    }
   ],
   "source": [
    "plt.figure(num=None, figsize=(12, 8), dpi=80, facecolor='w', edgecolor='k')\n",
    "sns.boxplot(x='Product_Category', y='Profit', hue=\"Customer_Segment\", data=df)\n",
    "plt.show()"
   ]
  },
  {
   "cell_type": "code",
   "execution_count": null,
   "metadata": {},
   "outputs": [],
   "source": []
  }
 ],
 "metadata": {
  "kernelspec": {
   "display_name": "Python 3",
   "language": "python",
   "name": "python3"
  },
  "language_info": {
   "codemirror_mode": {
    "name": "ipython",
    "version": 3
   },
   "file_extension": ".py",
   "mimetype": "text/x-python",
   "name": "python",
   "nbconvert_exporter": "python",
   "pygments_lexer": "ipython3",
   "version": "3.7.6"
  }
 },
 "nbformat": 4,
 "nbformat_minor": 4
}
