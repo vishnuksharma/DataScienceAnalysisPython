{
 "cells": [
  {
   "cell_type": "code",
   "execution_count": 1,
   "metadata": {},
   "outputs": [],
   "source": [
    "# Supress Warnings\n",
    "\n",
    "import warnings\n",
    "warnings.filterwarnings('ignore')"
   ]
  },
  {
   "cell_type": "code",
   "execution_count": 2,
   "metadata": {},
   "outputs": [],
   "source": [
    "# Import the numpy and pandas packages\n",
    "\n",
    "import numpy as np\n",
    "import pandas as pd\n",
    "import matplotlib.pyplot as plt\n",
    "\n",
    "# the commonly used alias for seaborn is sns\n",
    "import seaborn as sns\n",
    "sns.set_style(\"whitegrid\")\n",
    "pd.set_option('display.max_columns', 125)\n",
    "pd.set_option('display.max_rows', 100)\n",
    "%matplotlib inline"
   ]
  },
  {
   "cell_type": "code",
   "execution_count": 3,
   "metadata": {},
   "outputs": [],
   "source": [
    "df1 = pd.read_csv('./application_data.csv') # Write your code for importing the csv file here\n",
    "df2 = pd.read_csv('./previous_application.csv') # Write your code for importing the csv file here"
   ]
  },
  {
   "cell_type": "markdown",
   "metadata": {},
   "source": [
    "### Merge Both Data frame"
   ]
  },
  {
   "cell_type": "code",
   "execution_count": 4,
   "metadata": {},
   "outputs": [],
   "source": [
    "df3 = df1.merge(df2, on='SK_ID_CURR', how='outer')"
   ]
  },
  {
   "cell_type": "markdown",
   "metadata": {},
   "source": [
    "#### Load and display shape of data"
   ]
  },
  {
   "cell_type": "code",
   "execution_count": 5,
   "metadata": {},
   "outputs": [
    {
     "data": {
      "text/plain": [
       "(307511, 122)"
      ]
     },
     "execution_count": 5,
     "metadata": {},
     "output_type": "execute_result"
    }
   ],
   "source": [
    "df1.shape"
   ]
  },
  {
   "cell_type": "code",
   "execution_count": 6,
   "metadata": {},
   "outputs": [
    {
     "data": {
      "text/html": [
       "<div>\n",
       "<style scoped>\n",
       "    .dataframe tbody tr th:only-of-type {\n",
       "        vertical-align: middle;\n",
       "    }\n",
       "\n",
       "    .dataframe tbody tr th {\n",
       "        vertical-align: top;\n",
       "    }\n",
       "\n",
       "    .dataframe thead th {\n",
       "        text-align: right;\n",
       "    }\n",
       "</style>\n",
       "<table border=\"1\" class=\"dataframe\">\n",
       "  <thead>\n",
       "    <tr style=\"text-align: right;\">\n",
       "      <th></th>\n",
       "      <th>SK_ID_CURR</th>\n",
       "      <th>TARGET</th>\n",
       "      <th>NAME_CONTRACT_TYPE</th>\n",
       "      <th>CODE_GENDER</th>\n",
       "      <th>FLAG_OWN_CAR</th>\n",
       "      <th>FLAG_OWN_REALTY</th>\n",
       "      <th>CNT_CHILDREN</th>\n",
       "      <th>AMT_INCOME_TOTAL</th>\n",
       "      <th>AMT_CREDIT</th>\n",
       "      <th>AMT_ANNUITY</th>\n",
       "      <th>AMT_GOODS_PRICE</th>\n",
       "      <th>NAME_TYPE_SUITE</th>\n",
       "      <th>NAME_INCOME_TYPE</th>\n",
       "      <th>NAME_EDUCATION_TYPE</th>\n",
       "      <th>NAME_FAMILY_STATUS</th>\n",
       "      <th>NAME_HOUSING_TYPE</th>\n",
       "      <th>REGION_POPULATION_RELATIVE</th>\n",
       "      <th>DAYS_BIRTH</th>\n",
       "      <th>DAYS_EMPLOYED</th>\n",
       "      <th>DAYS_REGISTRATION</th>\n",
       "      <th>DAYS_ID_PUBLISH</th>\n",
       "      <th>OWN_CAR_AGE</th>\n",
       "      <th>FLAG_MOBIL</th>\n",
       "      <th>FLAG_EMP_PHONE</th>\n",
       "      <th>FLAG_WORK_PHONE</th>\n",
       "      <th>FLAG_CONT_MOBILE</th>\n",
       "      <th>FLAG_PHONE</th>\n",
       "      <th>FLAG_EMAIL</th>\n",
       "      <th>OCCUPATION_TYPE</th>\n",
       "      <th>CNT_FAM_MEMBERS</th>\n",
       "      <th>REGION_RATING_CLIENT</th>\n",
       "      <th>REGION_RATING_CLIENT_W_CITY</th>\n",
       "      <th>WEEKDAY_APPR_PROCESS_START</th>\n",
       "      <th>HOUR_APPR_PROCESS_START</th>\n",
       "      <th>REG_REGION_NOT_LIVE_REGION</th>\n",
       "      <th>REG_REGION_NOT_WORK_REGION</th>\n",
       "      <th>LIVE_REGION_NOT_WORK_REGION</th>\n",
       "      <th>REG_CITY_NOT_LIVE_CITY</th>\n",
       "      <th>REG_CITY_NOT_WORK_CITY</th>\n",
       "      <th>LIVE_CITY_NOT_WORK_CITY</th>\n",
       "      <th>ORGANIZATION_TYPE</th>\n",
       "      <th>EXT_SOURCE_1</th>\n",
       "      <th>EXT_SOURCE_2</th>\n",
       "      <th>EXT_SOURCE_3</th>\n",
       "      <th>APARTMENTS_AVG</th>\n",
       "      <th>BASEMENTAREA_AVG</th>\n",
       "      <th>YEARS_BEGINEXPLUATATION_AVG</th>\n",
       "      <th>YEARS_BUILD_AVG</th>\n",
       "      <th>COMMONAREA_AVG</th>\n",
       "      <th>ELEVATORS_AVG</th>\n",
       "      <th>ENTRANCES_AVG</th>\n",
       "      <th>FLOORSMAX_AVG</th>\n",
       "      <th>FLOORSMIN_AVG</th>\n",
       "      <th>LANDAREA_AVG</th>\n",
       "      <th>LIVINGAPARTMENTS_AVG</th>\n",
       "      <th>LIVINGAREA_AVG</th>\n",
       "      <th>NONLIVINGAPARTMENTS_AVG</th>\n",
       "      <th>NONLIVINGAREA_AVG</th>\n",
       "      <th>APARTMENTS_MODE</th>\n",
       "      <th>BASEMENTAREA_MODE</th>\n",
       "      <th>YEARS_BEGINEXPLUATATION_MODE</th>\n",
       "      <th>YEARS_BUILD_MODE</th>\n",
       "      <th>COMMONAREA_MODE</th>\n",
       "      <th>ELEVATORS_MODE</th>\n",
       "      <th>ENTRANCES_MODE</th>\n",
       "      <th>FLOORSMAX_MODE</th>\n",
       "      <th>FLOORSMIN_MODE</th>\n",
       "      <th>LANDAREA_MODE</th>\n",
       "      <th>LIVINGAPARTMENTS_MODE</th>\n",
       "      <th>LIVINGAREA_MODE</th>\n",
       "      <th>NONLIVINGAPARTMENTS_MODE</th>\n",
       "      <th>NONLIVINGAREA_MODE</th>\n",
       "      <th>APARTMENTS_MEDI</th>\n",
       "      <th>BASEMENTAREA_MEDI</th>\n",
       "      <th>YEARS_BEGINEXPLUATATION_MEDI</th>\n",
       "      <th>YEARS_BUILD_MEDI</th>\n",
       "      <th>COMMONAREA_MEDI</th>\n",
       "      <th>ELEVATORS_MEDI</th>\n",
       "      <th>ENTRANCES_MEDI</th>\n",
       "      <th>FLOORSMAX_MEDI</th>\n",
       "      <th>FLOORSMIN_MEDI</th>\n",
       "      <th>LANDAREA_MEDI</th>\n",
       "      <th>LIVINGAPARTMENTS_MEDI</th>\n",
       "      <th>LIVINGAREA_MEDI</th>\n",
       "      <th>NONLIVINGAPARTMENTS_MEDI</th>\n",
       "      <th>NONLIVINGAREA_MEDI</th>\n",
       "      <th>FONDKAPREMONT_MODE</th>\n",
       "      <th>HOUSETYPE_MODE</th>\n",
       "      <th>TOTALAREA_MODE</th>\n",
       "      <th>WALLSMATERIAL_MODE</th>\n",
       "      <th>EMERGENCYSTATE_MODE</th>\n",
       "      <th>OBS_30_CNT_SOCIAL_CIRCLE</th>\n",
       "      <th>DEF_30_CNT_SOCIAL_CIRCLE</th>\n",
       "      <th>OBS_60_CNT_SOCIAL_CIRCLE</th>\n",
       "      <th>DEF_60_CNT_SOCIAL_CIRCLE</th>\n",
       "      <th>DAYS_LAST_PHONE_CHANGE</th>\n",
       "      <th>FLAG_DOCUMENT_2</th>\n",
       "      <th>FLAG_DOCUMENT_3</th>\n",
       "      <th>FLAG_DOCUMENT_4</th>\n",
       "      <th>FLAG_DOCUMENT_5</th>\n",
       "      <th>FLAG_DOCUMENT_6</th>\n",
       "      <th>FLAG_DOCUMENT_7</th>\n",
       "      <th>FLAG_DOCUMENT_8</th>\n",
       "      <th>FLAG_DOCUMENT_9</th>\n",
       "      <th>FLAG_DOCUMENT_10</th>\n",
       "      <th>FLAG_DOCUMENT_11</th>\n",
       "      <th>FLAG_DOCUMENT_12</th>\n",
       "      <th>FLAG_DOCUMENT_13</th>\n",
       "      <th>FLAG_DOCUMENT_14</th>\n",
       "      <th>FLAG_DOCUMENT_15</th>\n",
       "      <th>FLAG_DOCUMENT_16</th>\n",
       "      <th>FLAG_DOCUMENT_17</th>\n",
       "      <th>FLAG_DOCUMENT_18</th>\n",
       "      <th>FLAG_DOCUMENT_19</th>\n",
       "      <th>FLAG_DOCUMENT_20</th>\n",
       "      <th>FLAG_DOCUMENT_21</th>\n",
       "      <th>AMT_REQ_CREDIT_BUREAU_HOUR</th>\n",
       "      <th>AMT_REQ_CREDIT_BUREAU_DAY</th>\n",
       "      <th>AMT_REQ_CREDIT_BUREAU_WEEK</th>\n",
       "      <th>AMT_REQ_CREDIT_BUREAU_MON</th>\n",
       "      <th>AMT_REQ_CREDIT_BUREAU_QRT</th>\n",
       "      <th>AMT_REQ_CREDIT_BUREAU_YEAR</th>\n",
       "    </tr>\n",
       "  </thead>\n",
       "  <tbody>\n",
       "    <tr>\n",
       "      <th>0</th>\n",
       "      <td>100002</td>\n",
       "      <td>1</td>\n",
       "      <td>Cash loans</td>\n",
       "      <td>M</td>\n",
       "      <td>N</td>\n",
       "      <td>Y</td>\n",
       "      <td>0</td>\n",
       "      <td>202500.0</td>\n",
       "      <td>406597.5</td>\n",
       "      <td>24700.5</td>\n",
       "      <td>351000.0</td>\n",
       "      <td>Unaccompanied</td>\n",
       "      <td>Working</td>\n",
       "      <td>Secondary / secondary special</td>\n",
       "      <td>Single / not married</td>\n",
       "      <td>House / apartment</td>\n",
       "      <td>0.018801</td>\n",
       "      <td>-9461</td>\n",
       "      <td>-637</td>\n",
       "      <td>-3648.0</td>\n",
       "      <td>-2120</td>\n",
       "      <td>NaN</td>\n",
       "      <td>1</td>\n",
       "      <td>1</td>\n",
       "      <td>0</td>\n",
       "      <td>1</td>\n",
       "      <td>1</td>\n",
       "      <td>0</td>\n",
       "      <td>Laborers</td>\n",
       "      <td>1.0</td>\n",
       "      <td>2</td>\n",
       "      <td>2</td>\n",
       "      <td>WEDNESDAY</td>\n",
       "      <td>10</td>\n",
       "      <td>0</td>\n",
       "      <td>0</td>\n",
       "      <td>0</td>\n",
       "      <td>0</td>\n",
       "      <td>0</td>\n",
       "      <td>0</td>\n",
       "      <td>Business Entity Type 3</td>\n",
       "      <td>0.083037</td>\n",
       "      <td>0.262949</td>\n",
       "      <td>0.139376</td>\n",
       "      <td>0.0247</td>\n",
       "      <td>0.0369</td>\n",
       "      <td>0.9722</td>\n",
       "      <td>0.6192</td>\n",
       "      <td>0.0143</td>\n",
       "      <td>0.00</td>\n",
       "      <td>0.0690</td>\n",
       "      <td>0.0833</td>\n",
       "      <td>0.1250</td>\n",
       "      <td>0.0369</td>\n",
       "      <td>0.0202</td>\n",
       "      <td>0.0190</td>\n",
       "      <td>0.0000</td>\n",
       "      <td>0.0000</td>\n",
       "      <td>0.0252</td>\n",
       "      <td>0.0383</td>\n",
       "      <td>0.9722</td>\n",
       "      <td>0.6341</td>\n",
       "      <td>0.0144</td>\n",
       "      <td>0.0000</td>\n",
       "      <td>0.0690</td>\n",
       "      <td>0.0833</td>\n",
       "      <td>0.1250</td>\n",
       "      <td>0.0377</td>\n",
       "      <td>0.022</td>\n",
       "      <td>0.0198</td>\n",
       "      <td>0.0</td>\n",
       "      <td>0.0</td>\n",
       "      <td>0.0250</td>\n",
       "      <td>0.0369</td>\n",
       "      <td>0.9722</td>\n",
       "      <td>0.6243</td>\n",
       "      <td>0.0144</td>\n",
       "      <td>0.00</td>\n",
       "      <td>0.0690</td>\n",
       "      <td>0.0833</td>\n",
       "      <td>0.1250</td>\n",
       "      <td>0.0375</td>\n",
       "      <td>0.0205</td>\n",
       "      <td>0.0193</td>\n",
       "      <td>0.0000</td>\n",
       "      <td>0.00</td>\n",
       "      <td>reg oper account</td>\n",
       "      <td>block of flats</td>\n",
       "      <td>0.0149</td>\n",
       "      <td>Stone, brick</td>\n",
       "      <td>No</td>\n",
       "      <td>2.0</td>\n",
       "      <td>2.0</td>\n",
       "      <td>2.0</td>\n",
       "      <td>2.0</td>\n",
       "      <td>-1134.0</td>\n",
       "      <td>0</td>\n",
       "      <td>1</td>\n",
       "      <td>0</td>\n",
       "      <td>0</td>\n",
       "      <td>0</td>\n",
       "      <td>0</td>\n",
       "      <td>0</td>\n",
       "      <td>0</td>\n",
       "      <td>0</td>\n",
       "      <td>0</td>\n",
       "      <td>0</td>\n",
       "      <td>0</td>\n",
       "      <td>0</td>\n",
       "      <td>0</td>\n",
       "      <td>0</td>\n",
       "      <td>0</td>\n",
       "      <td>0</td>\n",
       "      <td>0</td>\n",
       "      <td>0</td>\n",
       "      <td>0</td>\n",
       "      <td>0.0</td>\n",
       "      <td>0.0</td>\n",
       "      <td>0.0</td>\n",
       "      <td>0.0</td>\n",
       "      <td>0.0</td>\n",
       "      <td>1.0</td>\n",
       "    </tr>\n",
       "    <tr>\n",
       "      <th>1</th>\n",
       "      <td>100003</td>\n",
       "      <td>0</td>\n",
       "      <td>Cash loans</td>\n",
       "      <td>F</td>\n",
       "      <td>N</td>\n",
       "      <td>N</td>\n",
       "      <td>0</td>\n",
       "      <td>270000.0</td>\n",
       "      <td>1293502.5</td>\n",
       "      <td>35698.5</td>\n",
       "      <td>1129500.0</td>\n",
       "      <td>Family</td>\n",
       "      <td>State servant</td>\n",
       "      <td>Higher education</td>\n",
       "      <td>Married</td>\n",
       "      <td>House / apartment</td>\n",
       "      <td>0.003541</td>\n",
       "      <td>-16765</td>\n",
       "      <td>-1188</td>\n",
       "      <td>-1186.0</td>\n",
       "      <td>-291</td>\n",
       "      <td>NaN</td>\n",
       "      <td>1</td>\n",
       "      <td>1</td>\n",
       "      <td>0</td>\n",
       "      <td>1</td>\n",
       "      <td>1</td>\n",
       "      <td>0</td>\n",
       "      <td>Core staff</td>\n",
       "      <td>2.0</td>\n",
       "      <td>1</td>\n",
       "      <td>1</td>\n",
       "      <td>MONDAY</td>\n",
       "      <td>11</td>\n",
       "      <td>0</td>\n",
       "      <td>0</td>\n",
       "      <td>0</td>\n",
       "      <td>0</td>\n",
       "      <td>0</td>\n",
       "      <td>0</td>\n",
       "      <td>School</td>\n",
       "      <td>0.311267</td>\n",
       "      <td>0.622246</td>\n",
       "      <td>NaN</td>\n",
       "      <td>0.0959</td>\n",
       "      <td>0.0529</td>\n",
       "      <td>0.9851</td>\n",
       "      <td>0.7960</td>\n",
       "      <td>0.0605</td>\n",
       "      <td>0.08</td>\n",
       "      <td>0.0345</td>\n",
       "      <td>0.2917</td>\n",
       "      <td>0.3333</td>\n",
       "      <td>0.0130</td>\n",
       "      <td>0.0773</td>\n",
       "      <td>0.0549</td>\n",
       "      <td>0.0039</td>\n",
       "      <td>0.0098</td>\n",
       "      <td>0.0924</td>\n",
       "      <td>0.0538</td>\n",
       "      <td>0.9851</td>\n",
       "      <td>0.8040</td>\n",
       "      <td>0.0497</td>\n",
       "      <td>0.0806</td>\n",
       "      <td>0.0345</td>\n",
       "      <td>0.2917</td>\n",
       "      <td>0.3333</td>\n",
       "      <td>0.0128</td>\n",
       "      <td>0.079</td>\n",
       "      <td>0.0554</td>\n",
       "      <td>0.0</td>\n",
       "      <td>0.0</td>\n",
       "      <td>0.0968</td>\n",
       "      <td>0.0529</td>\n",
       "      <td>0.9851</td>\n",
       "      <td>0.7987</td>\n",
       "      <td>0.0608</td>\n",
       "      <td>0.08</td>\n",
       "      <td>0.0345</td>\n",
       "      <td>0.2917</td>\n",
       "      <td>0.3333</td>\n",
       "      <td>0.0132</td>\n",
       "      <td>0.0787</td>\n",
       "      <td>0.0558</td>\n",
       "      <td>0.0039</td>\n",
       "      <td>0.01</td>\n",
       "      <td>reg oper account</td>\n",
       "      <td>block of flats</td>\n",
       "      <td>0.0714</td>\n",
       "      <td>Block</td>\n",
       "      <td>No</td>\n",
       "      <td>1.0</td>\n",
       "      <td>0.0</td>\n",
       "      <td>1.0</td>\n",
       "      <td>0.0</td>\n",
       "      <td>-828.0</td>\n",
       "      <td>0</td>\n",
       "      <td>1</td>\n",
       "      <td>0</td>\n",
       "      <td>0</td>\n",
       "      <td>0</td>\n",
       "      <td>0</td>\n",
       "      <td>0</td>\n",
       "      <td>0</td>\n",
       "      <td>0</td>\n",
       "      <td>0</td>\n",
       "      <td>0</td>\n",
       "      <td>0</td>\n",
       "      <td>0</td>\n",
       "      <td>0</td>\n",
       "      <td>0</td>\n",
       "      <td>0</td>\n",
       "      <td>0</td>\n",
       "      <td>0</td>\n",
       "      <td>0</td>\n",
       "      <td>0</td>\n",
       "      <td>0.0</td>\n",
       "      <td>0.0</td>\n",
       "      <td>0.0</td>\n",
       "      <td>0.0</td>\n",
       "      <td>0.0</td>\n",
       "      <td>0.0</td>\n",
       "    </tr>\n",
       "    <tr>\n",
       "      <th>2</th>\n",
       "      <td>100004</td>\n",
       "      <td>0</td>\n",
       "      <td>Revolving loans</td>\n",
       "      <td>M</td>\n",
       "      <td>Y</td>\n",
       "      <td>Y</td>\n",
       "      <td>0</td>\n",
       "      <td>67500.0</td>\n",
       "      <td>135000.0</td>\n",
       "      <td>6750.0</td>\n",
       "      <td>135000.0</td>\n",
       "      <td>Unaccompanied</td>\n",
       "      <td>Working</td>\n",
       "      <td>Secondary / secondary special</td>\n",
       "      <td>Single / not married</td>\n",
       "      <td>House / apartment</td>\n",
       "      <td>0.010032</td>\n",
       "      <td>-19046</td>\n",
       "      <td>-225</td>\n",
       "      <td>-4260.0</td>\n",
       "      <td>-2531</td>\n",
       "      <td>26.0</td>\n",
       "      <td>1</td>\n",
       "      <td>1</td>\n",
       "      <td>1</td>\n",
       "      <td>1</td>\n",
       "      <td>1</td>\n",
       "      <td>0</td>\n",
       "      <td>Laborers</td>\n",
       "      <td>1.0</td>\n",
       "      <td>2</td>\n",
       "      <td>2</td>\n",
       "      <td>MONDAY</td>\n",
       "      <td>9</td>\n",
       "      <td>0</td>\n",
       "      <td>0</td>\n",
       "      <td>0</td>\n",
       "      <td>0</td>\n",
       "      <td>0</td>\n",
       "      <td>0</td>\n",
       "      <td>Government</td>\n",
       "      <td>NaN</td>\n",
       "      <td>0.555912</td>\n",
       "      <td>0.729567</td>\n",
       "      <td>NaN</td>\n",
       "      <td>NaN</td>\n",
       "      <td>NaN</td>\n",
       "      <td>NaN</td>\n",
       "      <td>NaN</td>\n",
       "      <td>NaN</td>\n",
       "      <td>NaN</td>\n",
       "      <td>NaN</td>\n",
       "      <td>NaN</td>\n",
       "      <td>NaN</td>\n",
       "      <td>NaN</td>\n",
       "      <td>NaN</td>\n",
       "      <td>NaN</td>\n",
       "      <td>NaN</td>\n",
       "      <td>NaN</td>\n",
       "      <td>NaN</td>\n",
       "      <td>NaN</td>\n",
       "      <td>NaN</td>\n",
       "      <td>NaN</td>\n",
       "      <td>NaN</td>\n",
       "      <td>NaN</td>\n",
       "      <td>NaN</td>\n",
       "      <td>NaN</td>\n",
       "      <td>NaN</td>\n",
       "      <td>NaN</td>\n",
       "      <td>NaN</td>\n",
       "      <td>NaN</td>\n",
       "      <td>NaN</td>\n",
       "      <td>NaN</td>\n",
       "      <td>NaN</td>\n",
       "      <td>NaN</td>\n",
       "      <td>NaN</td>\n",
       "      <td>NaN</td>\n",
       "      <td>NaN</td>\n",
       "      <td>NaN</td>\n",
       "      <td>NaN</td>\n",
       "      <td>NaN</td>\n",
       "      <td>NaN</td>\n",
       "      <td>NaN</td>\n",
       "      <td>NaN</td>\n",
       "      <td>NaN</td>\n",
       "      <td>NaN</td>\n",
       "      <td>NaN</td>\n",
       "      <td>NaN</td>\n",
       "      <td>NaN</td>\n",
       "      <td>NaN</td>\n",
       "      <td>NaN</td>\n",
       "      <td>0.0</td>\n",
       "      <td>0.0</td>\n",
       "      <td>0.0</td>\n",
       "      <td>0.0</td>\n",
       "      <td>-815.0</td>\n",
       "      <td>0</td>\n",
       "      <td>0</td>\n",
       "      <td>0</td>\n",
       "      <td>0</td>\n",
       "      <td>0</td>\n",
       "      <td>0</td>\n",
       "      <td>0</td>\n",
       "      <td>0</td>\n",
       "      <td>0</td>\n",
       "      <td>0</td>\n",
       "      <td>0</td>\n",
       "      <td>0</td>\n",
       "      <td>0</td>\n",
       "      <td>0</td>\n",
       "      <td>0</td>\n",
       "      <td>0</td>\n",
       "      <td>0</td>\n",
       "      <td>0</td>\n",
       "      <td>0</td>\n",
       "      <td>0</td>\n",
       "      <td>0.0</td>\n",
       "      <td>0.0</td>\n",
       "      <td>0.0</td>\n",
       "      <td>0.0</td>\n",
       "      <td>0.0</td>\n",
       "      <td>0.0</td>\n",
       "    </tr>\n",
       "    <tr>\n",
       "      <th>3</th>\n",
       "      <td>100006</td>\n",
       "      <td>0</td>\n",
       "      <td>Cash loans</td>\n",
       "      <td>F</td>\n",
       "      <td>N</td>\n",
       "      <td>Y</td>\n",
       "      <td>0</td>\n",
       "      <td>135000.0</td>\n",
       "      <td>312682.5</td>\n",
       "      <td>29686.5</td>\n",
       "      <td>297000.0</td>\n",
       "      <td>Unaccompanied</td>\n",
       "      <td>Working</td>\n",
       "      <td>Secondary / secondary special</td>\n",
       "      <td>Civil marriage</td>\n",
       "      <td>House / apartment</td>\n",
       "      <td>0.008019</td>\n",
       "      <td>-19005</td>\n",
       "      <td>-3039</td>\n",
       "      <td>-9833.0</td>\n",
       "      <td>-2437</td>\n",
       "      <td>NaN</td>\n",
       "      <td>1</td>\n",
       "      <td>1</td>\n",
       "      <td>0</td>\n",
       "      <td>1</td>\n",
       "      <td>0</td>\n",
       "      <td>0</td>\n",
       "      <td>Laborers</td>\n",
       "      <td>2.0</td>\n",
       "      <td>2</td>\n",
       "      <td>2</td>\n",
       "      <td>WEDNESDAY</td>\n",
       "      <td>17</td>\n",
       "      <td>0</td>\n",
       "      <td>0</td>\n",
       "      <td>0</td>\n",
       "      <td>0</td>\n",
       "      <td>0</td>\n",
       "      <td>0</td>\n",
       "      <td>Business Entity Type 3</td>\n",
       "      <td>NaN</td>\n",
       "      <td>0.650442</td>\n",
       "      <td>NaN</td>\n",
       "      <td>NaN</td>\n",
       "      <td>NaN</td>\n",
       "      <td>NaN</td>\n",
       "      <td>NaN</td>\n",
       "      <td>NaN</td>\n",
       "      <td>NaN</td>\n",
       "      <td>NaN</td>\n",
       "      <td>NaN</td>\n",
       "      <td>NaN</td>\n",
       "      <td>NaN</td>\n",
       "      <td>NaN</td>\n",
       "      <td>NaN</td>\n",
       "      <td>NaN</td>\n",
       "      <td>NaN</td>\n",
       "      <td>NaN</td>\n",
       "      <td>NaN</td>\n",
       "      <td>NaN</td>\n",
       "      <td>NaN</td>\n",
       "      <td>NaN</td>\n",
       "      <td>NaN</td>\n",
       "      <td>NaN</td>\n",
       "      <td>NaN</td>\n",
       "      <td>NaN</td>\n",
       "      <td>NaN</td>\n",
       "      <td>NaN</td>\n",
       "      <td>NaN</td>\n",
       "      <td>NaN</td>\n",
       "      <td>NaN</td>\n",
       "      <td>NaN</td>\n",
       "      <td>NaN</td>\n",
       "      <td>NaN</td>\n",
       "      <td>NaN</td>\n",
       "      <td>NaN</td>\n",
       "      <td>NaN</td>\n",
       "      <td>NaN</td>\n",
       "      <td>NaN</td>\n",
       "      <td>NaN</td>\n",
       "      <td>NaN</td>\n",
       "      <td>NaN</td>\n",
       "      <td>NaN</td>\n",
       "      <td>NaN</td>\n",
       "      <td>NaN</td>\n",
       "      <td>NaN</td>\n",
       "      <td>NaN</td>\n",
       "      <td>NaN</td>\n",
       "      <td>NaN</td>\n",
       "      <td>NaN</td>\n",
       "      <td>2.0</td>\n",
       "      <td>0.0</td>\n",
       "      <td>2.0</td>\n",
       "      <td>0.0</td>\n",
       "      <td>-617.0</td>\n",
       "      <td>0</td>\n",
       "      <td>1</td>\n",
       "      <td>0</td>\n",
       "      <td>0</td>\n",
       "      <td>0</td>\n",
       "      <td>0</td>\n",
       "      <td>0</td>\n",
       "      <td>0</td>\n",
       "      <td>0</td>\n",
       "      <td>0</td>\n",
       "      <td>0</td>\n",
       "      <td>0</td>\n",
       "      <td>0</td>\n",
       "      <td>0</td>\n",
       "      <td>0</td>\n",
       "      <td>0</td>\n",
       "      <td>0</td>\n",
       "      <td>0</td>\n",
       "      <td>0</td>\n",
       "      <td>0</td>\n",
       "      <td>NaN</td>\n",
       "      <td>NaN</td>\n",
       "      <td>NaN</td>\n",
       "      <td>NaN</td>\n",
       "      <td>NaN</td>\n",
       "      <td>NaN</td>\n",
       "    </tr>\n",
       "    <tr>\n",
       "      <th>4</th>\n",
       "      <td>100007</td>\n",
       "      <td>0</td>\n",
       "      <td>Cash loans</td>\n",
       "      <td>M</td>\n",
       "      <td>N</td>\n",
       "      <td>Y</td>\n",
       "      <td>0</td>\n",
       "      <td>121500.0</td>\n",
       "      <td>513000.0</td>\n",
       "      <td>21865.5</td>\n",
       "      <td>513000.0</td>\n",
       "      <td>Unaccompanied</td>\n",
       "      <td>Working</td>\n",
       "      <td>Secondary / secondary special</td>\n",
       "      <td>Single / not married</td>\n",
       "      <td>House / apartment</td>\n",
       "      <td>0.028663</td>\n",
       "      <td>-19932</td>\n",
       "      <td>-3038</td>\n",
       "      <td>-4311.0</td>\n",
       "      <td>-3458</td>\n",
       "      <td>NaN</td>\n",
       "      <td>1</td>\n",
       "      <td>1</td>\n",
       "      <td>0</td>\n",
       "      <td>1</td>\n",
       "      <td>0</td>\n",
       "      <td>0</td>\n",
       "      <td>Core staff</td>\n",
       "      <td>1.0</td>\n",
       "      <td>2</td>\n",
       "      <td>2</td>\n",
       "      <td>THURSDAY</td>\n",
       "      <td>11</td>\n",
       "      <td>0</td>\n",
       "      <td>0</td>\n",
       "      <td>0</td>\n",
       "      <td>0</td>\n",
       "      <td>1</td>\n",
       "      <td>1</td>\n",
       "      <td>Religion</td>\n",
       "      <td>NaN</td>\n",
       "      <td>0.322738</td>\n",
       "      <td>NaN</td>\n",
       "      <td>NaN</td>\n",
       "      <td>NaN</td>\n",
       "      <td>NaN</td>\n",
       "      <td>NaN</td>\n",
       "      <td>NaN</td>\n",
       "      <td>NaN</td>\n",
       "      <td>NaN</td>\n",
       "      <td>NaN</td>\n",
       "      <td>NaN</td>\n",
       "      <td>NaN</td>\n",
       "      <td>NaN</td>\n",
       "      <td>NaN</td>\n",
       "      <td>NaN</td>\n",
       "      <td>NaN</td>\n",
       "      <td>NaN</td>\n",
       "      <td>NaN</td>\n",
       "      <td>NaN</td>\n",
       "      <td>NaN</td>\n",
       "      <td>NaN</td>\n",
       "      <td>NaN</td>\n",
       "      <td>NaN</td>\n",
       "      <td>NaN</td>\n",
       "      <td>NaN</td>\n",
       "      <td>NaN</td>\n",
       "      <td>NaN</td>\n",
       "      <td>NaN</td>\n",
       "      <td>NaN</td>\n",
       "      <td>NaN</td>\n",
       "      <td>NaN</td>\n",
       "      <td>NaN</td>\n",
       "      <td>NaN</td>\n",
       "      <td>NaN</td>\n",
       "      <td>NaN</td>\n",
       "      <td>NaN</td>\n",
       "      <td>NaN</td>\n",
       "      <td>NaN</td>\n",
       "      <td>NaN</td>\n",
       "      <td>NaN</td>\n",
       "      <td>NaN</td>\n",
       "      <td>NaN</td>\n",
       "      <td>NaN</td>\n",
       "      <td>NaN</td>\n",
       "      <td>NaN</td>\n",
       "      <td>NaN</td>\n",
       "      <td>NaN</td>\n",
       "      <td>NaN</td>\n",
       "      <td>NaN</td>\n",
       "      <td>0.0</td>\n",
       "      <td>0.0</td>\n",
       "      <td>0.0</td>\n",
       "      <td>0.0</td>\n",
       "      <td>-1106.0</td>\n",
       "      <td>0</td>\n",
       "      <td>0</td>\n",
       "      <td>0</td>\n",
       "      <td>0</td>\n",
       "      <td>0</td>\n",
       "      <td>0</td>\n",
       "      <td>1</td>\n",
       "      <td>0</td>\n",
       "      <td>0</td>\n",
       "      <td>0</td>\n",
       "      <td>0</td>\n",
       "      <td>0</td>\n",
       "      <td>0</td>\n",
       "      <td>0</td>\n",
       "      <td>0</td>\n",
       "      <td>0</td>\n",
       "      <td>0</td>\n",
       "      <td>0</td>\n",
       "      <td>0</td>\n",
       "      <td>0</td>\n",
       "      <td>0.0</td>\n",
       "      <td>0.0</td>\n",
       "      <td>0.0</td>\n",
       "      <td>0.0</td>\n",
       "      <td>0.0</td>\n",
       "      <td>0.0</td>\n",
       "    </tr>\n",
       "  </tbody>\n",
       "</table>\n",
       "</div>"
      ],
      "text/plain": [
       "   SK_ID_CURR  TARGET NAME_CONTRACT_TYPE CODE_GENDER FLAG_OWN_CAR  \\\n",
       "0      100002       1         Cash loans           M            N   \n",
       "1      100003       0         Cash loans           F            N   \n",
       "2      100004       0    Revolving loans           M            Y   \n",
       "3      100006       0         Cash loans           F            N   \n",
       "4      100007       0         Cash loans           M            N   \n",
       "\n",
       "  FLAG_OWN_REALTY  CNT_CHILDREN  AMT_INCOME_TOTAL  AMT_CREDIT  AMT_ANNUITY  \\\n",
       "0               Y             0          202500.0    406597.5      24700.5   \n",
       "1               N             0          270000.0   1293502.5      35698.5   \n",
       "2               Y             0           67500.0    135000.0       6750.0   \n",
       "3               Y             0          135000.0    312682.5      29686.5   \n",
       "4               Y             0          121500.0    513000.0      21865.5   \n",
       "\n",
       "   AMT_GOODS_PRICE NAME_TYPE_SUITE NAME_INCOME_TYPE  \\\n",
       "0         351000.0   Unaccompanied          Working   \n",
       "1        1129500.0          Family    State servant   \n",
       "2         135000.0   Unaccompanied          Working   \n",
       "3         297000.0   Unaccompanied          Working   \n",
       "4         513000.0   Unaccompanied          Working   \n",
       "\n",
       "             NAME_EDUCATION_TYPE    NAME_FAMILY_STATUS  NAME_HOUSING_TYPE  \\\n",
       "0  Secondary / secondary special  Single / not married  House / apartment   \n",
       "1               Higher education               Married  House / apartment   \n",
       "2  Secondary / secondary special  Single / not married  House / apartment   \n",
       "3  Secondary / secondary special        Civil marriage  House / apartment   \n",
       "4  Secondary / secondary special  Single / not married  House / apartment   \n",
       "\n",
       "   REGION_POPULATION_RELATIVE  DAYS_BIRTH  DAYS_EMPLOYED  DAYS_REGISTRATION  \\\n",
       "0                    0.018801       -9461           -637            -3648.0   \n",
       "1                    0.003541      -16765          -1188            -1186.0   \n",
       "2                    0.010032      -19046           -225            -4260.0   \n",
       "3                    0.008019      -19005          -3039            -9833.0   \n",
       "4                    0.028663      -19932          -3038            -4311.0   \n",
       "\n",
       "   DAYS_ID_PUBLISH  OWN_CAR_AGE  FLAG_MOBIL  FLAG_EMP_PHONE  FLAG_WORK_PHONE  \\\n",
       "0            -2120          NaN           1               1                0   \n",
       "1             -291          NaN           1               1                0   \n",
       "2            -2531         26.0           1               1                1   \n",
       "3            -2437          NaN           1               1                0   \n",
       "4            -3458          NaN           1               1                0   \n",
       "\n",
       "   FLAG_CONT_MOBILE  FLAG_PHONE  FLAG_EMAIL OCCUPATION_TYPE  CNT_FAM_MEMBERS  \\\n",
       "0                 1           1           0        Laborers              1.0   \n",
       "1                 1           1           0      Core staff              2.0   \n",
       "2                 1           1           0        Laborers              1.0   \n",
       "3                 1           0           0        Laborers              2.0   \n",
       "4                 1           0           0      Core staff              1.0   \n",
       "\n",
       "   REGION_RATING_CLIENT  REGION_RATING_CLIENT_W_CITY  \\\n",
       "0                     2                            2   \n",
       "1                     1                            1   \n",
       "2                     2                            2   \n",
       "3                     2                            2   \n",
       "4                     2                            2   \n",
       "\n",
       "  WEEKDAY_APPR_PROCESS_START  HOUR_APPR_PROCESS_START  \\\n",
       "0                  WEDNESDAY                       10   \n",
       "1                     MONDAY                       11   \n",
       "2                     MONDAY                        9   \n",
       "3                  WEDNESDAY                       17   \n",
       "4                   THURSDAY                       11   \n",
       "\n",
       "   REG_REGION_NOT_LIVE_REGION  REG_REGION_NOT_WORK_REGION  \\\n",
       "0                           0                           0   \n",
       "1                           0                           0   \n",
       "2                           0                           0   \n",
       "3                           0                           0   \n",
       "4                           0                           0   \n",
       "\n",
       "   LIVE_REGION_NOT_WORK_REGION  REG_CITY_NOT_LIVE_CITY  \\\n",
       "0                            0                       0   \n",
       "1                            0                       0   \n",
       "2                            0                       0   \n",
       "3                            0                       0   \n",
       "4                            0                       0   \n",
       "\n",
       "   REG_CITY_NOT_WORK_CITY  LIVE_CITY_NOT_WORK_CITY       ORGANIZATION_TYPE  \\\n",
       "0                       0                        0  Business Entity Type 3   \n",
       "1                       0                        0                  School   \n",
       "2                       0                        0              Government   \n",
       "3                       0                        0  Business Entity Type 3   \n",
       "4                       1                        1                Religion   \n",
       "\n",
       "   EXT_SOURCE_1  EXT_SOURCE_2  EXT_SOURCE_3  APARTMENTS_AVG  BASEMENTAREA_AVG  \\\n",
       "0      0.083037      0.262949      0.139376          0.0247            0.0369   \n",
       "1      0.311267      0.622246           NaN          0.0959            0.0529   \n",
       "2           NaN      0.555912      0.729567             NaN               NaN   \n",
       "3           NaN      0.650442           NaN             NaN               NaN   \n",
       "4           NaN      0.322738           NaN             NaN               NaN   \n",
       "\n",
       "   YEARS_BEGINEXPLUATATION_AVG  YEARS_BUILD_AVG  COMMONAREA_AVG  \\\n",
       "0                       0.9722           0.6192          0.0143   \n",
       "1                       0.9851           0.7960          0.0605   \n",
       "2                          NaN              NaN             NaN   \n",
       "3                          NaN              NaN             NaN   \n",
       "4                          NaN              NaN             NaN   \n",
       "\n",
       "   ELEVATORS_AVG  ENTRANCES_AVG  FLOORSMAX_AVG  FLOORSMIN_AVG  LANDAREA_AVG  \\\n",
       "0           0.00         0.0690         0.0833         0.1250        0.0369   \n",
       "1           0.08         0.0345         0.2917         0.3333        0.0130   \n",
       "2            NaN            NaN            NaN            NaN           NaN   \n",
       "3            NaN            NaN            NaN            NaN           NaN   \n",
       "4            NaN            NaN            NaN            NaN           NaN   \n",
       "\n",
       "   LIVINGAPARTMENTS_AVG  LIVINGAREA_AVG  NONLIVINGAPARTMENTS_AVG  \\\n",
       "0                0.0202          0.0190                   0.0000   \n",
       "1                0.0773          0.0549                   0.0039   \n",
       "2                   NaN             NaN                      NaN   \n",
       "3                   NaN             NaN                      NaN   \n",
       "4                   NaN             NaN                      NaN   \n",
       "\n",
       "   NONLIVINGAREA_AVG  APARTMENTS_MODE  BASEMENTAREA_MODE  \\\n",
       "0             0.0000           0.0252             0.0383   \n",
       "1             0.0098           0.0924             0.0538   \n",
       "2                NaN              NaN                NaN   \n",
       "3                NaN              NaN                NaN   \n",
       "4                NaN              NaN                NaN   \n",
       "\n",
       "   YEARS_BEGINEXPLUATATION_MODE  YEARS_BUILD_MODE  COMMONAREA_MODE  \\\n",
       "0                        0.9722            0.6341           0.0144   \n",
       "1                        0.9851            0.8040           0.0497   \n",
       "2                           NaN               NaN              NaN   \n",
       "3                           NaN               NaN              NaN   \n",
       "4                           NaN               NaN              NaN   \n",
       "\n",
       "   ELEVATORS_MODE  ENTRANCES_MODE  FLOORSMAX_MODE  FLOORSMIN_MODE  \\\n",
       "0          0.0000          0.0690          0.0833          0.1250   \n",
       "1          0.0806          0.0345          0.2917          0.3333   \n",
       "2             NaN             NaN             NaN             NaN   \n",
       "3             NaN             NaN             NaN             NaN   \n",
       "4             NaN             NaN             NaN             NaN   \n",
       "\n",
       "   LANDAREA_MODE  LIVINGAPARTMENTS_MODE  LIVINGAREA_MODE  \\\n",
       "0         0.0377                  0.022           0.0198   \n",
       "1         0.0128                  0.079           0.0554   \n",
       "2            NaN                    NaN              NaN   \n",
       "3            NaN                    NaN              NaN   \n",
       "4            NaN                    NaN              NaN   \n",
       "\n",
       "   NONLIVINGAPARTMENTS_MODE  NONLIVINGAREA_MODE  APARTMENTS_MEDI  \\\n",
       "0                       0.0                 0.0           0.0250   \n",
       "1                       0.0                 0.0           0.0968   \n",
       "2                       NaN                 NaN              NaN   \n",
       "3                       NaN                 NaN              NaN   \n",
       "4                       NaN                 NaN              NaN   \n",
       "\n",
       "   BASEMENTAREA_MEDI  YEARS_BEGINEXPLUATATION_MEDI  YEARS_BUILD_MEDI  \\\n",
       "0             0.0369                        0.9722            0.6243   \n",
       "1             0.0529                        0.9851            0.7987   \n",
       "2                NaN                           NaN               NaN   \n",
       "3                NaN                           NaN               NaN   \n",
       "4                NaN                           NaN               NaN   \n",
       "\n",
       "   COMMONAREA_MEDI  ELEVATORS_MEDI  ENTRANCES_MEDI  FLOORSMAX_MEDI  \\\n",
       "0           0.0144            0.00          0.0690          0.0833   \n",
       "1           0.0608            0.08          0.0345          0.2917   \n",
       "2              NaN             NaN             NaN             NaN   \n",
       "3              NaN             NaN             NaN             NaN   \n",
       "4              NaN             NaN             NaN             NaN   \n",
       "\n",
       "   FLOORSMIN_MEDI  LANDAREA_MEDI  LIVINGAPARTMENTS_MEDI  LIVINGAREA_MEDI  \\\n",
       "0          0.1250         0.0375                 0.0205           0.0193   \n",
       "1          0.3333         0.0132                 0.0787           0.0558   \n",
       "2             NaN            NaN                    NaN              NaN   \n",
       "3             NaN            NaN                    NaN              NaN   \n",
       "4             NaN            NaN                    NaN              NaN   \n",
       "\n",
       "   NONLIVINGAPARTMENTS_MEDI  NONLIVINGAREA_MEDI FONDKAPREMONT_MODE  \\\n",
       "0                    0.0000                0.00   reg oper account   \n",
       "1                    0.0039                0.01   reg oper account   \n",
       "2                       NaN                 NaN                NaN   \n",
       "3                       NaN                 NaN                NaN   \n",
       "4                       NaN                 NaN                NaN   \n",
       "\n",
       "   HOUSETYPE_MODE  TOTALAREA_MODE WALLSMATERIAL_MODE EMERGENCYSTATE_MODE  \\\n",
       "0  block of flats          0.0149       Stone, brick                  No   \n",
       "1  block of flats          0.0714              Block                  No   \n",
       "2             NaN             NaN                NaN                 NaN   \n",
       "3             NaN             NaN                NaN                 NaN   \n",
       "4             NaN             NaN                NaN                 NaN   \n",
       "\n",
       "   OBS_30_CNT_SOCIAL_CIRCLE  DEF_30_CNT_SOCIAL_CIRCLE  \\\n",
       "0                       2.0                       2.0   \n",
       "1                       1.0                       0.0   \n",
       "2                       0.0                       0.0   \n",
       "3                       2.0                       0.0   \n",
       "4                       0.0                       0.0   \n",
       "\n",
       "   OBS_60_CNT_SOCIAL_CIRCLE  DEF_60_CNT_SOCIAL_CIRCLE  DAYS_LAST_PHONE_CHANGE  \\\n",
       "0                       2.0                       2.0                 -1134.0   \n",
       "1                       1.0                       0.0                  -828.0   \n",
       "2                       0.0                       0.0                  -815.0   \n",
       "3                       2.0                       0.0                  -617.0   \n",
       "4                       0.0                       0.0                 -1106.0   \n",
       "\n",
       "   FLAG_DOCUMENT_2  FLAG_DOCUMENT_3  FLAG_DOCUMENT_4  FLAG_DOCUMENT_5  \\\n",
       "0                0                1                0                0   \n",
       "1                0                1                0                0   \n",
       "2                0                0                0                0   \n",
       "3                0                1                0                0   \n",
       "4                0                0                0                0   \n",
       "\n",
       "   FLAG_DOCUMENT_6  FLAG_DOCUMENT_7  FLAG_DOCUMENT_8  FLAG_DOCUMENT_9  \\\n",
       "0                0                0                0                0   \n",
       "1                0                0                0                0   \n",
       "2                0                0                0                0   \n",
       "3                0                0                0                0   \n",
       "4                0                0                1                0   \n",
       "\n",
       "   FLAG_DOCUMENT_10  FLAG_DOCUMENT_11  FLAG_DOCUMENT_12  FLAG_DOCUMENT_13  \\\n",
       "0                 0                 0                 0                 0   \n",
       "1                 0                 0                 0                 0   \n",
       "2                 0                 0                 0                 0   \n",
       "3                 0                 0                 0                 0   \n",
       "4                 0                 0                 0                 0   \n",
       "\n",
       "   FLAG_DOCUMENT_14  FLAG_DOCUMENT_15  FLAG_DOCUMENT_16  FLAG_DOCUMENT_17  \\\n",
       "0                 0                 0                 0                 0   \n",
       "1                 0                 0                 0                 0   \n",
       "2                 0                 0                 0                 0   \n",
       "3                 0                 0                 0                 0   \n",
       "4                 0                 0                 0                 0   \n",
       "\n",
       "   FLAG_DOCUMENT_18  FLAG_DOCUMENT_19  FLAG_DOCUMENT_20  FLAG_DOCUMENT_21  \\\n",
       "0                 0                 0                 0                 0   \n",
       "1                 0                 0                 0                 0   \n",
       "2                 0                 0                 0                 0   \n",
       "3                 0                 0                 0                 0   \n",
       "4                 0                 0                 0                 0   \n",
       "\n",
       "   AMT_REQ_CREDIT_BUREAU_HOUR  AMT_REQ_CREDIT_BUREAU_DAY  \\\n",
       "0                         0.0                        0.0   \n",
       "1                         0.0                        0.0   \n",
       "2                         0.0                        0.0   \n",
       "3                         NaN                        NaN   \n",
       "4                         0.0                        0.0   \n",
       "\n",
       "   AMT_REQ_CREDIT_BUREAU_WEEK  AMT_REQ_CREDIT_BUREAU_MON  \\\n",
       "0                         0.0                        0.0   \n",
       "1                         0.0                        0.0   \n",
       "2                         0.0                        0.0   \n",
       "3                         NaN                        NaN   \n",
       "4                         0.0                        0.0   \n",
       "\n",
       "   AMT_REQ_CREDIT_BUREAU_QRT  AMT_REQ_CREDIT_BUREAU_YEAR  \n",
       "0                        0.0                         1.0  \n",
       "1                        0.0                         0.0  \n",
       "2                        0.0                         0.0  \n",
       "3                        NaN                         NaN  \n",
       "4                        0.0                         0.0  "
      ]
     },
     "execution_count": 6,
     "metadata": {},
     "output_type": "execute_result"
    }
   ],
   "source": [
    "df1.head()"
   ]
  },
  {
   "cell_type": "markdown",
   "metadata": {},
   "source": [
    "## show all column info"
   ]
  },
  {
   "cell_type": "code",
   "execution_count": 7,
   "metadata": {},
   "outputs": [
    {
     "name": "stdout",
     "output_type": "stream",
     "text": [
      "<class 'pandas.core.frame.DataFrame'>\n",
      "RangeIndex: 307511 entries, 0 to 307510\n",
      "Data columns (total 122 columns):\n",
      " #   Column                        Non-Null Count   Dtype  \n",
      "---  ------                        --------------   -----  \n",
      " 0   SK_ID_CURR                    307511 non-null  int64  \n",
      " 1   TARGET                        307511 non-null  int64  \n",
      " 2   NAME_CONTRACT_TYPE            307511 non-null  object \n",
      " 3   CODE_GENDER                   307511 non-null  object \n",
      " 4   FLAG_OWN_CAR                  307511 non-null  object \n",
      " 5   FLAG_OWN_REALTY               307511 non-null  object \n",
      " 6   CNT_CHILDREN                  307511 non-null  int64  \n",
      " 7   AMT_INCOME_TOTAL              307511 non-null  float64\n",
      " 8   AMT_CREDIT                    307511 non-null  float64\n",
      " 9   AMT_ANNUITY                   307499 non-null  float64\n",
      " 10  AMT_GOODS_PRICE               307233 non-null  float64\n",
      " 11  NAME_TYPE_SUITE               306219 non-null  object \n",
      " 12  NAME_INCOME_TYPE              307511 non-null  object \n",
      " 13  NAME_EDUCATION_TYPE           307511 non-null  object \n",
      " 14  NAME_FAMILY_STATUS            307511 non-null  object \n",
      " 15  NAME_HOUSING_TYPE             307511 non-null  object \n",
      " 16  REGION_POPULATION_RELATIVE    307511 non-null  float64\n",
      " 17  DAYS_BIRTH                    307511 non-null  int64  \n",
      " 18  DAYS_EMPLOYED                 307511 non-null  int64  \n",
      " 19  DAYS_REGISTRATION             307511 non-null  float64\n",
      " 20  DAYS_ID_PUBLISH               307511 non-null  int64  \n",
      " 21  OWN_CAR_AGE                   104582 non-null  float64\n",
      " 22  FLAG_MOBIL                    307511 non-null  int64  \n",
      " 23  FLAG_EMP_PHONE                307511 non-null  int64  \n",
      " 24  FLAG_WORK_PHONE               307511 non-null  int64  \n",
      " 25  FLAG_CONT_MOBILE              307511 non-null  int64  \n",
      " 26  FLAG_PHONE                    307511 non-null  int64  \n",
      " 27  FLAG_EMAIL                    307511 non-null  int64  \n",
      " 28  OCCUPATION_TYPE               211120 non-null  object \n",
      " 29  CNT_FAM_MEMBERS               307509 non-null  float64\n",
      " 30  REGION_RATING_CLIENT          307511 non-null  int64  \n",
      " 31  REGION_RATING_CLIENT_W_CITY   307511 non-null  int64  \n",
      " 32  WEEKDAY_APPR_PROCESS_START    307511 non-null  object \n",
      " 33  HOUR_APPR_PROCESS_START       307511 non-null  int64  \n",
      " 34  REG_REGION_NOT_LIVE_REGION    307511 non-null  int64  \n",
      " 35  REG_REGION_NOT_WORK_REGION    307511 non-null  int64  \n",
      " 36  LIVE_REGION_NOT_WORK_REGION   307511 non-null  int64  \n",
      " 37  REG_CITY_NOT_LIVE_CITY        307511 non-null  int64  \n",
      " 38  REG_CITY_NOT_WORK_CITY        307511 non-null  int64  \n",
      " 39  LIVE_CITY_NOT_WORK_CITY       307511 non-null  int64  \n",
      " 40  ORGANIZATION_TYPE             307511 non-null  object \n",
      " 41  EXT_SOURCE_1                  134133 non-null  float64\n",
      " 42  EXT_SOURCE_2                  306851 non-null  float64\n",
      " 43  EXT_SOURCE_3                  246546 non-null  float64\n",
      " 44  APARTMENTS_AVG                151450 non-null  float64\n",
      " 45  BASEMENTAREA_AVG              127568 non-null  float64\n",
      " 46  YEARS_BEGINEXPLUATATION_AVG   157504 non-null  float64\n",
      " 47  YEARS_BUILD_AVG               103023 non-null  float64\n",
      " 48  COMMONAREA_AVG                92646 non-null   float64\n",
      " 49  ELEVATORS_AVG                 143620 non-null  float64\n",
      " 50  ENTRANCES_AVG                 152683 non-null  float64\n",
      " 51  FLOORSMAX_AVG                 154491 non-null  float64\n",
      " 52  FLOORSMIN_AVG                 98869 non-null   float64\n",
      " 53  LANDAREA_AVG                  124921 non-null  float64\n",
      " 54  LIVINGAPARTMENTS_AVG          97312 non-null   float64\n",
      " 55  LIVINGAREA_AVG                153161 non-null  float64\n",
      " 56  NONLIVINGAPARTMENTS_AVG       93997 non-null   float64\n",
      " 57  NONLIVINGAREA_AVG             137829 non-null  float64\n",
      " 58  APARTMENTS_MODE               151450 non-null  float64\n",
      " 59  BASEMENTAREA_MODE             127568 non-null  float64\n",
      " 60  YEARS_BEGINEXPLUATATION_MODE  157504 non-null  float64\n",
      " 61  YEARS_BUILD_MODE              103023 non-null  float64\n",
      " 62  COMMONAREA_MODE               92646 non-null   float64\n",
      " 63  ELEVATORS_MODE                143620 non-null  float64\n",
      " 64  ENTRANCES_MODE                152683 non-null  float64\n",
      " 65  FLOORSMAX_MODE                154491 non-null  float64\n",
      " 66  FLOORSMIN_MODE                98869 non-null   float64\n",
      " 67  LANDAREA_MODE                 124921 non-null  float64\n",
      " 68  LIVINGAPARTMENTS_MODE         97312 non-null   float64\n",
      " 69  LIVINGAREA_MODE               153161 non-null  float64\n",
      " 70  NONLIVINGAPARTMENTS_MODE      93997 non-null   float64\n",
      " 71  NONLIVINGAREA_MODE            137829 non-null  float64\n",
      " 72  APARTMENTS_MEDI               151450 non-null  float64\n",
      " 73  BASEMENTAREA_MEDI             127568 non-null  float64\n",
      " 74  YEARS_BEGINEXPLUATATION_MEDI  157504 non-null  float64\n",
      " 75  YEARS_BUILD_MEDI              103023 non-null  float64\n",
      " 76  COMMONAREA_MEDI               92646 non-null   float64\n",
      " 77  ELEVATORS_MEDI                143620 non-null  float64\n",
      " 78  ENTRANCES_MEDI                152683 non-null  float64\n",
      " 79  FLOORSMAX_MEDI                154491 non-null  float64\n",
      " 80  FLOORSMIN_MEDI                98869 non-null   float64\n",
      " 81  LANDAREA_MEDI                 124921 non-null  float64\n",
      " 82  LIVINGAPARTMENTS_MEDI         97312 non-null   float64\n",
      " 83  LIVINGAREA_MEDI               153161 non-null  float64\n",
      " 84  NONLIVINGAPARTMENTS_MEDI      93997 non-null   float64\n",
      " 85  NONLIVINGAREA_MEDI            137829 non-null  float64\n",
      " 86  FONDKAPREMONT_MODE            97216 non-null   object \n",
      " 87  HOUSETYPE_MODE                153214 non-null  object \n",
      " 88  TOTALAREA_MODE                159080 non-null  float64\n",
      " 89  WALLSMATERIAL_MODE            151170 non-null  object \n",
      " 90  EMERGENCYSTATE_MODE           161756 non-null  object \n",
      " 91  OBS_30_CNT_SOCIAL_CIRCLE      306490 non-null  float64\n",
      " 92  DEF_30_CNT_SOCIAL_CIRCLE      306490 non-null  float64\n",
      " 93  OBS_60_CNT_SOCIAL_CIRCLE      306490 non-null  float64\n",
      " 94  DEF_60_CNT_SOCIAL_CIRCLE      306490 non-null  float64\n",
      " 95  DAYS_LAST_PHONE_CHANGE        307510 non-null  float64\n",
      " 96  FLAG_DOCUMENT_2               307511 non-null  int64  \n",
      " 97  FLAG_DOCUMENT_3               307511 non-null  int64  \n",
      " 98  FLAG_DOCUMENT_4               307511 non-null  int64  \n",
      " 99  FLAG_DOCUMENT_5               307511 non-null  int64  \n",
      " 100 FLAG_DOCUMENT_6               307511 non-null  int64  \n",
      " 101 FLAG_DOCUMENT_7               307511 non-null  int64  \n",
      " 102 FLAG_DOCUMENT_8               307511 non-null  int64  \n",
      " 103 FLAG_DOCUMENT_9               307511 non-null  int64  \n",
      " 104 FLAG_DOCUMENT_10              307511 non-null  int64  \n",
      " 105 FLAG_DOCUMENT_11              307511 non-null  int64  \n",
      " 106 FLAG_DOCUMENT_12              307511 non-null  int64  \n",
      " 107 FLAG_DOCUMENT_13              307511 non-null  int64  \n",
      " 108 FLAG_DOCUMENT_14              307511 non-null  int64  \n",
      " 109 FLAG_DOCUMENT_15              307511 non-null  int64  \n",
      " 110 FLAG_DOCUMENT_16              307511 non-null  int64  \n",
      " 111 FLAG_DOCUMENT_17              307511 non-null  int64  \n",
      " 112 FLAG_DOCUMENT_18              307511 non-null  int64  \n",
      " 113 FLAG_DOCUMENT_19              307511 non-null  int64  \n",
      " 114 FLAG_DOCUMENT_20              307511 non-null  int64  \n",
      " 115 FLAG_DOCUMENT_21              307511 non-null  int64  \n",
      " 116 AMT_REQ_CREDIT_BUREAU_HOUR    265992 non-null  float64\n",
      " 117 AMT_REQ_CREDIT_BUREAU_DAY     265992 non-null  float64\n",
      " 118 AMT_REQ_CREDIT_BUREAU_WEEK    265992 non-null  float64\n",
      " 119 AMT_REQ_CREDIT_BUREAU_MON     265992 non-null  float64\n",
      " 120 AMT_REQ_CREDIT_BUREAU_QRT     265992 non-null  float64\n",
      " 121 AMT_REQ_CREDIT_BUREAU_YEAR    265992 non-null  float64\n",
      "dtypes: float64(65), int64(41), object(16)\n",
      "memory usage: 286.2+ MB\n"
     ]
    }
   ],
   "source": [
    "# Display all columns with datatypes\n",
    "df1.info(max_cols=125)"
   ]
  },
  {
   "cell_type": "markdown",
   "metadata": {},
   "source": [
    "### Remove Column more then 50% null, also drop unused column"
   ]
  },
  {
   "cell_type": "code",
   "execution_count": 8,
   "metadata": {},
   "outputs": [],
   "source": [
    "\n",
    "\n",
    "# Remove Columns which are more then 50% of null values\n",
    "df1 = df1.loc[:, df1.isnull().mean() < .5]\n",
    "\n",
    "# Remove unused column\n",
    "df1.drop(['FLAG_EMAIL','FLAG_PHONE', 'AMT_REQ_CREDIT_BUREAU_HOUR', 'AMT_REQ_CREDIT_BUREAU_DAY',\n",
    "       'AMT_REQ_CREDIT_BUREAU_WEEK', 'AMT_REQ_CREDIT_BUREAU_MON',\n",
    "       'AMT_REQ_CREDIT_BUREAU_QRT', 'AMT_REQ_CREDIT_BUREAU_YEAR',\n",
    "        'REGION_POPULATION_RELATIVE', 'FLAG_EMP_PHONE','FLAG_WORK_PHONE','FLAG_CONT_MOBILE',\n",
    "         'REGION_RATING_CLIENT_W_CITY', 'WEEKDAY_APPR_PROCESS_START', 'HOUR_APPR_PROCESS_START', 'REG_REGION_NOT_LIVE_REGION',\n",
    "         'REG_REGION_NOT_WORK_REGION','LIVE_REGION_NOT_WORK_REGION', 'REG_CITY_NOT_LIVE_CITY', 'REG_CITY_NOT_WORK_CITY',\n",
    "         'LIVE_CITY_NOT_WORK_CITY','YEARS_BEGINEXPLUATATION_AVG','FLOORSMAX_AVG',\n",
    "         'YEARS_BEGINEXPLUATATION_MODE','FLOORSMAX_MODE','YEARS_BEGINEXPLUATATION_MEDI','FLOORSMAX_MEDI','TOTALAREA_MODE',\n",
    "         'EMERGENCYSTATE_MODE','OBS_30_CNT_SOCIAL_CIRCLE','DEF_30_CNT_SOCIAL_CIRCLE','OBS_60_CNT_SOCIAL_CIRCLE','DEF_60_CNT_SOCIAL_CIRCLE',\n",
    "         'DAYS_LAST_PHONE_CHANGE','FLAG_DOCUMENT_3', 'FLAG_DOCUMENT_4',\n",
    "       'FLAG_DOCUMENT_5', 'FLAG_DOCUMENT_6', 'FLAG_DOCUMENT_7',\n",
    "       'FLAG_DOCUMENT_8', 'FLAG_DOCUMENT_9', 'FLAG_DOCUMENT_10',\n",
    "       'FLAG_DOCUMENT_11', 'FLAG_DOCUMENT_12', 'FLAG_DOCUMENT_13',\n",
    "       'FLAG_DOCUMENT_14', 'FLAG_DOCUMENT_15', 'FLAG_DOCUMENT_16',\n",
    "       'FLAG_DOCUMENT_17', 'FLAG_DOCUMENT_18', 'FLAG_DOCUMENT_19',\n",
    "       'FLAG_DOCUMENT_20', 'FLAG_DOCUMENT_21'], axis=1, inplace=True)\n"
   ]
  },
  {
   "cell_type": "markdown",
   "metadata": {},
   "source": [
    "### Impute the columns with 'Mode' value"
   ]
  },
  {
   "cell_type": "code",
   "execution_count": 9,
   "metadata": {},
   "outputs": [],
   "source": [
    "# impute Rows\n",
    "mode_value1 = df1.NAME_TYPE_SUITE.mode()[0]\n",
    "df1['NAME_TYPE_SUITE'].fillna(mode_value1, inplace=True)\n",
    "df1.EXT_SOURCE_2.fillna(df1.EXT_SOURCE_2.mode()[0], inplace=True)\n",
    "df1.OCCUPATION_TYPE.fillna('Blank Occupation', inplace=True)\n",
    "# Remove row\n",
    "df1 = df1[~np.isnan(df1['EXT_SOURCE_3'])]\n",
    "\n",
    "# Impute Row\n",
    "df1['NAME_TYPE_SUITE'].fillna(df1.AMT_GOODS_PRICE.mode()[0], inplace=True)"
   ]
  },
  {
   "cell_type": "markdown",
   "metadata": {},
   "source": [
    "### Calucate Null % of columns"
   ]
  },
  {
   "cell_type": "code",
   "execution_count": 10,
   "metadata": {},
   "outputs": [
    {
     "data": {
      "text/plain": [
       "SK_ID_CURR              0.00\n",
       "TARGET                  0.00\n",
       "NAME_CONTRACT_TYPE      0.00\n",
       "CODE_GENDER             0.00\n",
       "FLAG_OWN_CAR            0.00\n",
       "FLAG_OWN_REALTY         0.00\n",
       "CNT_CHILDREN            0.00\n",
       "AMT_INCOME_TOTAL        0.00\n",
       "AMT_CREDIT              0.00\n",
       "AMT_ANNUITY             0.00\n",
       "AMT_GOODS_PRICE         0.09\n",
       "NAME_TYPE_SUITE         0.00\n",
       "NAME_INCOME_TYPE        0.00\n",
       "NAME_EDUCATION_TYPE     0.00\n",
       "NAME_FAMILY_STATUS      0.00\n",
       "NAME_HOUSING_TYPE       0.00\n",
       "DAYS_BIRTH              0.00\n",
       "DAYS_EMPLOYED           0.00\n",
       "DAYS_REGISTRATION       0.00\n",
       "DAYS_ID_PUBLISH         0.00\n",
       "FLAG_MOBIL              0.00\n",
       "OCCUPATION_TYPE         0.00\n",
       "CNT_FAM_MEMBERS         0.00\n",
       "REGION_RATING_CLIENT    0.00\n",
       "ORGANIZATION_TYPE       0.00\n",
       "EXT_SOURCE_2            0.00\n",
       "EXT_SOURCE_3            0.00\n",
       "FLAG_DOCUMENT_2         0.00\n",
       "dtype: float64"
      ]
     },
     "execution_count": 10,
     "metadata": {},
     "output_type": "execute_result"
    }
   ],
   "source": [
    "# Find the null value % of columns\n",
    "round(df1.isnull().mean() *100, 2)\n",
    "# df1.columns"
   ]
  },
  {
   "cell_type": "markdown",
   "metadata": {},
   "source": [
    "### Change data type of the Target Column"
   ]
  },
  {
   "cell_type": "code",
   "execution_count": 11,
   "metadata": {},
   "outputs": [
    {
     "name": "stdout",
     "output_type": "stream",
     "text": [
      "<class 'pandas.core.frame.DataFrame'>\n",
      "Int64Index: 246546 entries, 0 to 307510\n",
      "Data columns (total 28 columns):\n",
      " #   Column                Non-Null Count   Dtype  \n",
      "---  ------                --------------   -----  \n",
      " 0   SK_ID_CURR            246546 non-null  int64  \n",
      " 1   TARGET                246546 non-null  object \n",
      " 2   NAME_CONTRACT_TYPE    246546 non-null  object \n",
      " 3   CODE_GENDER           246546 non-null  object \n",
      " 4   FLAG_OWN_CAR          246546 non-null  object \n",
      " 5   FLAG_OWN_REALTY       246546 non-null  object \n",
      " 6   CNT_CHILDREN          246546 non-null  int64  \n",
      " 7   AMT_INCOME_TOTAL      246546 non-null  float64\n",
      " 8   AMT_CREDIT            246546 non-null  float64\n",
      " 9   AMT_ANNUITY           246535 non-null  float64\n",
      " 10  AMT_GOODS_PRICE       246336 non-null  float64\n",
      " 11  NAME_TYPE_SUITE       246546 non-null  object \n",
      " 12  NAME_INCOME_TYPE      246546 non-null  object \n",
      " 13  NAME_EDUCATION_TYPE   246546 non-null  object \n",
      " 14  NAME_FAMILY_STATUS    246546 non-null  object \n",
      " 15  NAME_HOUSING_TYPE     246546 non-null  object \n",
      " 16  DAYS_BIRTH            246546 non-null  int64  \n",
      " 17  DAYS_EMPLOYED         246546 non-null  int64  \n",
      " 18  DAYS_REGISTRATION     246546 non-null  float64\n",
      " 19  DAYS_ID_PUBLISH       246546 non-null  int64  \n",
      " 20  FLAG_MOBIL            246546 non-null  int64  \n",
      " 21  OCCUPATION_TYPE       246546 non-null  object \n",
      " 22  CNT_FAM_MEMBERS       246545 non-null  float64\n",
      " 23  REGION_RATING_CLIENT  246546 non-null  int64  \n",
      " 24  ORGANIZATION_TYPE     246546 non-null  object \n",
      " 25  EXT_SOURCE_2          246546 non-null  float64\n",
      " 26  EXT_SOURCE_3          246546 non-null  float64\n",
      " 27  FLAG_DOCUMENT_2       246546 non-null  int64  \n",
      "dtypes: float64(8), int64(8), object(12)\n",
      "memory usage: 54.5+ MB\n"
     ]
    }
   ],
   "source": [
    "# change data type\n",
    "df1.TARGET = df1.TARGET.astype(object)\n",
    "# print(df1.CNT_CHILDREN.value_counts())\n",
    "df1.info()"
   ]
  },
  {
   "cell_type": "markdown",
   "metadata": {},
   "source": [
    "### Rename the columns and Treat the columns values"
   ]
  },
  {
   "cell_type": "code",
   "execution_count": 12,
   "metadata": {},
   "outputs": [
    {
     "data": {
      "text/html": [
       "<div>\n",
       "<style scoped>\n",
       "    .dataframe tbody tr th:only-of-type {\n",
       "        vertical-align: middle;\n",
       "    }\n",
       "\n",
       "    .dataframe tbody tr th {\n",
       "        vertical-align: top;\n",
       "    }\n",
       "\n",
       "    .dataframe thead th {\n",
       "        text-align: right;\n",
       "    }\n",
       "</style>\n",
       "<table border=\"1\" class=\"dataframe\">\n",
       "  <thead>\n",
       "    <tr style=\"text-align: right;\">\n",
       "      <th></th>\n",
       "      <th>SK_ID_CURR</th>\n",
       "      <th>TARGET</th>\n",
       "      <th>NAME_CONTRACT_TYPE</th>\n",
       "      <th>CODE_GENDER</th>\n",
       "      <th>FLAG_OWN_CAR</th>\n",
       "      <th>FLAG_OWN_REALTY</th>\n",
       "      <th>CNT_CHILDREN</th>\n",
       "      <th>AMT_INCOME_TOTAL</th>\n",
       "      <th>AMT_CREDIT</th>\n",
       "      <th>AMT_ANNUITY</th>\n",
       "      <th>AMT_GOODS_PRICE</th>\n",
       "      <th>NAME_TYPE_SUITE</th>\n",
       "      <th>NAME_INCOME_TYPE</th>\n",
       "      <th>NAME_EDUCATION_TYPE</th>\n",
       "      <th>NAME_FAMILY_STATUS</th>\n",
       "      <th>NAME_HOUSING_TYPE</th>\n",
       "      <th>YEARS_BIRTH</th>\n",
       "      <th>YEARS_EMPLOYED</th>\n",
       "      <th>YEARS_REGISTRATION</th>\n",
       "      <th>YEARS_ID_PUBLISH</th>\n",
       "      <th>FLAG_MOBIL</th>\n",
       "      <th>OCCUPATION_TYPE</th>\n",
       "      <th>CNT_FAM_MEMBERS</th>\n",
       "      <th>REGION_RATING_CLIENT</th>\n",
       "      <th>ORGANIZATION_TYPE</th>\n",
       "      <th>EXT_SOURCE_2</th>\n",
       "      <th>EXT_SOURCE_3</th>\n",
       "      <th>FLAG_DOCUMENT_2</th>\n",
       "    </tr>\n",
       "  </thead>\n",
       "  <tbody>\n",
       "    <tr>\n",
       "      <th>0</th>\n",
       "      <td>100002</td>\n",
       "      <td>1</td>\n",
       "      <td>Cash loans</td>\n",
       "      <td>M</td>\n",
       "      <td>N</td>\n",
       "      <td>Y</td>\n",
       "      <td>0</td>\n",
       "      <td>202500.0</td>\n",
       "      <td>406597.5</td>\n",
       "      <td>24700.5</td>\n",
       "      <td>351000.0</td>\n",
       "      <td>Unaccompanied</td>\n",
       "      <td>Working</td>\n",
       "      <td>Secondary / secondary special</td>\n",
       "      <td>Single / not married</td>\n",
       "      <td>House / apartment</td>\n",
       "      <td>26</td>\n",
       "      <td>2</td>\n",
       "      <td>10.0</td>\n",
       "      <td>6</td>\n",
       "      <td>1</td>\n",
       "      <td>Laborers</td>\n",
       "      <td>1.0</td>\n",
       "      <td>2</td>\n",
       "      <td>Business Entity Type 3</td>\n",
       "      <td>0.262949</td>\n",
       "      <td>0.139376</td>\n",
       "      <td>0</td>\n",
       "    </tr>\n",
       "    <tr>\n",
       "      <th>2</th>\n",
       "      <td>100004</td>\n",
       "      <td>0</td>\n",
       "      <td>Revolving loans</td>\n",
       "      <td>M</td>\n",
       "      <td>Y</td>\n",
       "      <td>Y</td>\n",
       "      <td>0</td>\n",
       "      <td>67500.0</td>\n",
       "      <td>135000.0</td>\n",
       "      <td>6750.0</td>\n",
       "      <td>135000.0</td>\n",
       "      <td>Unaccompanied</td>\n",
       "      <td>Working</td>\n",
       "      <td>Secondary / secondary special</td>\n",
       "      <td>Single / not married</td>\n",
       "      <td>House / apartment</td>\n",
       "      <td>53</td>\n",
       "      <td>1</td>\n",
       "      <td>12.0</td>\n",
       "      <td>7</td>\n",
       "      <td>1</td>\n",
       "      <td>Laborers</td>\n",
       "      <td>1.0</td>\n",
       "      <td>2</td>\n",
       "      <td>Government</td>\n",
       "      <td>0.555912</td>\n",
       "      <td>0.729567</td>\n",
       "      <td>0</td>\n",
       "    </tr>\n",
       "    <tr>\n",
       "      <th>5</th>\n",
       "      <td>100008</td>\n",
       "      <td>0</td>\n",
       "      <td>Cash loans</td>\n",
       "      <td>M</td>\n",
       "      <td>N</td>\n",
       "      <td>Y</td>\n",
       "      <td>0</td>\n",
       "      <td>99000.0</td>\n",
       "      <td>490495.5</td>\n",
       "      <td>27517.5</td>\n",
       "      <td>454500.0</td>\n",
       "      <td>Spouse, partner</td>\n",
       "      <td>State servant</td>\n",
       "      <td>Secondary / secondary special</td>\n",
       "      <td>Married</td>\n",
       "      <td>House / apartment</td>\n",
       "      <td>47</td>\n",
       "      <td>5</td>\n",
       "      <td>14.0</td>\n",
       "      <td>2</td>\n",
       "      <td>1</td>\n",
       "      <td>Laborers</td>\n",
       "      <td>2.0</td>\n",
       "      <td>2</td>\n",
       "      <td>Other</td>\n",
       "      <td>0.354225</td>\n",
       "      <td>0.621226</td>\n",
       "      <td>0</td>\n",
       "    </tr>\n",
       "    <tr>\n",
       "      <th>6</th>\n",
       "      <td>100009</td>\n",
       "      <td>0</td>\n",
       "      <td>Cash loans</td>\n",
       "      <td>F</td>\n",
       "      <td>Y</td>\n",
       "      <td>Y</td>\n",
       "      <td>1</td>\n",
       "      <td>171000.0</td>\n",
       "      <td>1560726.0</td>\n",
       "      <td>41301.0</td>\n",
       "      <td>1395000.0</td>\n",
       "      <td>Unaccompanied</td>\n",
       "      <td>Commercial associate</td>\n",
       "      <td>Higher education</td>\n",
       "      <td>Married</td>\n",
       "      <td>House / apartment</td>\n",
       "      <td>38</td>\n",
       "      <td>9</td>\n",
       "      <td>4.0</td>\n",
       "      <td>2</td>\n",
       "      <td>1</td>\n",
       "      <td>Accountants</td>\n",
       "      <td>3.0</td>\n",
       "      <td>2</td>\n",
       "      <td>Business Entity Type 3</td>\n",
       "      <td>0.724000</td>\n",
       "      <td>0.492060</td>\n",
       "      <td>0</td>\n",
       "    </tr>\n",
       "    <tr>\n",
       "      <th>7</th>\n",
       "      <td>100010</td>\n",
       "      <td>0</td>\n",
       "      <td>Cash loans</td>\n",
       "      <td>M</td>\n",
       "      <td>Y</td>\n",
       "      <td>Y</td>\n",
       "      <td>0</td>\n",
       "      <td>360000.0</td>\n",
       "      <td>1530000.0</td>\n",
       "      <td>42075.0</td>\n",
       "      <td>1530000.0</td>\n",
       "      <td>Unaccompanied</td>\n",
       "      <td>State servant</td>\n",
       "      <td>Higher education</td>\n",
       "      <td>Married</td>\n",
       "      <td>House / apartment</td>\n",
       "      <td>52</td>\n",
       "      <td>2</td>\n",
       "      <td>13.0</td>\n",
       "      <td>7</td>\n",
       "      <td>1</td>\n",
       "      <td>Managers</td>\n",
       "      <td>2.0</td>\n",
       "      <td>3</td>\n",
       "      <td>Other</td>\n",
       "      <td>0.714279</td>\n",
       "      <td>0.540654</td>\n",
       "      <td>0</td>\n",
       "    </tr>\n",
       "  </tbody>\n",
       "</table>\n",
       "</div>"
      ],
      "text/plain": [
       "   SK_ID_CURR TARGET NAME_CONTRACT_TYPE CODE_GENDER FLAG_OWN_CAR  \\\n",
       "0      100002      1         Cash loans           M            N   \n",
       "2      100004      0    Revolving loans           M            Y   \n",
       "5      100008      0         Cash loans           M            N   \n",
       "6      100009      0         Cash loans           F            Y   \n",
       "7      100010      0         Cash loans           M            Y   \n",
       "\n",
       "  FLAG_OWN_REALTY  CNT_CHILDREN  AMT_INCOME_TOTAL  AMT_CREDIT  AMT_ANNUITY  \\\n",
       "0               Y             0          202500.0    406597.5      24700.5   \n",
       "2               Y             0           67500.0    135000.0       6750.0   \n",
       "5               Y             0           99000.0    490495.5      27517.5   \n",
       "6               Y             1          171000.0   1560726.0      41301.0   \n",
       "7               Y             0          360000.0   1530000.0      42075.0   \n",
       "\n",
       "   AMT_GOODS_PRICE  NAME_TYPE_SUITE      NAME_INCOME_TYPE  \\\n",
       "0         351000.0    Unaccompanied               Working   \n",
       "2         135000.0    Unaccompanied               Working   \n",
       "5         454500.0  Spouse, partner         State servant   \n",
       "6        1395000.0    Unaccompanied  Commercial associate   \n",
       "7        1530000.0    Unaccompanied         State servant   \n",
       "\n",
       "             NAME_EDUCATION_TYPE    NAME_FAMILY_STATUS  NAME_HOUSING_TYPE  \\\n",
       "0  Secondary / secondary special  Single / not married  House / apartment   \n",
       "2  Secondary / secondary special  Single / not married  House / apartment   \n",
       "5  Secondary / secondary special               Married  House / apartment   \n",
       "6               Higher education               Married  House / apartment   \n",
       "7               Higher education               Married  House / apartment   \n",
       "\n",
       "   YEARS_BIRTH  YEARS_EMPLOYED  YEARS_REGISTRATION  YEARS_ID_PUBLISH  \\\n",
       "0           26               2                10.0                 6   \n",
       "2           53               1                12.0                 7   \n",
       "5           47               5                14.0                 2   \n",
       "6           38               9                 4.0                 2   \n",
       "7           52               2                13.0                 7   \n",
       "\n",
       "   FLAG_MOBIL OCCUPATION_TYPE  CNT_FAM_MEMBERS  REGION_RATING_CLIENT  \\\n",
       "0           1        Laborers              1.0                     2   \n",
       "2           1        Laborers              1.0                     2   \n",
       "5           1        Laborers              2.0                     2   \n",
       "6           1     Accountants              3.0                     2   \n",
       "7           1        Managers              2.0                     3   \n",
       "\n",
       "        ORGANIZATION_TYPE  EXT_SOURCE_2  EXT_SOURCE_3  FLAG_DOCUMENT_2  \n",
       "0  Business Entity Type 3      0.262949      0.139376                0  \n",
       "2              Government      0.555912      0.729567                0  \n",
       "5                   Other      0.354225      0.621226                0  \n",
       "6  Business Entity Type 3      0.724000      0.492060                0  \n",
       "7                   Other      0.714279      0.540654                0  "
      ]
     },
     "execution_count": 12,
     "metadata": {},
     "output_type": "execute_result"
    }
   ],
   "source": [
    "# Change the column name and convert data into year.\n",
    "df1.rename(columns={\"DAYS_BIRTH\":\"YEARS_BIRTH\",\"DAYS_EMPLOYED\": \"YEARS_EMPLOYED\",\n",
    "                    \"DAYS_EMPLOYED\": \"YEARS_EMPLOYED\", \"DAYS_REGISTRATION\":'YEARS_REGISTRATION', 'DAYS_ID_PUBLISH':'YEARS_ID_PUBLISH'},\n",
    "           inplace=True)\n",
    "\n",
    "df1.YEARS_BIRTH = df1.YEARS_BIRTH.apply(lambda x: abs(x//365))\n",
    "df1.YEARS_EMPLOYED = df1.YEARS_EMPLOYED.apply(lambda x: abs(x//365))\n",
    "df1.YEARS_REGISTRATION = df1.YEARS_REGISTRATION.apply(lambda x: abs(x//365))\n",
    "df1.YEARS_ID_PUBLISH = df1.YEARS_ID_PUBLISH.apply(lambda x: abs(x//365))\n",
    "\n",
    "df1.head()"
   ]
  },
  {
   "cell_type": "code",
   "execution_count": 90,
   "metadata": {},
   "outputs": [],
   "source": [
    "df1['age_group'] = pd.cut(df1.YEARS_BIRTH, [0,30,40,50,60,999], labels=['<30', '30-40', '40-50', '50-60', '60+'])\n",
    "df1['AMT_INCOME_TOTAL_Group'] = pd.cut(df1.AMT_INCOME_TOTAL, [0,50000,100000,150000,200000,250000, 300000, 999999999], labels=['<50k', '50-100k', '100-150k', '150-200k', '200-250k', '250-300k', '>300k'])\n",
    "df1['AMT_CREDIT_Group'] = pd.cut(df1.AMT_CREDIT, [0,400000,600000,800000,1000000,1500000, 2000000, 9999999999], labels=['<400K', '400-600k', '600-800k', '800-1M', '1M-1.5M', '1.5M-2M', '>2M'])\n"
   ]
  },
  {
   "cell_type": "markdown",
   "metadata": {},
   "source": [
    "## Define the Target column % based on 0(Non-Defaulter) and 1(Defaulter)"
   ]
  },
  {
   "cell_type": "code",
   "execution_count": 91,
   "metadata": {},
   "outputs": [
    {
     "data": {
      "text/plain": [
       "0    92.0\n",
       "1     8.0\n",
       "Name: TARGET, dtype: float64"
      ]
     },
     "execution_count": 91,
     "metadata": {},
     "output_type": "execute_result"
    }
   ],
   "source": [
    "round(df1.TARGET.value_counts()/len(df1.index), 2) * 100"
   ]
  },
  {
   "cell_type": "markdown",
   "metadata": {},
   "source": [
    "## Plot Target and see the Visualization of Defaulter and non-defaulter"
   ]
  },
  {
   "cell_type": "code",
   "execution_count": 92,
   "metadata": {},
   "outputs": [
    {
     "data": {
      "image/png": "[encoded data removed]",
      "text/plain": [
       "<Figure size 432x288 with 1 Axes>"
      ]
     },
     "metadata": {
      "needs_background": "light"
     },
     "output_type": "display_data"
    }
   ],
   "source": [
    "df1.TARGET.value_counts(normalize=True).plot.bar()\n",
    "plt.xticks(rotation=0)\n",
    "plt.show()"
   ]
  },
  {
   "cell_type": "markdown",
   "metadata": {},
   "source": [
    "## Create two DF based on Target column"
   ]
  },
  {
   "cell_type": "code",
   "execution_count": 93,
   "metadata": {},
   "outputs": [
    {
     "data": {
      "text/html": [
       "<div>\n",
       "<style scoped>\n",
       "    .dataframe tbody tr th:only-of-type {\n",
       "        vertical-align: middle;\n",
       "    }\n",
       "\n",
       "    .dataframe tbody tr th {\n",
       "        vertical-align: top;\n",
       "    }\n",
       "\n",
       "    .dataframe thead th {\n",
       "        text-align: right;\n",
       "    }\n",
       "</style>\n",
       "<table border=\"1\" class=\"dataframe\">\n",
       "  <thead>\n",
       "    <tr style=\"text-align: right;\">\n",
       "      <th></th>\n",
       "      <th>SK_ID_CURR</th>\n",
       "      <th>TARGET</th>\n",
       "      <th>NAME_CONTRACT_TYPE</th>\n",
       "      <th>CODE_GENDER</th>\n",
       "      <th>FLAG_OWN_CAR</th>\n",
       "      <th>FLAG_OWN_REALTY</th>\n",
       "      <th>CNT_CHILDREN</th>\n",
       "      <th>AMT_INCOME_TOTAL</th>\n",
       "      <th>AMT_CREDIT</th>\n",
       "      <th>AMT_ANNUITY</th>\n",
       "      <th>AMT_GOODS_PRICE</th>\n",
       "      <th>NAME_TYPE_SUITE</th>\n",
       "      <th>NAME_INCOME_TYPE</th>\n",
       "      <th>NAME_EDUCATION_TYPE</th>\n",
       "      <th>NAME_FAMILY_STATUS</th>\n",
       "      <th>NAME_HOUSING_TYPE</th>\n",
       "      <th>YEARS_BIRTH</th>\n",
       "      <th>YEARS_EMPLOYED</th>\n",
       "      <th>YEARS_REGISTRATION</th>\n",
       "      <th>YEARS_ID_PUBLISH</th>\n",
       "      <th>FLAG_MOBIL</th>\n",
       "      <th>OCCUPATION_TYPE</th>\n",
       "      <th>CNT_FAM_MEMBERS</th>\n",
       "      <th>REGION_RATING_CLIENT</th>\n",
       "      <th>ORGANIZATION_TYPE</th>\n",
       "      <th>EXT_SOURCE_2</th>\n",
       "      <th>EXT_SOURCE_3</th>\n",
       "      <th>FLAG_DOCUMENT_2</th>\n",
       "      <th>age_group</th>\n",
       "      <th>AMT_INCOME_TOTAL_Group</th>\n",
       "      <th>AMT_CREDIT_Group</th>\n",
       "    </tr>\n",
       "  </thead>\n",
       "  <tbody>\n",
       "    <tr>\n",
       "      <th>0</th>\n",
       "      <td>100002</td>\n",
       "      <td>1</td>\n",
       "      <td>Cash loans</td>\n",
       "      <td>M</td>\n",
       "      <td>N</td>\n",
       "      <td>Y</td>\n",
       "      <td>0</td>\n",
       "      <td>202500.0</td>\n",
       "      <td>406597.5</td>\n",
       "      <td>24700.5</td>\n",
       "      <td>351000.0</td>\n",
       "      <td>Unaccompanied</td>\n",
       "      <td>Working</td>\n",
       "      <td>Secondary / secondary special</td>\n",
       "      <td>Single / not married</td>\n",
       "      <td>House / apartment</td>\n",
       "      <td>26</td>\n",
       "      <td>2</td>\n",
       "      <td>10.0</td>\n",
       "      <td>6</td>\n",
       "      <td>1</td>\n",
       "      <td>Laborers</td>\n",
       "      <td>1.0</td>\n",
       "      <td>2</td>\n",
       "      <td>Business Entity Type 3</td>\n",
       "      <td>0.262949</td>\n",
       "      <td>0.139376</td>\n",
       "      <td>0</td>\n",
       "      <td>&lt;30</td>\n",
       "      <td>200-250k</td>\n",
       "      <td>400-600k</td>\n",
       "    </tr>\n",
       "    <tr>\n",
       "      <th>26</th>\n",
       "      <td>100031</td>\n",
       "      <td>1</td>\n",
       "      <td>Cash loans</td>\n",
       "      <td>F</td>\n",
       "      <td>N</td>\n",
       "      <td>Y</td>\n",
       "      <td>0</td>\n",
       "      <td>112500.0</td>\n",
       "      <td>979992.0</td>\n",
       "      <td>27076.5</td>\n",
       "      <td>702000.0</td>\n",
       "      <td>Unaccompanied</td>\n",
       "      <td>Working</td>\n",
       "      <td>Secondary / secondary special</td>\n",
       "      <td>Widow</td>\n",
       "      <td>House / apartment</td>\n",
       "      <td>52</td>\n",
       "      <td>8</td>\n",
       "      <td>19.0</td>\n",
       "      <td>6</td>\n",
       "      <td>1</td>\n",
       "      <td>Cooking staff</td>\n",
       "      <td>1.0</td>\n",
       "      <td>3</td>\n",
       "      <td>Business Entity Type 3</td>\n",
       "      <td>0.548477</td>\n",
       "      <td>0.190706</td>\n",
       "      <td>0</td>\n",
       "      <td>50-60</td>\n",
       "      <td>100-150k</td>\n",
       "      <td>800-1M</td>\n",
       "    </tr>\n",
       "    <tr>\n",
       "      <th>40</th>\n",
       "      <td>100047</td>\n",
       "      <td>1</td>\n",
       "      <td>Cash loans</td>\n",
       "      <td>M</td>\n",
       "      <td>N</td>\n",
       "      <td>Y</td>\n",
       "      <td>0</td>\n",
       "      <td>202500.0</td>\n",
       "      <td>1193580.0</td>\n",
       "      <td>35028.0</td>\n",
       "      <td>855000.0</td>\n",
       "      <td>Unaccompanied</td>\n",
       "      <td>Commercial associate</td>\n",
       "      <td>Secondary / secondary special</td>\n",
       "      <td>Married</td>\n",
       "      <td>House / apartment</td>\n",
       "      <td>48</td>\n",
       "      <td>4</td>\n",
       "      <td>4.0</td>\n",
       "      <td>3</td>\n",
       "      <td>1</td>\n",
       "      <td>Laborers</td>\n",
       "      <td>2.0</td>\n",
       "      <td>2</td>\n",
       "      <td>Business Entity Type 3</td>\n",
       "      <td>0.306841</td>\n",
       "      <td>0.320163</td>\n",
       "      <td>0</td>\n",
       "      <td>40-50</td>\n",
       "      <td>200-250k</td>\n",
       "      <td>1M-1.5M</td>\n",
       "    </tr>\n",
       "    <tr>\n",
       "      <th>42</th>\n",
       "      <td>100049</td>\n",
       "      <td>1</td>\n",
       "      <td>Cash loans</td>\n",
       "      <td>F</td>\n",
       "      <td>N</td>\n",
       "      <td>N</td>\n",
       "      <td>0</td>\n",
       "      <td>135000.0</td>\n",
       "      <td>288873.0</td>\n",
       "      <td>16258.5</td>\n",
       "      <td>238500.0</td>\n",
       "      <td>Unaccompanied</td>\n",
       "      <td>Working</td>\n",
       "      <td>Secondary / secondary special</td>\n",
       "      <td>Civil marriage</td>\n",
       "      <td>House / apartment</td>\n",
       "      <td>37</td>\n",
       "      <td>10</td>\n",
       "      <td>1.0</td>\n",
       "      <td>13</td>\n",
       "      <td>1</td>\n",
       "      <td>Sales staff</td>\n",
       "      <td>2.0</td>\n",
       "      <td>3</td>\n",
       "      <td>Self-employed</td>\n",
       "      <td>0.674203</td>\n",
       "      <td>0.399676</td>\n",
       "      <td>0</td>\n",
       "      <td>30-40</td>\n",
       "      <td>100-150k</td>\n",
       "      <td>&lt;400K</td>\n",
       "    </tr>\n",
       "    <tr>\n",
       "      <th>81</th>\n",
       "      <td>100096</td>\n",
       "      <td>1</td>\n",
       "      <td>Cash loans</td>\n",
       "      <td>F</td>\n",
       "      <td>N</td>\n",
       "      <td>Y</td>\n",
       "      <td>0</td>\n",
       "      <td>81000.0</td>\n",
       "      <td>252000.0</td>\n",
       "      <td>14593.5</td>\n",
       "      <td>252000.0</td>\n",
       "      <td>Unaccompanied</td>\n",
       "      <td>Pensioner</td>\n",
       "      <td>Secondary / secondary special</td>\n",
       "      <td>Married</td>\n",
       "      <td>House / apartment</td>\n",
       "      <td>68</td>\n",
       "      <td>1000</td>\n",
       "      <td>15.0</td>\n",
       "      <td>12</td>\n",
       "      <td>1</td>\n",
       "      <td>Blank Occupation</td>\n",
       "      <td>2.0</td>\n",
       "      <td>2</td>\n",
       "      <td>XNA</td>\n",
       "      <td>0.023952</td>\n",
       "      <td>0.720944</td>\n",
       "      <td>0</td>\n",
       "      <td>60+</td>\n",
       "      <td>50-100k</td>\n",
       "      <td>&lt;400K</td>\n",
       "    </tr>\n",
       "  </tbody>\n",
       "</table>\n",
       "</div>"
      ],
      "text/plain": [
       "    SK_ID_CURR TARGET NAME_CONTRACT_TYPE CODE_GENDER FLAG_OWN_CAR  \\\n",
       "0       100002      1         Cash loans           M            N   \n",
       "26      100031      1         Cash loans           F            N   \n",
       "40      100047      1         Cash loans           M            N   \n",
       "42      100049      1         Cash loans           F            N   \n",
       "81      100096      1         Cash loans           F            N   \n",
       "\n",
       "   FLAG_OWN_REALTY  CNT_CHILDREN  AMT_INCOME_TOTAL  AMT_CREDIT  AMT_ANNUITY  \\\n",
       "0                Y             0          202500.0    406597.5      24700.5   \n",
       "26               Y             0          112500.0    979992.0      27076.5   \n",
       "40               Y             0          202500.0   1193580.0      35028.0   \n",
       "42               N             0          135000.0    288873.0      16258.5   \n",
       "81               Y             0           81000.0    252000.0      14593.5   \n",
       "\n",
       "    AMT_GOODS_PRICE NAME_TYPE_SUITE      NAME_INCOME_TYPE  \\\n",
       "0          351000.0   Unaccompanied               Working   \n",
       "26         702000.0   Unaccompanied               Working   \n",
       "40         855000.0   Unaccompanied  Commercial associate   \n",
       "42         238500.0   Unaccompanied               Working   \n",
       "81         252000.0   Unaccompanied             Pensioner   \n",
       "\n",
       "              NAME_EDUCATION_TYPE    NAME_FAMILY_STATUS  NAME_HOUSING_TYPE  \\\n",
       "0   Secondary / secondary special  Single / not married  House / apartment   \n",
       "26  Secondary / secondary special                 Widow  House / apartment   \n",
       "40  Secondary / secondary special               Married  House / apartment   \n",
       "42  Secondary / secondary special        Civil marriage  House / apartment   \n",
       "81  Secondary / secondary special               Married  House / apartment   \n",
       "\n",
       "    YEARS_BIRTH  YEARS_EMPLOYED  YEARS_REGISTRATION  YEARS_ID_PUBLISH  \\\n",
       "0            26               2                10.0                 6   \n",
       "26           52               8                19.0                 6   \n",
       "40           48               4                 4.0                 3   \n",
       "42           37              10                 1.0                13   \n",
       "81           68            1000                15.0                12   \n",
       "\n",
       "    FLAG_MOBIL   OCCUPATION_TYPE  CNT_FAM_MEMBERS  REGION_RATING_CLIENT  \\\n",
       "0            1          Laborers              1.0                     2   \n",
       "26           1     Cooking staff              1.0                     3   \n",
       "40           1          Laborers              2.0                     2   \n",
       "42           1       Sales staff              2.0                     3   \n",
       "81           1  Blank Occupation              2.0                     2   \n",
       "\n",
       "         ORGANIZATION_TYPE  EXT_SOURCE_2  EXT_SOURCE_3  FLAG_DOCUMENT_2  \\\n",
       "0   Business Entity Type 3      0.262949      0.139376                0   \n",
       "26  Business Entity Type 3      0.548477      0.190706                0   \n",
       "40  Business Entity Type 3      0.306841      0.320163                0   \n",
       "42           Self-employed      0.674203      0.399676                0   \n",
       "81                     XNA      0.023952      0.720944                0   \n",
       "\n",
       "   age_group AMT_INCOME_TOTAL_Group AMT_CREDIT_Group  \n",
       "0        <30               200-250k         400-600k  \n",
       "26     50-60               100-150k           800-1M  \n",
       "40     40-50               200-250k          1M-1.5M  \n",
       "42     30-40               100-150k            <400K  \n",
       "81       60+                50-100k            <400K  "
      ]
     },
     "execution_count": 93,
     "metadata": {},
     "output_type": "execute_result"
    }
   ],
   "source": [
    "# defaulted_df \n",
    "target1_df = df1[df1.TARGET == 1]\n",
    "\n",
    "# not_defaulted_df\n",
    "target0_df = df1[df1.TARGET == 0]\n",
    "target1_df.head()"
   ]
  },
  {
   "cell_type": "markdown",
   "metadata": {},
   "source": [
    "# Defaulter People Analysis with Target '1'\n",
    "- Based on AMT_INCOME_TOTAL_Group and  AMT_CREDIT_Group defaulter Binning of continuous variables..\n",
    "- Credit amount available Graph\n",
    "- Defaulter income amount available Graph\n",
    "- Based on age group more defaulter.\n",
    "- Defaulter based on family status\n",
    "- Credit amount and Age outliers\n",
    "- Which type suite is more defaulter\n",
    "- Which income type is more defaulter\n",
    "- Combine suite type/Income type with Grapth\n",
    "- Outlier between Total income and Credit\n",
    "- Which Contract(LOAN) type is more defaulter\n",
    "- Male are more defaulter or female\n",
    "- Which Contract Type is more defaulter between Genter M/F"
   ]
  },
  {
   "cell_type": "markdown",
   "metadata": {},
   "source": [
    "#### # Based on age group more defaulter."
   ]
  },
  {
   "cell_type": "code",
   "execution_count": 95,
   "metadata": {},
   "outputs": [
    {
     "data": {
      "image/png": "[encoded data removed]",
      "text/plain": [
       "<Figure size 432x288 with 1 Axes>"
      ]
     },
     "metadata": {
      "needs_background": "light"
     },
     "output_type": "display_data"
    }
   ],
   "source": [
    "# Based on AMT_INCOME_TOTAL_Group and  AMT_CREDIT_Group defaulter Binning of continuous variables..\n",
    "sns.countplot(x = \"AMT_CREDIT_Group\", hue= 'AMT_INCOME_TOTAL_Group', data = target1_df)\n",
    "plt.xticks(rotation=45)\n",
    "plt.show()\n",
    "# Maximum Peoples are defaulter because their credit is <400k and Max income is 100-150K"
   ]
  },
  {
   "cell_type": "code",
   "execution_count": 96,
   "metadata": {},
   "outputs": [
    {
     "data": {
      "image/png": "[encoded data removed]",
      "text/plain": [
       "<Figure size 432x288 with 1 Axes>"
      ]
     },
     "metadata": {
      "needs_background": "light"
     },
     "output_type": "display_data"
    }
   ],
   "source": [
    "# Credit amount available \n",
    "target1_df.AMT_CREDIT_Group.value_counts(normalize=True).plot.bar()\n",
    "plt.xticks(rotation=45)\n",
    "plt.show()\n",
    "# maximum defaulter peoples are having credit amount <400K"
   ]
  },
  {
   "cell_type": "code",
   "execution_count": 97,
   "metadata": {},
   "outputs": [
    {
     "data": {
      "image/png": "[encoded data removed]",
      "text/plain": [
       "<Figure size 432x288 with 1 Axes>"
      ]
     },
     "metadata": {
      "needs_background": "light"
     },
     "output_type": "display_data"
    }
   ],
   "source": [
    "# defaulter income amount available \n",
    "target1_df.AMT_INCOME_TOTAL_Group.value_counts(normalize=True).plot.bar()\n",
    "plt.xticks(rotation=45)\n",
    "plt.show()\n",
    "# maximum total defaulter income is between 100-15K"
   ]
  },
  {
   "cell_type": "code",
   "execution_count": 98,
   "metadata": {},
   "outputs": [
    {
     "data": {
      "image/png": "[encoded data removed]",
      "text/plain": [
       "<Figure size 432x288 with 1 Axes>"
      ]
     },
     "metadata": {
      "needs_background": "light"
     },
     "output_type": "display_data"
    }
   ],
   "source": [
    "# Based on age group more defaulter Binning of continuous variables..\n",
    "\n",
    "target1_df.age_group.value_counts(normalize=True).plot.bar()\n",
    "plt.xticks(rotation=45)\n",
    "plt.show()\n",
    "\n",
    "# 30-40 age group peoples are more defaulter."
   ]
  },
  {
   "cell_type": "code",
   "execution_count": 17,
   "metadata": {},
   "outputs": [
    {
     "data": {
      "image/png": "[encoded data removed]",
      "text/plain": [
       "<Figure size 432x288 with 2 Axes>"
      ]
     },
     "metadata": {
      "needs_background": "light"
     },
     "output_type": "display_data"
    }
   ],
   "source": [
    "# Combine heatmap with age/total income and balance with Grapth\n",
    "sns.heatmap(target1_df[['YEARS_BIRTH', 'AMT_INCOME_TOTAL', 'AMT_CREDIT']].corr(), annot=True, cmap='RdYlGn')\n",
    "plt.show()"
   ]
  },
  {
   "cell_type": "markdown",
   "metadata": {},
   "source": [
    "#### Defaulter based on family status"
   ]
  },
  {
   "cell_type": "code",
   "execution_count": 18,
   "metadata": {},
   "outputs": [
    {
     "data": {
      "image/png": "[encoded data removed]",
      "text/plain": [
       "<Figure size 432x288 with 1 Axes>"
      ]
     },
     "metadata": {
      "needs_background": "light"
     },
     "output_type": "display_data"
    }
   ],
   "source": [
    "target1_df.NAME_FAMILY_STATUS.value_counts(normalize=True).plot.bar()\n",
    "plt.xticks(rotation=45)\n",
    "plt.show()"
   ]
  },
  {
   "cell_type": "markdown",
   "metadata": {},
   "source": [
    "#### Credit amount and Age outliers"
   ]
  },
  {
   "cell_type": "code",
   "execution_count": 99,
   "metadata": {},
   "outputs": [
    {
     "data": {
      "image/png": "[encoded data removed]",
      "text/plain": [
       "<Figure size 432x288 with 1 Axes>"
      ]
     },
     "metadata": {
      "needs_background": "light"
     },
     "output_type": "display_data"
    }
   ],
   "source": [
    "sns.scatterplot(x=\"YEARS_BIRTH\", y=\"AMT_CREDIT\", data=target1_df)\n",
    "plt.show()"
   ]
  },
  {
   "cell_type": "markdown",
   "metadata": {},
   "source": [
    "#### Which type suite is more defaulter"
   ]
  },
  {
   "cell_type": "code",
   "execution_count": 20,
   "metadata": {},
   "outputs": [
    {
     "data": {
      "image/png": "[encoded data removed]",
      "text/plain": [
       "<Figure size 432x288 with 1 Axes>"
      ]
     },
     "metadata": {
      "needs_background": "light"
     },
     "output_type": "display_data"
    }
   ],
   "source": [
    "target1_df.NAME_TYPE_SUITE.value_counts(normalize=True).plot.bar()\n",
    "plt.xticks(rotation=45)\n",
    "plt.show()\n",
    "# Found that mostly \"Unaccompanied\" is more defaulter"
   ]
  },
  {
   "cell_type": "markdown",
   "metadata": {},
   "source": [
    "#### Which income type is more defaulter"
   ]
  },
  {
   "cell_type": "code",
   "execution_count": 21,
   "metadata": {},
   "outputs": [
    {
     "data": {
      "image/png": "[encoded data removed]",
      "text/plain": [
       "<Figure size 432x288 with 1 Axes>"
      ]
     },
     "metadata": {
      "needs_background": "light"
     },
     "output_type": "display_data"
    }
   ],
   "source": [
    "target1_df.NAME_INCOME_TYPE.value_counts(normalize=True).plot.bar()\n",
    "plt.xticks(rotation=45)\n",
    "plt.show()\n",
    "# Found that mostly \"workings\" are defaulter"
   ]
  },
  {
   "cell_type": "markdown",
   "metadata": {},
   "source": [
    "#### Combine suite type/Income type with Grapth"
   ]
  },
  {
   "cell_type": "code",
   "execution_count": 22,
   "metadata": {},
   "outputs": [
    {
     "data": {
      "image/png": "[encoded data removed]",
      "text/plain": [
       "<Figure size 432x288 with 1 Axes>"
      ]
     },
     "metadata": {
      "needs_background": "light"
     },
     "output_type": "display_data"
    }
   ],
   "source": [
    "sns.countplot(x = \"NAME_INCOME_TYPE\", hue= 'NAME_TYPE_SUITE', data = target1_df)\n",
    "plt.xticks(rotation=45)\n",
    "plt.show()\n",
    "\n",
    "# People who are working and income type is \"Unaccompanied\". those are more defaulter."
   ]
  },
  {
   "cell_type": "markdown",
   "metadata": {},
   "source": [
    "#### Outlier between Total income and Credit"
   ]
  },
  {
   "cell_type": "code",
   "execution_count": 23,
   "metadata": {},
   "outputs": [
    {
     "data": {
      "image/png": "[encoded data removed]",
      "text/plain": [
       "<Figure size 432x288 with 1 Axes>"
      ]
     },
     "metadata": {
      "needs_background": "light"
     },
     "output_type": "display_data"
    }
   ],
   "source": [
    "sns.scatterplot(x=\"AMT_INCOME_TOTAL\", y=\"AMT_CREDIT\", data=target1_df)\n",
    "plt.show()\n",
    "# Outlier between income and credit"
   ]
  },
  {
   "cell_type": "markdown",
   "metadata": {},
   "source": [
    "#### Which Contract(LOAN) type is more defaulter"
   ]
  },
  {
   "cell_type": "code",
   "execution_count": 24,
   "metadata": {},
   "outputs": [
    {
     "data": {
      "image/png": "[encoded data removed]",
      "text/plain": [
       "<Figure size 432x288 with 1 Axes>"
      ]
     },
     "metadata": {
      "needs_background": "light"
     },
     "output_type": "display_data"
    }
   ],
   "source": [
    "target1_df.NAME_CONTRACT_TYPE.value_counts(normalize=True).plot.bar()\n",
    "plt.xticks(rotation=45)\n",
    "plt.show()\n",
    "\n",
    "# Cash Loans type are more defaulter then Revolving Loans"
   ]
  },
  {
   "cell_type": "markdown",
   "metadata": {},
   "source": [
    "#### Male are more defaulter or female"
   ]
  },
  {
   "cell_type": "code",
   "execution_count": 25,
   "metadata": {},
   "outputs": [
    {
     "data": {
      "image/png": "[encoded data removed]",
      "text/plain": [
       "<Figure size 432x288 with 1 Axes>"
      ]
     },
     "metadata": {
      "needs_background": "light"
     },
     "output_type": "display_data"
    }
   ],
   "source": [
    "target1_df.CODE_GENDER.value_counts(normalize=True).plot.bar()\n",
    "plt.xticks(rotation=0)\n",
    "plt.show()\n",
    "\n",
    "# More Loan has been taken by Female."
   ]
  },
  {
   "cell_type": "markdown",
   "metadata": {},
   "source": [
    "#### Which Contract Type is more defaulter between Genter M/F"
   ]
  },
  {
   "cell_type": "code",
   "execution_count": 26,
   "metadata": {},
   "outputs": [
    {
     "data": {
      "image/png": "[encoded data removed]",
      "text/plain": [
       "<Figure size 432x288 with 1 Axes>"
      ]
     },
     "metadata": {
      "needs_background": "light"
     },
     "output_type": "display_data"
    }
   ],
   "source": [
    "sns.countplot(x = \"NAME_CONTRACT_TYPE\", hue= 'CODE_GENDER', data = target1_df)\n",
    "plt.xticks(rotation=45)\n",
    "plt.show()\n",
    "\n",
    "# As we can see Cash loans and Revolving Loans both have More Female defaulter."
   ]
  },
  {
   "cell_type": "markdown",
   "metadata": {},
   "source": [
    "# Non Defaulter Analysis, Where Target is '0'\n",
    "- Based on AMT_INCOME_TOTAL_Group and  AMT_CREDIT_Group defaulter Binning of continuous variables..\n",
    "- Based on age group non defaulter.\n",
    "- Non-Defaulter based on family status\n",
    "- Credit amount and Age outliers\n",
    "- Which type suite is more defaulter\n",
    "- Which income type is more defaulter\n",
    "- Combine suite type/Income type with Grapth\n",
    "- Outlier between Total income and Credit\n",
    "- Which Contract(LOAN) type is more defaulter\n",
    "- Male are more defaulter or female\n",
    "- Which Contract Type is more non-defaulter between Genter M/F"
   ]
  },
  {
   "cell_type": "code",
   "execution_count": 100,
   "metadata": {},
   "outputs": [
    {
     "data": {
      "image/png": "[encoded data removed]",
      "text/plain": [
       "<Figure size 432x288 with 1 Axes>"
      ]
     },
     "metadata": {
      "needs_background": "light"
     },
     "output_type": "display_data"
    }
   ],
   "source": [
    "# Based on AMT_INCOME_TOTAL_Group and  AMT_CREDIT_Group defaulter Binning of continuous variables..\n",
    "sns.countplot(x = \"AMT_CREDIT_Group\", hue= 'AMT_INCOME_TOTAL_Group', data = target0_df)\n",
    "plt.xticks(rotation=45)\n",
    "plt.show()\n",
    "# Maximum Peoples are not defaulter because their credit is <400k and Max income is 100-150K"
   ]
  },
  {
   "cell_type": "code",
   "execution_count": 101,
   "metadata": {},
   "outputs": [
    {
     "data": {
      "image/png": "[encoded data removed]",
      "text/plain": [
       "<Figure size 432x288 with 1 Axes>"
      ]
     },
     "metadata": {
      "needs_background": "light"
     },
     "output_type": "display_data"
    }
   ],
   "source": [
    "# Credit amount available \n",
    "target0_df.AMT_CREDIT_Group.value_counts(normalize=True).plot.bar()\n",
    "plt.xticks(rotation=45)\n",
    "plt.show()\n",
    "# maximum defaulter peoples are having credit amount <400K"
   ]
  },
  {
   "cell_type": "code",
   "execution_count": 102,
   "metadata": {},
   "outputs": [
    {
     "data": {
      "image/png": "[encoded data removed]",
      "text/plain": [
       "<Figure size 432x288 with 1 Axes>"
      ]
     },
     "metadata": {
      "needs_background": "light"
     },
     "output_type": "display_data"
    }
   ],
   "source": [
    "# defaulter income amount available \n",
    "target0_df.AMT_INCOME_TOTAL_Group.value_counts(normalize=True).plot.bar()\n",
    "plt.xticks(rotation=45)\n",
    "plt.show()\n",
    "# maximum total defaulter income is between 100-15K"
   ]
  },
  {
   "cell_type": "markdown",
   "metadata": {},
   "source": [
    "#### Based on age group more not defaulter."
   ]
  },
  {
   "cell_type": "code",
   "execution_count": 103,
   "metadata": {},
   "outputs": [
    {
     "data": {
      "image/png": "[encoded data removed]",
      "text/plain": [
       "<Figure size 432x288 with 1 Axes>"
      ]
     },
     "metadata": {
      "needs_background": "light"
     },
     "output_type": "display_data"
    }
   ],
   "source": [
    "target0_df.age_group.value_counts(normalize=True).plot.bar()\n",
    "plt.xticks(rotation=45)\n",
    "plt.show()\n",
    "\n",
    "# 30-40 and 40-50 age group peoples are more non defaulter."
   ]
  },
  {
   "cell_type": "markdown",
   "metadata": {},
   "source": [
    "#### Non-Defaulter based on family status"
   ]
  },
  {
   "cell_type": "code",
   "execution_count": 28,
   "metadata": {},
   "outputs": [
    {
     "data": {
      "image/png": "[encoded data removed]",
      "text/plain": [
       "<Figure size 432x288 with 1 Axes>"
      ]
     },
     "metadata": {
      "needs_background": "light"
     },
     "output_type": "display_data"
    }
   ],
   "source": [
    "target0_df.NAME_FAMILY_STATUS.value_counts(normalize=True).plot.bar()\n",
    "plt.xticks(rotation=45)\n",
    "plt.show()"
   ]
  },
  {
   "cell_type": "markdown",
   "metadata": {},
   "source": [
    "#### Credit amount and Age outliers"
   ]
  },
  {
   "cell_type": "code",
   "execution_count": 29,
   "metadata": {},
   "outputs": [
    {
     "data": {
      "image/png": "[encoded data removed]",
      "text/plain": [
       "<Figure size 432x288 with 1 Axes>"
      ]
     },
     "metadata": {
      "needs_background": "light"
     },
     "output_type": "display_data"
    }
   ],
   "source": [
    "sns.scatterplot(x=\"YEARS_BIRTH\", y=\"AMT_CREDIT\", data=target0_df)\n",
    "plt.show()"
   ]
  },
  {
   "cell_type": "markdown",
   "metadata": {},
   "source": [
    "#### Which type suite is more non-defaulter"
   ]
  },
  {
   "cell_type": "code",
   "execution_count": 30,
   "metadata": {},
   "outputs": [
    {
     "data": {
      "image/png": "[encoded data removed]",
      "text/plain": [
       "<Figure size 432x288 with 1 Axes>"
      ]
     },
     "metadata": {
      "needs_background": "light"
     },
     "output_type": "display_data"
    }
   ],
   "source": [
    "target0_df.NAME_TYPE_SUITE.value_counts(normalize=True).plot.bar()\n",
    "plt.xticks(rotation=45)\n",
    "plt.show()"
   ]
  },
  {
   "cell_type": "markdown",
   "metadata": {},
   "source": [
    "#### Which income type is more non-defaulter"
   ]
  },
  {
   "cell_type": "code",
   "execution_count": 31,
   "metadata": {},
   "outputs": [
    {
     "data": {
      "image/png": "[encoded data removed]",
      "text/plain": [
       "<Figure size 432x288 with 1 Axes>"
      ]
     },
     "metadata": {
      "needs_background": "light"
     },
     "output_type": "display_data"
    }
   ],
   "source": [
    "target0_df.NAME_INCOME_TYPE.value_counts(normalize=True).plot.bar()\n",
    "plt.xticks(rotation=45)\n",
    "plt.show()\n",
    "# Found that mostly \"workings\" are non-defaulter too"
   ]
  },
  {
   "cell_type": "markdown",
   "metadata": {},
   "source": [
    "#### Male are more non-defaulter or female"
   ]
  },
  {
   "cell_type": "code",
   "execution_count": 32,
   "metadata": {},
   "outputs": [
    {
     "data": {
      "image/png": "[encoded data removed]",
      "text/plain": [
       "<Figure size 432x288 with 1 Axes>"
      ]
     },
     "metadata": {
      "needs_background": "light"
     },
     "output_type": "display_data"
    }
   ],
   "source": [
    "target0_df.CODE_GENDER.value_counts(normalize=True).plot.bar()\n",
    "plt.xticks(rotation=0)\n",
    "plt.show()\n",
    "# More Loan has been taken by Female."
   ]
  },
  {
   "cell_type": "markdown",
   "metadata": {},
   "source": [
    "#### Which Contract Type is more non-defaulter between Genter M/F"
   ]
  },
  {
   "cell_type": "code",
   "execution_count": 33,
   "metadata": {},
   "outputs": [
    {
     "data": {
      "image/png": "[encoded data removed]",
      "text/plain": [
       "<Figure size 432x288 with 1 Axes>"
      ]
     },
     "metadata": {
      "needs_background": "light"
     },
     "output_type": "display_data"
    }
   ],
   "source": [
    "sns.countplot(x = \"NAME_CONTRACT_TYPE\", hue= 'CODE_GENDER', data = target0_df)\n",
    "plt.xticks(rotation=45)\n",
    "plt.show()\n",
    "# As we can see Cash loans and Revolving Loans both have More Female non-defaulter."
   ]
  },
  {
   "cell_type": "markdown",
   "metadata": {},
   "source": [
    "### Calculate the non-defulter total income and monthly EMI analysis."
   ]
  },
  {
   "cell_type": "code",
   "execution_count": 34,
   "metadata": {},
   "outputs": [
    {
     "data": {
      "image/png": "[encoded data removed]",
      "text/plain": [
       "<Figure size 432x288 with 1 Axes>"
      ]
     },
     "metadata": {
      "needs_background": "light"
     },
     "output_type": "display_data"
    }
   ],
   "source": [
    "sns.scatterplot(x=\"AMT_INCOME_TOTAL\", y=\"AMT_ANNUITY\", data=target0_df)\n",
    "plt.show()\n",
    "\n",
    "# Outlier between income and credit for not defaulter"
   ]
  },
  {
   "cell_type": "markdown",
   "metadata": {},
   "source": [
    "#### Calculate the defulter and non-defaulter occupation based analysis."
   ]
  },
  {
   "cell_type": "code",
   "execution_count": 35,
   "metadata": {},
   "outputs": [
    {
     "data": {
      "image/png": "[encoded data removed]",
      "text/plain": [
       "<Figure size 432x288 with 1 Axes>"
      ]
     },
     "metadata": {
      "needs_background": "light"
     },
     "output_type": "display_data"
    }
   ],
   "source": [
    "sns.countplot(x = \"OCCUPATION_TYPE\", hue= 'TARGET', data = df1)\n",
    "plt.xticks(rotation = 45)\n",
    "plt.show()\n",
    "# More defaulters are laboreres."
   ]
  },
  {
   "cell_type": "markdown",
   "metadata": {},
   "source": [
    "# Cleaning of Merge both CSV (Application_data and Previous_data)"
   ]
  },
  {
   "cell_type": "markdown",
   "metadata": {},
   "source": [
    "#### Info of merge application "
   ]
  },
  {
   "cell_type": "code",
   "execution_count": 36,
   "metadata": {},
   "outputs": [
    {
     "name": "stdout",
     "output_type": "stream",
     "text": [
      "<class 'pandas.core.frame.DataFrame'>\n",
      "Int64Index: 1686668 entries, 0 to 1686667\n",
      "Columns: 158 entries, SK_ID_CURR to NFLAG_INSURED_ON_APPROVAL\n",
      "dtypes: float64(125), int64(1), object(32)\n",
      "memory usage: 2.0+ GB\n"
     ]
    }
   ],
   "source": [
    "df3.info(max_cols=135)"
   ]
  },
  {
   "cell_type": "markdown",
   "metadata": {},
   "source": [
    "## droup column with null more than 40%"
   ]
  },
  {
   "cell_type": "code",
   "execution_count": 37,
   "metadata": {},
   "outputs": [],
   "source": [
    "df3 = df3.loc[:, df3.isnull().mean() < .4]"
   ]
  },
  {
   "cell_type": "code",
   "execution_count": 39,
   "metadata": {},
   "outputs": [
    {
     "data": {
      "text/plain": [
       "SK_ID_CURR                      0.000000\n",
       "TARGET                          0.152083\n",
       "NAME_CONTRACT_TYPE_x            0.152083\n",
       "CODE_GENDER                     0.152083\n",
       "FLAG_OWN_CAR                    0.152083\n",
       "FLAG_OWN_REALTY                 0.152083\n",
       "CNT_CHILDREN                    0.152083\n",
       "AMT_INCOME_TOTAL                0.152083\n",
       "AMT_CREDIT_x                    0.152083\n",
       "AMT_ANNUITY_x                   0.152138\n",
       "AMT_GOODS_PRICE_x               0.152805\n",
       "NAME_TYPE_SUITE_x               0.154473\n",
       "NAME_INCOME_TYPE                0.152083\n",
       "NAME_EDUCATION_TYPE             0.152083\n",
       "NAME_FAMILY_STATUS              0.152083\n",
       "NAME_HOUSING_TYPE               0.152083\n",
       "REGION_POPULATION_RELATIVE      0.152083\n",
       "DAYS_BIRTH                      0.152083\n",
       "DAYS_EMPLOYED                   0.152083\n",
       "DAYS_REGISTRATION               0.152083\n",
       "DAYS_ID_PUBLISH                 0.152083\n",
       "FLAG_MOBIL                      0.152083\n",
       "FLAG_EMP_PHONE                  0.152083\n",
       "FLAG_WORK_PHONE                 0.152083\n",
       "FLAG_CONT_MOBILE                0.152083\n",
       "FLAG_PHONE                      0.152083\n",
       "FLAG_EMAIL                      0.152083\n",
       "CNT_FAM_MEMBERS                 0.152084\n",
       "REGION_RATING_CLIENT            0.152083\n",
       "REGION_RATING_CLIENT_W_CITY     0.152083\n",
       "WEEKDAY_APPR_PROCESS_START_x    0.152083\n",
       "HOUR_APPR_PROCESS_START_x       0.152083\n",
       "REG_REGION_NOT_LIVE_REGION      0.152083\n",
       "REG_REGION_NOT_WORK_REGION      0.152083\n",
       "LIVE_REGION_NOT_WORK_REGION     0.152083\n",
       "REG_CITY_NOT_LIVE_CITY          0.152083\n",
       "REG_CITY_NOT_WORK_CITY          0.152083\n",
       "LIVE_CITY_NOT_WORK_CITY         0.152083\n",
       "ORGANIZATION_TYPE               0.152083\n",
       "EXT_SOURCE_2                    0.153210\n",
       "EXT_SOURCE_3                    0.297706\n",
       "OBS_30_CNT_SOCIAL_CIRCLE        0.154094\n",
       "DEF_30_CNT_SOCIAL_CIRCLE        0.154094\n",
       "OBS_60_CNT_SOCIAL_CIRCLE        0.154094\n",
       "DEF_60_CNT_SOCIAL_CIRCLE        0.154094\n",
       "DAYS_LAST_PHONE_CHANGE          0.152083\n",
       "FLAG_DOCUMENT_2                 0.152083\n",
       "FLAG_DOCUMENT_3                 0.152083\n",
       "FLAG_DOCUMENT_4                 0.152083\n",
       "FLAG_DOCUMENT_5                 0.152083\n",
       "FLAG_DOCUMENT_6                 0.152083\n",
       "FLAG_DOCUMENT_7                 0.152083\n",
       "FLAG_DOCUMENT_8                 0.152083\n",
       "FLAG_DOCUMENT_9                 0.152083\n",
       "FLAG_DOCUMENT_10                0.152083\n",
       "FLAG_DOCUMENT_11                0.152083\n",
       "FLAG_DOCUMENT_12                0.152083\n",
       "FLAG_DOCUMENT_13                0.152083\n",
       "FLAG_DOCUMENT_14                0.152083\n",
       "FLAG_DOCUMENT_15                0.152083\n",
       "FLAG_DOCUMENT_16                0.152083\n",
       "FLAG_DOCUMENT_17                0.152083\n",
       "FLAG_DOCUMENT_18                0.152083\n",
       "FLAG_DOCUMENT_19                0.152083\n",
       "FLAG_DOCUMENT_20                0.152083\n",
       "FLAG_DOCUMENT_21                0.152083\n",
       "AMT_REQ_CREDIT_BUREAU_HOUR      0.250390\n",
       "AMT_REQ_CREDIT_BUREAU_DAY       0.250390\n",
       "AMT_REQ_CREDIT_BUREAU_WEEK      0.250390\n",
       "AMT_REQ_CREDIT_BUREAU_MON       0.250390\n",
       "AMT_REQ_CREDIT_BUREAU_QRT       0.250390\n",
       "AMT_REQ_CREDIT_BUREAU_YEAR      0.250390\n",
       "SK_ID_PREV                      0.009755\n",
       "NAME_CONTRACT_TYPE_y            0.009755\n",
       "AMT_ANNUITY_y                   0.230448\n",
       "AMT_APPLICATION                 0.009755\n",
       "AMT_CREDIT_y                    0.009756\n",
       "AMT_GOODS_PRICE_y               0.238321\n",
       "WEEKDAY_APPR_PROCESS_START_y    0.009755\n",
       "HOUR_APPR_PROCESS_START_y       0.009755\n",
       "FLAG_LAST_APPL_PER_CONTRACT     0.009755\n",
       "NFLAG_LAST_APPL_IN_DAY          0.009755\n",
       "NAME_CASH_LOAN_PURPOSE          0.009755\n",
       "NAME_CONTRACT_STATUS            0.009755\n",
       "DAYS_DECISION                   0.009755\n",
       "NAME_PAYMENT_TYPE               0.009755\n",
       "CODE_REJECT_REASON              0.009755\n",
       "NAME_CLIENT_TYPE                0.009755\n",
       "NAME_GOODS_CATEGORY             0.009755\n",
       "NAME_PORTFOLIO                  0.009755\n",
       "NAME_PRODUCT_TYPE               0.009755\n",
       "CHANNEL_TYPE                    0.009755\n",
       "SELLERPLACE_AREA                0.009755\n",
       "NAME_SELLER_INDUSTRY            0.009755\n",
       "CNT_PAYMENT                     0.230445\n",
       "NAME_YIELD_GROUP                0.009755\n",
       "PRODUCT_COMBINATION             0.009960\n",
       "dtype: float64"
      ]
     },
     "execution_count": 39,
     "metadata": {},
     "output_type": "execute_result"
    }
   ],
   "source": [
    "df3.isnull().mean()"
   ]
  },
  {
   "cell_type": "markdown",
   "metadata": {},
   "source": [
    "#### droup column"
   ]
  },
  {
   "cell_type": "code",
   "execution_count": 38,
   "metadata": {},
   "outputs": [],
   "source": [
    "df3.drop(['SK_ID_CURR','FLAG_OWN_CAR','DAYS_EMPLOYED',\n",
    "         'DAYS_REGISTRATION','DAYS_ID_PUBLISH','FLAG_MOBIL','FLAG_EMP_PHONE','FLAG_WORK_PHONE',\n",
    "          'FLAG_CONT_MOBILE','REGION_RATING_CLIENT_W_CITY','WEEKDAY_APPR_PROCESS_START_x',\n",
    "         'HOUR_APPR_PROCESS_START_x','REG_REGION_NOT_LIVE_REGION','REG_REGION_NOT_WORK_REGION',\n",
    "          'LIVE_REGION_NOT_WORK_REGION',\n",
    "         'REG_CITY_NOT_LIVE_CITY','REG_CITY_NOT_WORK_CITY','LIVE_CITY_NOT_WORK_CITY','EXT_SOURCE_2',\n",
    "         'EXT_SOURCE_3','OBS_30_CNT_SOCIAL_CIRCLE','DEF_30_CNT_SOCIAL_CIRCLE','OBS_60_CNT_SOCIAL_CIRCLE',\n",
    "         'DEF_60_CNT_SOCIAL_CIRCLE','DAYS_LAST_PHONE_CHANGE','SK_ID_PREV','AMT_GOODS_PRICE_x','NAME_HOUSING_TYPE',\n",
    "          'REGION_POPULATION_RELATIVE',\n",
    "         'FLAG_DOCUMENT_2','FLAG_DOCUMENT_3','FLAG_DOCUMENT_4','FLAG_DOCUMENT_5',\n",
    "         'FLAG_DOCUMENT_6','FLAG_DOCUMENT_7','FLAG_DOCUMENT_8','FLAG_DOCUMENT_9',\n",
    "         'FLAG_DOCUMENT_10','FLAG_DOCUMENT_11','FLAG_DOCUMENT_12','FLAG_DOCUMENT_13',\n",
    "         'FLAG_DOCUMENT_14','FLAG_DOCUMENT_15','FLAG_DOCUMENT_16','FLAG_DOCUMENT_17',\n",
    "         'FLAG_DOCUMENT_18','FLAG_DOCUMENT_19','FLAG_DOCUMENT_20','FLAG_DOCUMENT_21',\n",
    "         'AMT_GOODS_PRICE_y','WEEKDAY_APPR_PROCESS_START_y','HOUR_APPR_PROCESS_START_y',\n",
    "         'NAME_CASH_LOAN_PURPOSE','NAME_PAYMENT_TYPE','NAME_PORTFOLIO','NAME_PRODUCT_TYPE',\n",
    "         'PRODUCT_COMBINATION'], axis=1, inplace=True)"
   ]
  },
  {
   "cell_type": "code",
   "execution_count": 39,
   "metadata": {},
   "outputs": [
    {
     "data": {
      "text/plain": [
       "TARGET                         0.152083\n",
       "NAME_CONTRACT_TYPE_x           0.152083\n",
       "CODE_GENDER                    0.152083\n",
       "FLAG_OWN_REALTY                0.152083\n",
       "CNT_CHILDREN                   0.152083\n",
       "AMT_INCOME_TOTAL               0.152083\n",
       "AMT_CREDIT_x                   0.152083\n",
       "AMT_ANNUITY_x                  0.152138\n",
       "NAME_TYPE_SUITE_x              0.154473\n",
       "NAME_INCOME_TYPE               0.152083\n",
       "NAME_EDUCATION_TYPE            0.152083\n",
       "NAME_FAMILY_STATUS             0.152083\n",
       "DAYS_BIRTH                     0.152083\n",
       "FLAG_PHONE                     0.152083\n",
       "FLAG_EMAIL                     0.152083\n",
       "CNT_FAM_MEMBERS                0.152084\n",
       "REGION_RATING_CLIENT           0.152083\n",
       "ORGANIZATION_TYPE              0.152083\n",
       "AMT_REQ_CREDIT_BUREAU_HOUR     0.250390\n",
       "AMT_REQ_CREDIT_BUREAU_DAY      0.250390\n",
       "AMT_REQ_CREDIT_BUREAU_WEEK     0.250390\n",
       "AMT_REQ_CREDIT_BUREAU_MON      0.250390\n",
       "AMT_REQ_CREDIT_BUREAU_QRT      0.250390\n",
       "AMT_REQ_CREDIT_BUREAU_YEAR     0.250390\n",
       "NAME_CONTRACT_TYPE_y           0.009755\n",
       "AMT_ANNUITY_y                  0.230448\n",
       "AMT_APPLICATION                0.009755\n",
       "AMT_CREDIT_y                   0.009756\n",
       "FLAG_LAST_APPL_PER_CONTRACT    0.009755\n",
       "NFLAG_LAST_APPL_IN_DAY         0.009755\n",
       "NAME_CONTRACT_STATUS           0.009755\n",
       "DAYS_DECISION                  0.009755\n",
       "CODE_REJECT_REASON             0.009755\n",
       "NAME_CLIENT_TYPE               0.009755\n",
       "NAME_GOODS_CATEGORY            0.009755\n",
       "CHANNEL_TYPE                   0.009755\n",
       "SELLERPLACE_AREA               0.009755\n",
       "NAME_SELLER_INDUSTRY           0.009755\n",
       "CNT_PAYMENT                    0.230445\n",
       "NAME_YIELD_GROUP               0.009755\n",
       "dtype: float64"
      ]
     },
     "execution_count": 39,
     "metadata": {},
     "output_type": "execute_result"
    }
   ],
   "source": [
    "# Null count after drop\n",
    "df3.isnull().mean()"
   ]
  },
  {
   "cell_type": "markdown",
   "metadata": {},
   "source": [
    "### Data Cleaning "
   ]
  },
  {
   "cell_type": "markdown",
   "metadata": {},
   "source": [
    "#### Gender"
   ]
  },
  {
   "cell_type": "code",
   "execution_count": 41,
   "metadata": {},
   "outputs": [
    {
     "data": {
      "text/plain": [
       "F      0.674628\n",
       "M      0.325334\n",
       "XNA    0.000038\n",
       "Name: CODE_GENDER, dtype: float64"
      ]
     },
     "execution_count": 41,
     "metadata": {},
     "output_type": "execute_result"
    }
   ],
   "source": [
    "# Find Gender count\n",
    "df3.CODE_GENDER.value_counts(normalize=True)"
   ]
  },
  {
   "cell_type": "code",
   "execution_count": 42,
   "metadata": {},
   "outputs": [
    {
     "data": {
      "text/plain": [
       "count     1430155\n",
       "unique          3\n",
       "top             F\n",
       "freq       964822\n",
       "Name: CODE_GENDER, dtype: object"
      ]
     },
     "execution_count": 42,
     "metadata": {},
     "output_type": "execute_result"
    }
   ],
   "source": [
    "# Descibe\n",
    "df3.CODE_GENDER.describe()"
   ]
  },
  {
   "cell_type": "code",
   "execution_count": 44,
   "metadata": {},
   "outputs": [],
   "source": [
    " # Update Null value , with mode\n",
    "df3['CODE_GENDER'].fillna('F',inplace=True)"
   ]
  },
  {
   "cell_type": "markdown",
   "metadata": {},
   "source": [
    "#### FLAG_OWN_REALTY"
   ]
  },
  {
   "cell_type": "code",
   "execution_count": 45,
   "metadata": {},
   "outputs": [
    {
     "data": {
      "text/plain": [
       "Y    0.721371\n",
       "N    0.278629\n",
       "Name: FLAG_OWN_REALTY, dtype: float64"
      ]
     },
     "execution_count": 45,
     "metadata": {},
     "output_type": "execute_result"
    }
   ],
   "source": [
    "df3.FLAG_OWN_REALTY.value_counts(normalize=True)"
   ]
  },
  {
   "cell_type": "code",
   "execution_count": 46,
   "metadata": {},
   "outputs": [],
   "source": [
    "df3['FLAG_OWN_REALTY'].fillna('Y',inplace=True)"
   ]
  },
  {
   "cell_type": "markdown",
   "metadata": {},
   "source": [
    "#### TARGET"
   ]
  },
  {
   "cell_type": "code",
   "execution_count": 47,
   "metadata": {},
   "outputs": [
    {
     "data": {
      "text/plain": [
       "0.0    0.913758\n",
       "1.0    0.086242\n",
       "Name: TARGET, dtype: float64"
      ]
     },
     "execution_count": 47,
     "metadata": {},
     "output_type": "execute_result"
    }
   ],
   "source": [
    "df3.TARGET.value_counts(normalize=True)"
   ]
  },
  {
   "cell_type": "code",
   "execution_count": 48,
   "metadata": {},
   "outputs": [],
   "source": [
    "# Assume Null mean reject \n",
    "df3['TARGET'].fillna(0,inplace=True)"
   ]
  },
  {
   "cell_type": "code",
   "execution_count": 49,
   "metadata": {},
   "outputs": [],
   "source": [
    "df3.drop(['CODE_REJECT_REASON','NAME_GOODS_CATEGORY','CHANNEL_TYPE'],axis=1,inplace=True)"
   ]
  },
  {
   "cell_type": "markdown",
   "metadata": {},
   "source": [
    "#### NAME_CONTRACT_TYPE_x"
   ]
  },
  {
   "cell_type": "code",
   "execution_count": 50,
   "metadata": {},
   "outputs": [],
   "source": [
    "df3 = df3[~df3.NAME_CONTRACT_TYPE_x.isnull()]"
   ]
  },
  {
   "cell_type": "markdown",
   "metadata": {},
   "source": [
    "#### AMT_ANNUITY"
   ]
  },
  {
   "cell_type": "code",
   "execution_count": 51,
   "metadata": {},
   "outputs": [
    {
     "data": {
      "text/plain": [
       "24916.5"
      ]
     },
     "execution_count": 51,
     "metadata": {},
     "output_type": "execute_result"
    }
   ],
   "source": [
    "df3.AMT_ANNUITY_x.median()"
   ]
  },
  {
   "cell_type": "code",
   "execution_count": 52,
   "metadata": {},
   "outputs": [
    {
     "data": {
      "text/plain": [
       "27042.029965134378"
      ]
     },
     "execution_count": 52,
     "metadata": {},
     "output_type": "execute_result"
    }
   ],
   "source": [
    "df3.AMT_ANNUITY_x.mean()"
   ]
  },
  {
   "cell_type": "code",
   "execution_count": 53,
   "metadata": {},
   "outputs": [
    {
     "data": {
      "text/plain": [
       "11223.765"
      ]
     },
     "execution_count": 53,
     "metadata": {},
     "output_type": "execute_result"
    }
   ],
   "source": [
    "df3.AMT_ANNUITY_y.median()"
   ]
  },
  {
   "cell_type": "code",
   "execution_count": 54,
   "metadata": {},
   "outputs": [
    {
     "data": {
      "text/plain": [
       "15837.184951997739"
      ]
     },
     "execution_count": 54,
     "metadata": {},
     "output_type": "execute_result"
    }
   ],
   "source": [
    "df3.AMT_ANNUITY_y.mean()"
   ]
  },
  {
   "cell_type": "code",
   "execution_count": 55,
   "metadata": {},
   "outputs": [],
   "source": [
    "df3.AMT_ANNUITY_x.fillna(df3.AMT_ANNUITY_x.mean(),inplace=True)\n",
    "df3.AMT_ANNUITY_y.fillna(df3.AMT_ANNUITY_y.mean(),inplace=True)"
   ]
  },
  {
   "cell_type": "markdown",
   "metadata": {},
   "source": [
    "#### CNT_FAM_MEMBERS"
   ]
  },
  {
   "cell_type": "code",
   "execution_count": 56,
   "metadata": {},
   "outputs": [
    {
     "name": "stdout",
     "output_type": "stream",
     "text": [
      "2.0\n",
      "2.149005735749951\n"
     ]
    }
   ],
   "source": [
    "print(df3.CNT_FAM_MEMBERS.median())\n",
    "print(df3.CNT_FAM_MEMBERS.mean())"
   ]
  },
  {
   "cell_type": "code",
   "execution_count": 57,
   "metadata": {},
   "outputs": [],
   "source": [
    "df3.CNT_FAM_MEMBERS.fillna(df3.CNT_FAM_MEMBERS.median(),inplace=True)"
   ]
  },
  {
   "cell_type": "code",
   "execution_count": 58,
   "metadata": {},
   "outputs": [],
   "source": [
    "df3.TARGET = df3.TARGET.astype(int)"
   ]
  },
  {
   "cell_type": "code",
   "execution_count": 59,
   "metadata": {},
   "outputs": [],
   "source": [
    "df3.CNT_CHILDREN = df3.CNT_CHILDREN.astype(int)\n",
    "df3.CNT_FAM_MEMBERS = df3.CNT_FAM_MEMBERS.astype(int)\n",
    "df3.REGION_RATING_CLIENT = df3.REGION_RATING_CLIENT.astype(int)\n",
    "\n"
   ]
  },
  {
   "cell_type": "code",
   "execution_count": 60,
   "metadata": {},
   "outputs": [
    {
     "data": {
      "text/plain": [
       "(1430155, 37)"
      ]
     },
     "execution_count": 60,
     "metadata": {},
     "output_type": "execute_result"
    }
   ],
   "source": [
    "df3.shape"
   ]
  },
  {
   "cell_type": "code",
   "execution_count": 61,
   "metadata": {},
   "outputs": [
    {
     "data": {
      "text/html": [
       "<div>\n",
       "<style scoped>\n",
       "    .dataframe tbody tr th:only-of-type {\n",
       "        vertical-align: middle;\n",
       "    }\n",
       "\n",
       "    .dataframe tbody tr th {\n",
       "        vertical-align: top;\n",
       "    }\n",
       "\n",
       "    .dataframe thead th {\n",
       "        text-align: right;\n",
       "    }\n",
       "</style>\n",
       "<table border=\"1\" class=\"dataframe\">\n",
       "  <thead>\n",
       "    <tr style=\"text-align: right;\">\n",
       "      <th></th>\n",
       "      <th>TARGET</th>\n",
       "      <th>NAME_CONTRACT_TYPE_x</th>\n",
       "      <th>CODE_GENDER</th>\n",
       "      <th>FLAG_OWN_REALTY</th>\n",
       "      <th>CNT_CHILDREN</th>\n",
       "      <th>AMT_INCOME_TOTAL</th>\n",
       "      <th>AMT_CREDIT_x</th>\n",
       "      <th>AMT_ANNUITY_x</th>\n",
       "      <th>NAME_TYPE_SUITE_x</th>\n",
       "      <th>NAME_INCOME_TYPE</th>\n",
       "      <th>NAME_EDUCATION_TYPE</th>\n",
       "      <th>NAME_FAMILY_STATUS</th>\n",
       "      <th>DAYS_BIRTH</th>\n",
       "      <th>FLAG_PHONE</th>\n",
       "      <th>FLAG_EMAIL</th>\n",
       "      <th>CNT_FAM_MEMBERS</th>\n",
       "      <th>REGION_RATING_CLIENT</th>\n",
       "      <th>ORGANIZATION_TYPE</th>\n",
       "      <th>AMT_REQ_CREDIT_BUREAU_HOUR</th>\n",
       "      <th>AMT_REQ_CREDIT_BUREAU_DAY</th>\n",
       "      <th>AMT_REQ_CREDIT_BUREAU_WEEK</th>\n",
       "      <th>AMT_REQ_CREDIT_BUREAU_MON</th>\n",
       "      <th>AMT_REQ_CREDIT_BUREAU_QRT</th>\n",
       "      <th>AMT_REQ_CREDIT_BUREAU_YEAR</th>\n",
       "      <th>NAME_CONTRACT_TYPE_y</th>\n",
       "      <th>AMT_ANNUITY_y</th>\n",
       "      <th>AMT_APPLICATION</th>\n",
       "      <th>AMT_CREDIT_y</th>\n",
       "      <th>FLAG_LAST_APPL_PER_CONTRACT</th>\n",
       "      <th>NFLAG_LAST_APPL_IN_DAY</th>\n",
       "      <th>NAME_CONTRACT_STATUS</th>\n",
       "      <th>DAYS_DECISION</th>\n",
       "      <th>NAME_CLIENT_TYPE</th>\n",
       "      <th>SELLERPLACE_AREA</th>\n",
       "      <th>NAME_SELLER_INDUSTRY</th>\n",
       "      <th>CNT_PAYMENT</th>\n",
       "      <th>NAME_YIELD_GROUP</th>\n",
       "    </tr>\n",
       "  </thead>\n",
       "  <tbody>\n",
       "    <tr>\n",
       "      <th>0</th>\n",
       "      <td>1</td>\n",
       "      <td>Cash loans</td>\n",
       "      <td>M</td>\n",
       "      <td>Y</td>\n",
       "      <td>0</td>\n",
       "      <td>202500.0</td>\n",
       "      <td>406597.5</td>\n",
       "      <td>24700.5</td>\n",
       "      <td>Unaccompanied</td>\n",
       "      <td>Working</td>\n",
       "      <td>Secondary / secondary special</td>\n",
       "      <td>Single / not married</td>\n",
       "      <td>-9461.0</td>\n",
       "      <td>1.0</td>\n",
       "      <td>0.0</td>\n",
       "      <td>1</td>\n",
       "      <td>2</td>\n",
       "      <td>Business Entity Type 3</td>\n",
       "      <td>0.0</td>\n",
       "      <td>0.0</td>\n",
       "      <td>0.0</td>\n",
       "      <td>0.0</td>\n",
       "      <td>0.0</td>\n",
       "      <td>1.0</td>\n",
       "      <td>Consumer loans</td>\n",
       "      <td>9251.775</td>\n",
       "      <td>179055.0</td>\n",
       "      <td>179055.0</td>\n",
       "      <td>Y</td>\n",
       "      <td>1.0</td>\n",
       "      <td>Approved</td>\n",
       "      <td>-606.0</td>\n",
       "      <td>New</td>\n",
       "      <td>500.0</td>\n",
       "      <td>Auto technology</td>\n",
       "      <td>24.0</td>\n",
       "      <td>low_normal</td>\n",
       "    </tr>\n",
       "    <tr>\n",
       "      <th>1</th>\n",
       "      <td>0</td>\n",
       "      <td>Cash loans</td>\n",
       "      <td>F</td>\n",
       "      <td>N</td>\n",
       "      <td>0</td>\n",
       "      <td>270000.0</td>\n",
       "      <td>1293502.5</td>\n",
       "      <td>35698.5</td>\n",
       "      <td>Family</td>\n",
       "      <td>State servant</td>\n",
       "      <td>Higher education</td>\n",
       "      <td>Married</td>\n",
       "      <td>-16765.0</td>\n",
       "      <td>1.0</td>\n",
       "      <td>0.0</td>\n",
       "      <td>2</td>\n",
       "      <td>1</td>\n",
       "      <td>School</td>\n",
       "      <td>0.0</td>\n",
       "      <td>0.0</td>\n",
       "      <td>0.0</td>\n",
       "      <td>0.0</td>\n",
       "      <td>0.0</td>\n",
       "      <td>0.0</td>\n",
       "      <td>Cash loans</td>\n",
       "      <td>98356.995</td>\n",
       "      <td>900000.0</td>\n",
       "      <td>1035882.0</td>\n",
       "      <td>Y</td>\n",
       "      <td>1.0</td>\n",
       "      <td>Approved</td>\n",
       "      <td>-746.0</td>\n",
       "      <td>Repeater</td>\n",
       "      <td>-1.0</td>\n",
       "      <td>XNA</td>\n",
       "      <td>12.0</td>\n",
       "      <td>low_normal</td>\n",
       "    </tr>\n",
       "    <tr>\n",
       "      <th>2</th>\n",
       "      <td>0</td>\n",
       "      <td>Cash loans</td>\n",
       "      <td>F</td>\n",
       "      <td>N</td>\n",
       "      <td>0</td>\n",
       "      <td>270000.0</td>\n",
       "      <td>1293502.5</td>\n",
       "      <td>35698.5</td>\n",
       "      <td>Family</td>\n",
       "      <td>State servant</td>\n",
       "      <td>Higher education</td>\n",
       "      <td>Married</td>\n",
       "      <td>-16765.0</td>\n",
       "      <td>1.0</td>\n",
       "      <td>0.0</td>\n",
       "      <td>2</td>\n",
       "      <td>1</td>\n",
       "      <td>School</td>\n",
       "      <td>0.0</td>\n",
       "      <td>0.0</td>\n",
       "      <td>0.0</td>\n",
       "      <td>0.0</td>\n",
       "      <td>0.0</td>\n",
       "      <td>0.0</td>\n",
       "      <td>Consumer loans</td>\n",
       "      <td>64567.665</td>\n",
       "      <td>337500.0</td>\n",
       "      <td>348637.5</td>\n",
       "      <td>Y</td>\n",
       "      <td>1.0</td>\n",
       "      <td>Approved</td>\n",
       "      <td>-828.0</td>\n",
       "      <td>Refreshed</td>\n",
       "      <td>1400.0</td>\n",
       "      <td>Furniture</td>\n",
       "      <td>6.0</td>\n",
       "      <td>middle</td>\n",
       "    </tr>\n",
       "    <tr>\n",
       "      <th>3</th>\n",
       "      <td>0</td>\n",
       "      <td>Cash loans</td>\n",
       "      <td>F</td>\n",
       "      <td>N</td>\n",
       "      <td>0</td>\n",
       "      <td>270000.0</td>\n",
       "      <td>1293502.5</td>\n",
       "      <td>35698.5</td>\n",
       "      <td>Family</td>\n",
       "      <td>State servant</td>\n",
       "      <td>Higher education</td>\n",
       "      <td>Married</td>\n",
       "      <td>-16765.0</td>\n",
       "      <td>1.0</td>\n",
       "      <td>0.0</td>\n",
       "      <td>2</td>\n",
       "      <td>1</td>\n",
       "      <td>School</td>\n",
       "      <td>0.0</td>\n",
       "      <td>0.0</td>\n",
       "      <td>0.0</td>\n",
       "      <td>0.0</td>\n",
       "      <td>0.0</td>\n",
       "      <td>0.0</td>\n",
       "      <td>Consumer loans</td>\n",
       "      <td>6737.310</td>\n",
       "      <td>68809.5</td>\n",
       "      <td>68053.5</td>\n",
       "      <td>Y</td>\n",
       "      <td>1.0</td>\n",
       "      <td>Approved</td>\n",
       "      <td>-2341.0</td>\n",
       "      <td>Refreshed</td>\n",
       "      <td>200.0</td>\n",
       "      <td>Consumer electronics</td>\n",
       "      <td>12.0</td>\n",
       "      <td>middle</td>\n",
       "    </tr>\n",
       "    <tr>\n",
       "      <th>4</th>\n",
       "      <td>0</td>\n",
       "      <td>Revolving loans</td>\n",
       "      <td>M</td>\n",
       "      <td>Y</td>\n",
       "      <td>0</td>\n",
       "      <td>67500.0</td>\n",
       "      <td>135000.0</td>\n",
       "      <td>6750.0</td>\n",
       "      <td>Unaccompanied</td>\n",
       "      <td>Working</td>\n",
       "      <td>Secondary / secondary special</td>\n",
       "      <td>Single / not married</td>\n",
       "      <td>-19046.0</td>\n",
       "      <td>1.0</td>\n",
       "      <td>0.0</td>\n",
       "      <td>1</td>\n",
       "      <td>2</td>\n",
       "      <td>Government</td>\n",
       "      <td>0.0</td>\n",
       "      <td>0.0</td>\n",
       "      <td>0.0</td>\n",
       "      <td>0.0</td>\n",
       "      <td>0.0</td>\n",
       "      <td>0.0</td>\n",
       "      <td>Consumer loans</td>\n",
       "      <td>5357.250</td>\n",
       "      <td>24282.0</td>\n",
       "      <td>20106.0</td>\n",
       "      <td>Y</td>\n",
       "      <td>1.0</td>\n",
       "      <td>Approved</td>\n",
       "      <td>-815.0</td>\n",
       "      <td>New</td>\n",
       "      <td>30.0</td>\n",
       "      <td>Connectivity</td>\n",
       "      <td>4.0</td>\n",
       "      <td>middle</td>\n",
       "    </tr>\n",
       "    <tr>\n",
       "      <th>...</th>\n",
       "      <td>...</td>\n",
       "      <td>...</td>\n",
       "      <td>...</td>\n",
       "      <td>...</td>\n",
       "      <td>...</td>\n",
       "      <td>...</td>\n",
       "      <td>...</td>\n",
       "      <td>...</td>\n",
       "      <td>...</td>\n",
       "      <td>...</td>\n",
       "      <td>...</td>\n",
       "      <td>...</td>\n",
       "      <td>...</td>\n",
       "      <td>...</td>\n",
       "      <td>...</td>\n",
       "      <td>...</td>\n",
       "      <td>...</td>\n",
       "      <td>...</td>\n",
       "      <td>...</td>\n",
       "      <td>...</td>\n",
       "      <td>...</td>\n",
       "      <td>...</td>\n",
       "      <td>...</td>\n",
       "      <td>...</td>\n",
       "      <td>...</td>\n",
       "      <td>...</td>\n",
       "      <td>...</td>\n",
       "      <td>...</td>\n",
       "      <td>...</td>\n",
       "      <td>...</td>\n",
       "      <td>...</td>\n",
       "      <td>...</td>\n",
       "      <td>...</td>\n",
       "      <td>...</td>\n",
       "      <td>...</td>\n",
       "      <td>...</td>\n",
       "      <td>...</td>\n",
       "    </tr>\n",
       "    <tr>\n",
       "      <th>1430150</th>\n",
       "      <td>0</td>\n",
       "      <td>Cash loans</td>\n",
       "      <td>F</td>\n",
       "      <td>N</td>\n",
       "      <td>0</td>\n",
       "      <td>157500.0</td>\n",
       "      <td>675000.0</td>\n",
       "      <td>49117.5</td>\n",
       "      <td>Unaccompanied</td>\n",
       "      <td>Commercial associate</td>\n",
       "      <td>Higher education</td>\n",
       "      <td>Married</td>\n",
       "      <td>-16856.0</td>\n",
       "      <td>1.0</td>\n",
       "      <td>0.0</td>\n",
       "      <td>2</td>\n",
       "      <td>1</td>\n",
       "      <td>Business Entity Type 3</td>\n",
       "      <td>0.0</td>\n",
       "      <td>0.0</td>\n",
       "      <td>0.0</td>\n",
       "      <td>2.0</td>\n",
       "      <td>0.0</td>\n",
       "      <td>1.0</td>\n",
       "      <td>Cash loans</td>\n",
       "      <td>16400.610</td>\n",
       "      <td>229500.0</td>\n",
       "      <td>254340.0</td>\n",
       "      <td>Y</td>\n",
       "      <td>1.0</td>\n",
       "      <td>Approved</td>\n",
       "      <td>-648.0</td>\n",
       "      <td>Repeater</td>\n",
       "      <td>-1.0</td>\n",
       "      <td>XNA</td>\n",
       "      <td>24.0</td>\n",
       "      <td>middle</td>\n",
       "    </tr>\n",
       "    <tr>\n",
       "      <th>1430151</th>\n",
       "      <td>0</td>\n",
       "      <td>Cash loans</td>\n",
       "      <td>F</td>\n",
       "      <td>N</td>\n",
       "      <td>0</td>\n",
       "      <td>157500.0</td>\n",
       "      <td>675000.0</td>\n",
       "      <td>49117.5</td>\n",
       "      <td>Unaccompanied</td>\n",
       "      <td>Commercial associate</td>\n",
       "      <td>Higher education</td>\n",
       "      <td>Married</td>\n",
       "      <td>-16856.0</td>\n",
       "      <td>1.0</td>\n",
       "      <td>0.0</td>\n",
       "      <td>2</td>\n",
       "      <td>1</td>\n",
       "      <td>Business Entity Type 3</td>\n",
       "      <td>0.0</td>\n",
       "      <td>0.0</td>\n",
       "      <td>0.0</td>\n",
       "      <td>2.0</td>\n",
       "      <td>0.0</td>\n",
       "      <td>1.0</td>\n",
       "      <td>Revolving loans</td>\n",
       "      <td>2250.000</td>\n",
       "      <td>45000.0</td>\n",
       "      <td>45000.0</td>\n",
       "      <td>Y</td>\n",
       "      <td>1.0</td>\n",
       "      <td>Refused</td>\n",
       "      <td>-456.0</td>\n",
       "      <td>Repeater</td>\n",
       "      <td>20.0</td>\n",
       "      <td>Connectivity</td>\n",
       "      <td>0.0</td>\n",
       "      <td>XNA</td>\n",
       "    </tr>\n",
       "    <tr>\n",
       "      <th>1430152</th>\n",
       "      <td>0</td>\n",
       "      <td>Cash loans</td>\n",
       "      <td>F</td>\n",
       "      <td>N</td>\n",
       "      <td>0</td>\n",
       "      <td>157500.0</td>\n",
       "      <td>675000.0</td>\n",
       "      <td>49117.5</td>\n",
       "      <td>Unaccompanied</td>\n",
       "      <td>Commercial associate</td>\n",
       "      <td>Higher education</td>\n",
       "      <td>Married</td>\n",
       "      <td>-16856.0</td>\n",
       "      <td>1.0</td>\n",
       "      <td>0.0</td>\n",
       "      <td>2</td>\n",
       "      <td>1</td>\n",
       "      <td>Business Entity Type 3</td>\n",
       "      <td>0.0</td>\n",
       "      <td>0.0</td>\n",
       "      <td>0.0</td>\n",
       "      <td>2.0</td>\n",
       "      <td>0.0</td>\n",
       "      <td>1.0</td>\n",
       "      <td>Cash loans</td>\n",
       "      <td>30737.655</td>\n",
       "      <td>765000.0</td>\n",
       "      <td>1067940.0</td>\n",
       "      <td>Y</td>\n",
       "      <td>1.0</td>\n",
       "      <td>Refused</td>\n",
       "      <td>-171.0</td>\n",
       "      <td>Repeater</td>\n",
       "      <td>-1.0</td>\n",
       "      <td>XNA</td>\n",
       "      <td>60.0</td>\n",
       "      <td>low_normal</td>\n",
       "    </tr>\n",
       "    <tr>\n",
       "      <th>1430153</th>\n",
       "      <td>0</td>\n",
       "      <td>Cash loans</td>\n",
       "      <td>F</td>\n",
       "      <td>N</td>\n",
       "      <td>0</td>\n",
       "      <td>157500.0</td>\n",
       "      <td>675000.0</td>\n",
       "      <td>49117.5</td>\n",
       "      <td>Unaccompanied</td>\n",
       "      <td>Commercial associate</td>\n",
       "      <td>Higher education</td>\n",
       "      <td>Married</td>\n",
       "      <td>-16856.0</td>\n",
       "      <td>1.0</td>\n",
       "      <td>0.0</td>\n",
       "      <td>2</td>\n",
       "      <td>1</td>\n",
       "      <td>Business Entity Type 3</td>\n",
       "      <td>0.0</td>\n",
       "      <td>0.0</td>\n",
       "      <td>0.0</td>\n",
       "      <td>2.0</td>\n",
       "      <td>0.0</td>\n",
       "      <td>1.0</td>\n",
       "      <td>Cash loans</td>\n",
       "      <td>54022.140</td>\n",
       "      <td>1170000.0</td>\n",
       "      <td>1271929.5</td>\n",
       "      <td>Y</td>\n",
       "      <td>1.0</td>\n",
       "      <td>Approved</td>\n",
       "      <td>-787.0</td>\n",
       "      <td>Repeater</td>\n",
       "      <td>6.0</td>\n",
       "      <td>XNA</td>\n",
       "      <td>36.0</td>\n",
       "      <td>low_normal</td>\n",
       "    </tr>\n",
       "    <tr>\n",
       "      <th>1430154</th>\n",
       "      <td>0</td>\n",
       "      <td>Cash loans</td>\n",
       "      <td>F</td>\n",
       "      <td>N</td>\n",
       "      <td>0</td>\n",
       "      <td>157500.0</td>\n",
       "      <td>675000.0</td>\n",
       "      <td>49117.5</td>\n",
       "      <td>Unaccompanied</td>\n",
       "      <td>Commercial associate</td>\n",
       "      <td>Higher education</td>\n",
       "      <td>Married</td>\n",
       "      <td>-16856.0</td>\n",
       "      <td>1.0</td>\n",
       "      <td>0.0</td>\n",
       "      <td>2</td>\n",
       "      <td>1</td>\n",
       "      <td>Business Entity Type 3</td>\n",
       "      <td>0.0</td>\n",
       "      <td>0.0</td>\n",
       "      <td>0.0</td>\n",
       "      <td>2.0</td>\n",
       "      <td>0.0</td>\n",
       "      <td>1.0</td>\n",
       "      <td>Consumer loans</td>\n",
       "      <td>11514.555</td>\n",
       "      <td>58225.5</td>\n",
       "      <td>58545.0</td>\n",
       "      <td>Y</td>\n",
       "      <td>1.0</td>\n",
       "      <td>Approved</td>\n",
       "      <td>-500.0</td>\n",
       "      <td>Repeater</td>\n",
       "      <td>20.0</td>\n",
       "      <td>Connectivity</td>\n",
       "      <td>6.0</td>\n",
       "      <td>high</td>\n",
       "    </tr>\n",
       "  </tbody>\n",
       "</table>\n",
       "<p>1413701 rows × 37 columns</p>\n",
       "</div>"
      ],
      "text/plain": [
       "         TARGET NAME_CONTRACT_TYPE_x CODE_GENDER FLAG_OWN_REALTY  \\\n",
       "0             1           Cash loans           M               Y   \n",
       "1             0           Cash loans           F               N   \n",
       "2             0           Cash loans           F               N   \n",
       "3             0           Cash loans           F               N   \n",
       "4             0      Revolving loans           M               Y   \n",
       "...         ...                  ...         ...             ...   \n",
       "1430150       0           Cash loans           F               N   \n",
       "1430151       0           Cash loans           F               N   \n",
       "1430152       0           Cash loans           F               N   \n",
       "1430153       0           Cash loans           F               N   \n",
       "1430154       0           Cash loans           F               N   \n",
       "\n",
       "         CNT_CHILDREN  AMT_INCOME_TOTAL  AMT_CREDIT_x  AMT_ANNUITY_x  \\\n",
       "0                   0          202500.0      406597.5        24700.5   \n",
       "1                   0          270000.0     1293502.5        35698.5   \n",
       "2                   0          270000.0     1293502.5        35698.5   \n",
       "3                   0          270000.0     1293502.5        35698.5   \n",
       "4                   0           67500.0      135000.0         6750.0   \n",
       "...               ...               ...           ...            ...   \n",
       "1430150             0          157500.0      675000.0        49117.5   \n",
       "1430151             0          157500.0      675000.0        49117.5   \n",
       "1430152             0          157500.0      675000.0        49117.5   \n",
       "1430153             0          157500.0      675000.0        49117.5   \n",
       "1430154             0          157500.0      675000.0        49117.5   \n",
       "\n",
       "        NAME_TYPE_SUITE_x      NAME_INCOME_TYPE  \\\n",
       "0           Unaccompanied               Working   \n",
       "1                  Family         State servant   \n",
       "2                  Family         State servant   \n",
       "3                  Family         State servant   \n",
       "4           Unaccompanied               Working   \n",
       "...                   ...                   ...   \n",
       "1430150     Unaccompanied  Commercial associate   \n",
       "1430151     Unaccompanied  Commercial associate   \n",
       "1430152     Unaccompanied  Commercial associate   \n",
       "1430153     Unaccompanied  Commercial associate   \n",
       "1430154     Unaccompanied  Commercial associate   \n",
       "\n",
       "                   NAME_EDUCATION_TYPE    NAME_FAMILY_STATUS  DAYS_BIRTH  \\\n",
       "0        Secondary / secondary special  Single / not married     -9461.0   \n",
       "1                     Higher education               Married    -16765.0   \n",
       "2                     Higher education               Married    -16765.0   \n",
       "3                     Higher education               Married    -16765.0   \n",
       "4        Secondary / secondary special  Single / not married    -19046.0   \n",
       "...                                ...                   ...         ...   \n",
       "1430150               Higher education               Married    -16856.0   \n",
       "1430151               Higher education               Married    -16856.0   \n",
       "1430152               Higher education               Married    -16856.0   \n",
       "1430153               Higher education               Married    -16856.0   \n",
       "1430154               Higher education               Married    -16856.0   \n",
       "\n",
       "         FLAG_PHONE  FLAG_EMAIL  CNT_FAM_MEMBERS  REGION_RATING_CLIENT  \\\n",
       "0               1.0         0.0                1                     2   \n",
       "1               1.0         0.0                2                     1   \n",
       "2               1.0         0.0                2                     1   \n",
       "3               1.0         0.0                2                     1   \n",
       "4               1.0         0.0                1                     2   \n",
       "...             ...         ...              ...                   ...   \n",
       "1430150         1.0         0.0                2                     1   \n",
       "1430151         1.0         0.0                2                     1   \n",
       "1430152         1.0         0.0                2                     1   \n",
       "1430153         1.0         0.0                2                     1   \n",
       "1430154         1.0         0.0                2                     1   \n",
       "\n",
       "              ORGANIZATION_TYPE  AMT_REQ_CREDIT_BUREAU_HOUR  \\\n",
       "0        Business Entity Type 3                         0.0   \n",
       "1                        School                         0.0   \n",
       "2                        School                         0.0   \n",
       "3                        School                         0.0   \n",
       "4                    Government                         0.0   \n",
       "...                         ...                         ...   \n",
       "1430150  Business Entity Type 3                         0.0   \n",
       "1430151  Business Entity Type 3                         0.0   \n",
       "1430152  Business Entity Type 3                         0.0   \n",
       "1430153  Business Entity Type 3                         0.0   \n",
       "1430154  Business Entity Type 3                         0.0   \n",
       "\n",
       "         AMT_REQ_CREDIT_BUREAU_DAY  AMT_REQ_CREDIT_BUREAU_WEEK  \\\n",
       "0                              0.0                         0.0   \n",
       "1                              0.0                         0.0   \n",
       "2                              0.0                         0.0   \n",
       "3                              0.0                         0.0   \n",
       "4                              0.0                         0.0   \n",
       "...                            ...                         ...   \n",
       "1430150                        0.0                         0.0   \n",
       "1430151                        0.0                         0.0   \n",
       "1430152                        0.0                         0.0   \n",
       "1430153                        0.0                         0.0   \n",
       "1430154                        0.0                         0.0   \n",
       "\n",
       "         AMT_REQ_CREDIT_BUREAU_MON  AMT_REQ_CREDIT_BUREAU_QRT  \\\n",
       "0                              0.0                        0.0   \n",
       "1                              0.0                        0.0   \n",
       "2                              0.0                        0.0   \n",
       "3                              0.0                        0.0   \n",
       "4                              0.0                        0.0   \n",
       "...                            ...                        ...   \n",
       "1430150                        2.0                        0.0   \n",
       "1430151                        2.0                        0.0   \n",
       "1430152                        2.0                        0.0   \n",
       "1430153                        2.0                        0.0   \n",
       "1430154                        2.0                        0.0   \n",
       "\n",
       "         AMT_REQ_CREDIT_BUREAU_YEAR NAME_CONTRACT_TYPE_y  AMT_ANNUITY_y  \\\n",
       "0                               1.0       Consumer loans       9251.775   \n",
       "1                               0.0           Cash loans      98356.995   \n",
       "2                               0.0       Consumer loans      64567.665   \n",
       "3                               0.0       Consumer loans       6737.310   \n",
       "4                               0.0       Consumer loans       5357.250   \n",
       "...                             ...                  ...            ...   \n",
       "1430150                         1.0           Cash loans      16400.610   \n",
       "1430151                         1.0      Revolving loans       2250.000   \n",
       "1430152                         1.0           Cash loans      30737.655   \n",
       "1430153                         1.0           Cash loans      54022.140   \n",
       "1430154                         1.0       Consumer loans      11514.555   \n",
       "\n",
       "         AMT_APPLICATION  AMT_CREDIT_y FLAG_LAST_APPL_PER_CONTRACT  \\\n",
       "0               179055.0      179055.0                           Y   \n",
       "1               900000.0     1035882.0                           Y   \n",
       "2               337500.0      348637.5                           Y   \n",
       "3                68809.5       68053.5                           Y   \n",
       "4                24282.0       20106.0                           Y   \n",
       "...                  ...           ...                         ...   \n",
       "1430150         229500.0      254340.0                           Y   \n",
       "1430151          45000.0       45000.0                           Y   \n",
       "1430152         765000.0     1067940.0                           Y   \n",
       "1430153        1170000.0     1271929.5                           Y   \n",
       "1430154          58225.5       58545.0                           Y   \n",
       "\n",
       "         NFLAG_LAST_APPL_IN_DAY NAME_CONTRACT_STATUS  DAYS_DECISION  \\\n",
       "0                           1.0             Approved         -606.0   \n",
       "1                           1.0             Approved         -746.0   \n",
       "2                           1.0             Approved         -828.0   \n",
       "3                           1.0             Approved        -2341.0   \n",
       "4                           1.0             Approved         -815.0   \n",
       "...                         ...                  ...            ...   \n",
       "1430150                     1.0             Approved         -648.0   \n",
       "1430151                     1.0              Refused         -456.0   \n",
       "1430152                     1.0              Refused         -171.0   \n",
       "1430153                     1.0             Approved         -787.0   \n",
       "1430154                     1.0             Approved         -500.0   \n",
       "\n",
       "        NAME_CLIENT_TYPE  SELLERPLACE_AREA  NAME_SELLER_INDUSTRY  CNT_PAYMENT  \\\n",
       "0                    New             500.0       Auto technology         24.0   \n",
       "1               Repeater              -1.0                   XNA         12.0   \n",
       "2              Refreshed            1400.0             Furniture          6.0   \n",
       "3              Refreshed             200.0  Consumer electronics         12.0   \n",
       "4                    New              30.0          Connectivity          4.0   \n",
       "...                  ...               ...                   ...          ...   \n",
       "1430150         Repeater              -1.0                   XNA         24.0   \n",
       "1430151         Repeater              20.0          Connectivity          0.0   \n",
       "1430152         Repeater              -1.0                   XNA         60.0   \n",
       "1430153         Repeater               6.0                   XNA         36.0   \n",
       "1430154         Repeater              20.0          Connectivity          6.0   \n",
       "\n",
       "        NAME_YIELD_GROUP  \n",
       "0             low_normal  \n",
       "1             low_normal  \n",
       "2                 middle  \n",
       "3                 middle  \n",
       "4                 middle  \n",
       "...                  ...  \n",
       "1430150           middle  \n",
       "1430151              XNA  \n",
       "1430152       low_normal  \n",
       "1430153       low_normal  \n",
       "1430154             high  \n",
       "\n",
       "[1413701 rows x 37 columns]"
      ]
     },
     "execution_count": 61,
     "metadata": {},
     "output_type": "execute_result"
    }
   ],
   "source": [
    "df3[~df3.NAME_CONTRACT_STATUS.isnull()]"
   ]
  },
  {
   "cell_type": "code",
   "execution_count": 62,
   "metadata": {},
   "outputs": [],
   "source": [
    "# Remove NAME_CONTRACT_STATUS with null because count is very less\n",
    "df3 = df3[~df3.NAME_CONTRACT_STATUS.isnull()]"
   ]
  },
  {
   "cell_type": "markdown",
   "metadata": {},
   "source": [
    "### Univariant"
   ]
  },
  {
   "cell_type": "code",
   "execution_count": 63,
   "metadata": {},
   "outputs": [
    {
     "data": {
      "text/html": [
       "<div>\n",
       "<style scoped>\n",
       "    .dataframe tbody tr th:only-of-type {\n",
       "        vertical-align: middle;\n",
       "    }\n",
       "\n",
       "    .dataframe tbody tr th {\n",
       "        vertical-align: top;\n",
       "    }\n",
       "\n",
       "    .dataframe thead th {\n",
       "        text-align: right;\n",
       "    }\n",
       "</style>\n",
       "<table border=\"1\" class=\"dataframe\">\n",
       "  <thead>\n",
       "    <tr style=\"text-align: right;\">\n",
       "      <th></th>\n",
       "      <th>TARGET</th>\n",
       "      <th>NAME_CONTRACT_TYPE_x</th>\n",
       "      <th>CODE_GENDER</th>\n",
       "      <th>FLAG_OWN_REALTY</th>\n",
       "      <th>CNT_CHILDREN</th>\n",
       "      <th>AMT_INCOME_TOTAL</th>\n",
       "      <th>AMT_CREDIT_x</th>\n",
       "      <th>AMT_ANNUITY_x</th>\n",
       "      <th>NAME_TYPE_SUITE_x</th>\n",
       "      <th>NAME_INCOME_TYPE</th>\n",
       "      <th>NAME_EDUCATION_TYPE</th>\n",
       "      <th>NAME_FAMILY_STATUS</th>\n",
       "      <th>DAYS_BIRTH</th>\n",
       "      <th>FLAG_PHONE</th>\n",
       "      <th>FLAG_EMAIL</th>\n",
       "      <th>CNT_FAM_MEMBERS</th>\n",
       "      <th>REGION_RATING_CLIENT</th>\n",
       "      <th>ORGANIZATION_TYPE</th>\n",
       "      <th>AMT_REQ_CREDIT_BUREAU_HOUR</th>\n",
       "      <th>AMT_REQ_CREDIT_BUREAU_DAY</th>\n",
       "      <th>AMT_REQ_CREDIT_BUREAU_WEEK</th>\n",
       "      <th>AMT_REQ_CREDIT_BUREAU_MON</th>\n",
       "      <th>AMT_REQ_CREDIT_BUREAU_QRT</th>\n",
       "      <th>AMT_REQ_CREDIT_BUREAU_YEAR</th>\n",
       "      <th>NAME_CONTRACT_TYPE_y</th>\n",
       "      <th>AMT_ANNUITY_y</th>\n",
       "      <th>AMT_APPLICATION</th>\n",
       "      <th>AMT_CREDIT_y</th>\n",
       "      <th>FLAG_LAST_APPL_PER_CONTRACT</th>\n",
       "      <th>NFLAG_LAST_APPL_IN_DAY</th>\n",
       "      <th>NAME_CONTRACT_STATUS</th>\n",
       "      <th>DAYS_DECISION</th>\n",
       "      <th>NAME_CLIENT_TYPE</th>\n",
       "      <th>SELLERPLACE_AREA</th>\n",
       "      <th>NAME_SELLER_INDUSTRY</th>\n",
       "      <th>CNT_PAYMENT</th>\n",
       "      <th>NAME_YIELD_GROUP</th>\n",
       "    </tr>\n",
       "  </thead>\n",
       "  <tbody>\n",
       "    <tr>\n",
       "      <th>0</th>\n",
       "      <td>1</td>\n",
       "      <td>Cash loans</td>\n",
       "      <td>M</td>\n",
       "      <td>Y</td>\n",
       "      <td>0</td>\n",
       "      <td>202500.0</td>\n",
       "      <td>406597.5</td>\n",
       "      <td>24700.5</td>\n",
       "      <td>Unaccompanied</td>\n",
       "      <td>Working</td>\n",
       "      <td>Secondary / secondary special</td>\n",
       "      <td>Single / not married</td>\n",
       "      <td>-9461.0</td>\n",
       "      <td>1.0</td>\n",
       "      <td>0.0</td>\n",
       "      <td>1</td>\n",
       "      <td>2</td>\n",
       "      <td>Business Entity Type 3</td>\n",
       "      <td>0.0</td>\n",
       "      <td>0.0</td>\n",
       "      <td>0.0</td>\n",
       "      <td>0.0</td>\n",
       "      <td>0.0</td>\n",
       "      <td>1.0</td>\n",
       "      <td>Consumer loans</td>\n",
       "      <td>9251.775</td>\n",
       "      <td>179055.0</td>\n",
       "      <td>179055.0</td>\n",
       "      <td>Y</td>\n",
       "      <td>1.0</td>\n",
       "      <td>Approved</td>\n",
       "      <td>-606.0</td>\n",
       "      <td>New</td>\n",
       "      <td>500.0</td>\n",
       "      <td>Auto technology</td>\n",
       "      <td>24.0</td>\n",
       "      <td>low_normal</td>\n",
       "    </tr>\n",
       "    <tr>\n",
       "      <th>1</th>\n",
       "      <td>0</td>\n",
       "      <td>Cash loans</td>\n",
       "      <td>F</td>\n",
       "      <td>N</td>\n",
       "      <td>0</td>\n",
       "      <td>270000.0</td>\n",
       "      <td>1293502.5</td>\n",
       "      <td>35698.5</td>\n",
       "      <td>Family</td>\n",
       "      <td>State servant</td>\n",
       "      <td>Higher education</td>\n",
       "      <td>Married</td>\n",
       "      <td>-16765.0</td>\n",
       "      <td>1.0</td>\n",
       "      <td>0.0</td>\n",
       "      <td>2</td>\n",
       "      <td>1</td>\n",
       "      <td>School</td>\n",
       "      <td>0.0</td>\n",
       "      <td>0.0</td>\n",
       "      <td>0.0</td>\n",
       "      <td>0.0</td>\n",
       "      <td>0.0</td>\n",
       "      <td>0.0</td>\n",
       "      <td>Cash loans</td>\n",
       "      <td>98356.995</td>\n",
       "      <td>900000.0</td>\n",
       "      <td>1035882.0</td>\n",
       "      <td>Y</td>\n",
       "      <td>1.0</td>\n",
       "      <td>Approved</td>\n",
       "      <td>-746.0</td>\n",
       "      <td>Repeater</td>\n",
       "      <td>-1.0</td>\n",
       "      <td>XNA</td>\n",
       "      <td>12.0</td>\n",
       "      <td>low_normal</td>\n",
       "    </tr>\n",
       "    <tr>\n",
       "      <th>2</th>\n",
       "      <td>0</td>\n",
       "      <td>Cash loans</td>\n",
       "      <td>F</td>\n",
       "      <td>N</td>\n",
       "      <td>0</td>\n",
       "      <td>270000.0</td>\n",
       "      <td>1293502.5</td>\n",
       "      <td>35698.5</td>\n",
       "      <td>Family</td>\n",
       "      <td>State servant</td>\n",
       "      <td>Higher education</td>\n",
       "      <td>Married</td>\n",
       "      <td>-16765.0</td>\n",
       "      <td>1.0</td>\n",
       "      <td>0.0</td>\n",
       "      <td>2</td>\n",
       "      <td>1</td>\n",
       "      <td>School</td>\n",
       "      <td>0.0</td>\n",
       "      <td>0.0</td>\n",
       "      <td>0.0</td>\n",
       "      <td>0.0</td>\n",
       "      <td>0.0</td>\n",
       "      <td>0.0</td>\n",
       "      <td>Consumer loans</td>\n",
       "      <td>64567.665</td>\n",
       "      <td>337500.0</td>\n",
       "      <td>348637.5</td>\n",
       "      <td>Y</td>\n",
       "      <td>1.0</td>\n",
       "      <td>Approved</td>\n",
       "      <td>-828.0</td>\n",
       "      <td>Refreshed</td>\n",
       "      <td>1400.0</td>\n",
       "      <td>Furniture</td>\n",
       "      <td>6.0</td>\n",
       "      <td>middle</td>\n",
       "    </tr>\n",
       "    <tr>\n",
       "      <th>3</th>\n",
       "      <td>0</td>\n",
       "      <td>Cash loans</td>\n",
       "      <td>F</td>\n",
       "      <td>N</td>\n",
       "      <td>0</td>\n",
       "      <td>270000.0</td>\n",
       "      <td>1293502.5</td>\n",
       "      <td>35698.5</td>\n",
       "      <td>Family</td>\n",
       "      <td>State servant</td>\n",
       "      <td>Higher education</td>\n",
       "      <td>Married</td>\n",
       "      <td>-16765.0</td>\n",
       "      <td>1.0</td>\n",
       "      <td>0.0</td>\n",
       "      <td>2</td>\n",
       "      <td>1</td>\n",
       "      <td>School</td>\n",
       "      <td>0.0</td>\n",
       "      <td>0.0</td>\n",
       "      <td>0.0</td>\n",
       "      <td>0.0</td>\n",
       "      <td>0.0</td>\n",
       "      <td>0.0</td>\n",
       "      <td>Consumer loans</td>\n",
       "      <td>6737.310</td>\n",
       "      <td>68809.5</td>\n",
       "      <td>68053.5</td>\n",
       "      <td>Y</td>\n",
       "      <td>1.0</td>\n",
       "      <td>Approved</td>\n",
       "      <td>-2341.0</td>\n",
       "      <td>Refreshed</td>\n",
       "      <td>200.0</td>\n",
       "      <td>Consumer electronics</td>\n",
       "      <td>12.0</td>\n",
       "      <td>middle</td>\n",
       "    </tr>\n",
       "    <tr>\n",
       "      <th>4</th>\n",
       "      <td>0</td>\n",
       "      <td>Revolving loans</td>\n",
       "      <td>M</td>\n",
       "      <td>Y</td>\n",
       "      <td>0</td>\n",
       "      <td>67500.0</td>\n",
       "      <td>135000.0</td>\n",
       "      <td>6750.0</td>\n",
       "      <td>Unaccompanied</td>\n",
       "      <td>Working</td>\n",
       "      <td>Secondary / secondary special</td>\n",
       "      <td>Single / not married</td>\n",
       "      <td>-19046.0</td>\n",
       "      <td>1.0</td>\n",
       "      <td>0.0</td>\n",
       "      <td>1</td>\n",
       "      <td>2</td>\n",
       "      <td>Government</td>\n",
       "      <td>0.0</td>\n",
       "      <td>0.0</td>\n",
       "      <td>0.0</td>\n",
       "      <td>0.0</td>\n",
       "      <td>0.0</td>\n",
       "      <td>0.0</td>\n",
       "      <td>Consumer loans</td>\n",
       "      <td>5357.250</td>\n",
       "      <td>24282.0</td>\n",
       "      <td>20106.0</td>\n",
       "      <td>Y</td>\n",
       "      <td>1.0</td>\n",
       "      <td>Approved</td>\n",
       "      <td>-815.0</td>\n",
       "      <td>New</td>\n",
       "      <td>30.0</td>\n",
       "      <td>Connectivity</td>\n",
       "      <td>4.0</td>\n",
       "      <td>middle</td>\n",
       "    </tr>\n",
       "  </tbody>\n",
       "</table>\n",
       "</div>"
      ],
      "text/plain": [
       "   TARGET NAME_CONTRACT_TYPE_x CODE_GENDER FLAG_OWN_REALTY  CNT_CHILDREN  \\\n",
       "0       1           Cash loans           M               Y             0   \n",
       "1       0           Cash loans           F               N             0   \n",
       "2       0           Cash loans           F               N             0   \n",
       "3       0           Cash loans           F               N             0   \n",
       "4       0      Revolving loans           M               Y             0   \n",
       "\n",
       "   AMT_INCOME_TOTAL  AMT_CREDIT_x  AMT_ANNUITY_x NAME_TYPE_SUITE_x  \\\n",
       "0          202500.0      406597.5        24700.5     Unaccompanied   \n",
       "1          270000.0     1293502.5        35698.5            Family   \n",
       "2          270000.0     1293502.5        35698.5            Family   \n",
       "3          270000.0     1293502.5        35698.5            Family   \n",
       "4           67500.0      135000.0         6750.0     Unaccompanied   \n",
       "\n",
       "  NAME_INCOME_TYPE            NAME_EDUCATION_TYPE    NAME_FAMILY_STATUS  \\\n",
       "0          Working  Secondary / secondary special  Single / not married   \n",
       "1    State servant               Higher education               Married   \n",
       "2    State servant               Higher education               Married   \n",
       "3    State servant               Higher education               Married   \n",
       "4          Working  Secondary / secondary special  Single / not married   \n",
       "\n",
       "   DAYS_BIRTH  FLAG_PHONE  FLAG_EMAIL  CNT_FAM_MEMBERS  REGION_RATING_CLIENT  \\\n",
       "0     -9461.0         1.0         0.0                1                     2   \n",
       "1    -16765.0         1.0         0.0                2                     1   \n",
       "2    -16765.0         1.0         0.0                2                     1   \n",
       "3    -16765.0         1.0         0.0                2                     1   \n",
       "4    -19046.0         1.0         0.0                1                     2   \n",
       "\n",
       "        ORGANIZATION_TYPE  AMT_REQ_CREDIT_BUREAU_HOUR  \\\n",
       "0  Business Entity Type 3                         0.0   \n",
       "1                  School                         0.0   \n",
       "2                  School                         0.0   \n",
       "3                  School                         0.0   \n",
       "4              Government                         0.0   \n",
       "\n",
       "   AMT_REQ_CREDIT_BUREAU_DAY  AMT_REQ_CREDIT_BUREAU_WEEK  \\\n",
       "0                        0.0                         0.0   \n",
       "1                        0.0                         0.0   \n",
       "2                        0.0                         0.0   \n",
       "3                        0.0                         0.0   \n",
       "4                        0.0                         0.0   \n",
       "\n",
       "   AMT_REQ_CREDIT_BUREAU_MON  AMT_REQ_CREDIT_BUREAU_QRT  \\\n",
       "0                        0.0                        0.0   \n",
       "1                        0.0                        0.0   \n",
       "2                        0.0                        0.0   \n",
       "3                        0.0                        0.0   \n",
       "4                        0.0                        0.0   \n",
       "\n",
       "   AMT_REQ_CREDIT_BUREAU_YEAR NAME_CONTRACT_TYPE_y  AMT_ANNUITY_y  \\\n",
       "0                         1.0       Consumer loans       9251.775   \n",
       "1                         0.0           Cash loans      98356.995   \n",
       "2                         0.0       Consumer loans      64567.665   \n",
       "3                         0.0       Consumer loans       6737.310   \n",
       "4                         0.0       Consumer loans       5357.250   \n",
       "\n",
       "   AMT_APPLICATION  AMT_CREDIT_y FLAG_LAST_APPL_PER_CONTRACT  \\\n",
       "0         179055.0      179055.0                           Y   \n",
       "1         900000.0     1035882.0                           Y   \n",
       "2         337500.0      348637.5                           Y   \n",
       "3          68809.5       68053.5                           Y   \n",
       "4          24282.0       20106.0                           Y   \n",
       "\n",
       "   NFLAG_LAST_APPL_IN_DAY NAME_CONTRACT_STATUS  DAYS_DECISION  \\\n",
       "0                     1.0             Approved         -606.0   \n",
       "1                     1.0             Approved         -746.0   \n",
       "2                     1.0             Approved         -828.0   \n",
       "3                     1.0             Approved        -2341.0   \n",
       "4                     1.0             Approved         -815.0   \n",
       "\n",
       "  NAME_CLIENT_TYPE  SELLERPLACE_AREA  NAME_SELLER_INDUSTRY  CNT_PAYMENT  \\\n",
       "0              New             500.0       Auto technology         24.0   \n",
       "1         Repeater              -1.0                   XNA         12.0   \n",
       "2        Refreshed            1400.0             Furniture          6.0   \n",
       "3        Refreshed             200.0  Consumer electronics         12.0   \n",
       "4              New              30.0          Connectivity          4.0   \n",
       "\n",
       "  NAME_YIELD_GROUP  \n",
       "0       low_normal  \n",
       "1       low_normal  \n",
       "2           middle  \n",
       "3           middle  \n",
       "4           middle  "
      ]
     },
     "execution_count": 63,
     "metadata": {},
     "output_type": "execute_result"
    }
   ],
   "source": [
    "df3.head()"
   ]
  },
  {
   "cell_type": "code",
   "execution_count": 64,
   "metadata": {},
   "outputs": [],
   "source": [
    "# Change the column name and convert data into year.\n",
    "df3.rename(columns={\"DAYS_BIRTH\":\"YEARS_BIRTH\"},inplace=True);"
   ]
  },
  {
   "cell_type": "code",
   "execution_count": 65,
   "metadata": {},
   "outputs": [
    {
     "data": {
      "text/html": [
       "<div>\n",
       "<style scoped>\n",
       "    .dataframe tbody tr th:only-of-type {\n",
       "        vertical-align: middle;\n",
       "    }\n",
       "\n",
       "    .dataframe tbody tr th {\n",
       "        vertical-align: top;\n",
       "    }\n",
       "\n",
       "    .dataframe thead th {\n",
       "        text-align: right;\n",
       "    }\n",
       "</style>\n",
       "<table border=\"1\" class=\"dataframe\">\n",
       "  <thead>\n",
       "    <tr style=\"text-align: right;\">\n",
       "      <th></th>\n",
       "      <th>TARGET</th>\n",
       "      <th>NAME_CONTRACT_TYPE_x</th>\n",
       "      <th>CODE_GENDER</th>\n",
       "      <th>FLAG_OWN_REALTY</th>\n",
       "      <th>CNT_CHILDREN</th>\n",
       "      <th>AMT_INCOME_TOTAL</th>\n",
       "      <th>AMT_CREDIT_x</th>\n",
       "      <th>AMT_ANNUITY_x</th>\n",
       "      <th>NAME_TYPE_SUITE_x</th>\n",
       "      <th>NAME_INCOME_TYPE</th>\n",
       "      <th>NAME_EDUCATION_TYPE</th>\n",
       "      <th>NAME_FAMILY_STATUS</th>\n",
       "      <th>YEARS_BIRTH</th>\n",
       "      <th>FLAG_PHONE</th>\n",
       "      <th>FLAG_EMAIL</th>\n",
       "      <th>CNT_FAM_MEMBERS</th>\n",
       "      <th>REGION_RATING_CLIENT</th>\n",
       "      <th>ORGANIZATION_TYPE</th>\n",
       "      <th>AMT_REQ_CREDIT_BUREAU_HOUR</th>\n",
       "      <th>AMT_REQ_CREDIT_BUREAU_DAY</th>\n",
       "      <th>AMT_REQ_CREDIT_BUREAU_WEEK</th>\n",
       "      <th>AMT_REQ_CREDIT_BUREAU_MON</th>\n",
       "      <th>AMT_REQ_CREDIT_BUREAU_QRT</th>\n",
       "      <th>AMT_REQ_CREDIT_BUREAU_YEAR</th>\n",
       "      <th>NAME_CONTRACT_TYPE_y</th>\n",
       "      <th>AMT_ANNUITY_y</th>\n",
       "      <th>AMT_APPLICATION</th>\n",
       "      <th>AMT_CREDIT_y</th>\n",
       "      <th>FLAG_LAST_APPL_PER_CONTRACT</th>\n",
       "      <th>NFLAG_LAST_APPL_IN_DAY</th>\n",
       "      <th>NAME_CONTRACT_STATUS</th>\n",
       "      <th>DAYS_DECISION</th>\n",
       "      <th>NAME_CLIENT_TYPE</th>\n",
       "      <th>SELLERPLACE_AREA</th>\n",
       "      <th>NAME_SELLER_INDUSTRY</th>\n",
       "      <th>CNT_PAYMENT</th>\n",
       "      <th>NAME_YIELD_GROUP</th>\n",
       "    </tr>\n",
       "  </thead>\n",
       "  <tbody>\n",
       "    <tr>\n",
       "      <th>0</th>\n",
       "      <td>1</td>\n",
       "      <td>Cash loans</td>\n",
       "      <td>M</td>\n",
       "      <td>Y</td>\n",
       "      <td>0</td>\n",
       "      <td>202500.0</td>\n",
       "      <td>406597.5</td>\n",
       "      <td>24700.5</td>\n",
       "      <td>Unaccompanied</td>\n",
       "      <td>Working</td>\n",
       "      <td>Secondary / secondary special</td>\n",
       "      <td>Single / not married</td>\n",
       "      <td>26.0</td>\n",
       "      <td>1.0</td>\n",
       "      <td>0.0</td>\n",
       "      <td>1</td>\n",
       "      <td>2</td>\n",
       "      <td>Business Entity Type 3</td>\n",
       "      <td>0.0</td>\n",
       "      <td>0.0</td>\n",
       "      <td>0.0</td>\n",
       "      <td>0.0</td>\n",
       "      <td>0.0</td>\n",
       "      <td>1.0</td>\n",
       "      <td>Consumer loans</td>\n",
       "      <td>9251.775</td>\n",
       "      <td>179055.0</td>\n",
       "      <td>179055.0</td>\n",
       "      <td>Y</td>\n",
       "      <td>1.0</td>\n",
       "      <td>Approved</td>\n",
       "      <td>-606.0</td>\n",
       "      <td>New</td>\n",
       "      <td>500.0</td>\n",
       "      <td>Auto technology</td>\n",
       "      <td>24.0</td>\n",
       "      <td>low_normal</td>\n",
       "    </tr>\n",
       "    <tr>\n",
       "      <th>1</th>\n",
       "      <td>0</td>\n",
       "      <td>Cash loans</td>\n",
       "      <td>F</td>\n",
       "      <td>N</td>\n",
       "      <td>0</td>\n",
       "      <td>270000.0</td>\n",
       "      <td>1293502.5</td>\n",
       "      <td>35698.5</td>\n",
       "      <td>Family</td>\n",
       "      <td>State servant</td>\n",
       "      <td>Higher education</td>\n",
       "      <td>Married</td>\n",
       "      <td>46.0</td>\n",
       "      <td>1.0</td>\n",
       "      <td>0.0</td>\n",
       "      <td>2</td>\n",
       "      <td>1</td>\n",
       "      <td>School</td>\n",
       "      <td>0.0</td>\n",
       "      <td>0.0</td>\n",
       "      <td>0.0</td>\n",
       "      <td>0.0</td>\n",
       "      <td>0.0</td>\n",
       "      <td>0.0</td>\n",
       "      <td>Cash loans</td>\n",
       "      <td>98356.995</td>\n",
       "      <td>900000.0</td>\n",
       "      <td>1035882.0</td>\n",
       "      <td>Y</td>\n",
       "      <td>1.0</td>\n",
       "      <td>Approved</td>\n",
       "      <td>-746.0</td>\n",
       "      <td>Repeater</td>\n",
       "      <td>-1.0</td>\n",
       "      <td>XNA</td>\n",
       "      <td>12.0</td>\n",
       "      <td>low_normal</td>\n",
       "    </tr>\n",
       "    <tr>\n",
       "      <th>2</th>\n",
       "      <td>0</td>\n",
       "      <td>Cash loans</td>\n",
       "      <td>F</td>\n",
       "      <td>N</td>\n",
       "      <td>0</td>\n",
       "      <td>270000.0</td>\n",
       "      <td>1293502.5</td>\n",
       "      <td>35698.5</td>\n",
       "      <td>Family</td>\n",
       "      <td>State servant</td>\n",
       "      <td>Higher education</td>\n",
       "      <td>Married</td>\n",
       "      <td>46.0</td>\n",
       "      <td>1.0</td>\n",
       "      <td>0.0</td>\n",
       "      <td>2</td>\n",
       "      <td>1</td>\n",
       "      <td>School</td>\n",
       "      <td>0.0</td>\n",
       "      <td>0.0</td>\n",
       "      <td>0.0</td>\n",
       "      <td>0.0</td>\n",
       "      <td>0.0</td>\n",
       "      <td>0.0</td>\n",
       "      <td>Consumer loans</td>\n",
       "      <td>64567.665</td>\n",
       "      <td>337500.0</td>\n",
       "      <td>348637.5</td>\n",
       "      <td>Y</td>\n",
       "      <td>1.0</td>\n",
       "      <td>Approved</td>\n",
       "      <td>-828.0</td>\n",
       "      <td>Refreshed</td>\n",
       "      <td>1400.0</td>\n",
       "      <td>Furniture</td>\n",
       "      <td>6.0</td>\n",
       "      <td>middle</td>\n",
       "    </tr>\n",
       "    <tr>\n",
       "      <th>3</th>\n",
       "      <td>0</td>\n",
       "      <td>Cash loans</td>\n",
       "      <td>F</td>\n",
       "      <td>N</td>\n",
       "      <td>0</td>\n",
       "      <td>270000.0</td>\n",
       "      <td>1293502.5</td>\n",
       "      <td>35698.5</td>\n",
       "      <td>Family</td>\n",
       "      <td>State servant</td>\n",
       "      <td>Higher education</td>\n",
       "      <td>Married</td>\n",
       "      <td>46.0</td>\n",
       "      <td>1.0</td>\n",
       "      <td>0.0</td>\n",
       "      <td>2</td>\n",
       "      <td>1</td>\n",
       "      <td>School</td>\n",
       "      <td>0.0</td>\n",
       "      <td>0.0</td>\n",
       "      <td>0.0</td>\n",
       "      <td>0.0</td>\n",
       "      <td>0.0</td>\n",
       "      <td>0.0</td>\n",
       "      <td>Consumer loans</td>\n",
       "      <td>6737.310</td>\n",
       "      <td>68809.5</td>\n",
       "      <td>68053.5</td>\n",
       "      <td>Y</td>\n",
       "      <td>1.0</td>\n",
       "      <td>Approved</td>\n",
       "      <td>-2341.0</td>\n",
       "      <td>Refreshed</td>\n",
       "      <td>200.0</td>\n",
       "      <td>Consumer electronics</td>\n",
       "      <td>12.0</td>\n",
       "      <td>middle</td>\n",
       "    </tr>\n",
       "    <tr>\n",
       "      <th>4</th>\n",
       "      <td>0</td>\n",
       "      <td>Revolving loans</td>\n",
       "      <td>M</td>\n",
       "      <td>Y</td>\n",
       "      <td>0</td>\n",
       "      <td>67500.0</td>\n",
       "      <td>135000.0</td>\n",
       "      <td>6750.0</td>\n",
       "      <td>Unaccompanied</td>\n",
       "      <td>Working</td>\n",
       "      <td>Secondary / secondary special</td>\n",
       "      <td>Single / not married</td>\n",
       "      <td>53.0</td>\n",
       "      <td>1.0</td>\n",
       "      <td>0.0</td>\n",
       "      <td>1</td>\n",
       "      <td>2</td>\n",
       "      <td>Government</td>\n",
       "      <td>0.0</td>\n",
       "      <td>0.0</td>\n",
       "      <td>0.0</td>\n",
       "      <td>0.0</td>\n",
       "      <td>0.0</td>\n",
       "      <td>0.0</td>\n",
       "      <td>Consumer loans</td>\n",
       "      <td>5357.250</td>\n",
       "      <td>24282.0</td>\n",
       "      <td>20106.0</td>\n",
       "      <td>Y</td>\n",
       "      <td>1.0</td>\n",
       "      <td>Approved</td>\n",
       "      <td>-815.0</td>\n",
       "      <td>New</td>\n",
       "      <td>30.0</td>\n",
       "      <td>Connectivity</td>\n",
       "      <td>4.0</td>\n",
       "      <td>middle</td>\n",
       "    </tr>\n",
       "  </tbody>\n",
       "</table>\n",
       "</div>"
      ],
      "text/plain": [
       "   TARGET NAME_CONTRACT_TYPE_x CODE_GENDER FLAG_OWN_REALTY  CNT_CHILDREN  \\\n",
       "0       1           Cash loans           M               Y             0   \n",
       "1       0           Cash loans           F               N             0   \n",
       "2       0           Cash loans           F               N             0   \n",
       "3       0           Cash loans           F               N             0   \n",
       "4       0      Revolving loans           M               Y             0   \n",
       "\n",
       "   AMT_INCOME_TOTAL  AMT_CREDIT_x  AMT_ANNUITY_x NAME_TYPE_SUITE_x  \\\n",
       "0          202500.0      406597.5        24700.5     Unaccompanied   \n",
       "1          270000.0     1293502.5        35698.5            Family   \n",
       "2          270000.0     1293502.5        35698.5            Family   \n",
       "3          270000.0     1293502.5        35698.5            Family   \n",
       "4           67500.0      135000.0         6750.0     Unaccompanied   \n",
       "\n",
       "  NAME_INCOME_TYPE            NAME_EDUCATION_TYPE    NAME_FAMILY_STATUS  \\\n",
       "0          Working  Secondary / secondary special  Single / not married   \n",
       "1    State servant               Higher education               Married   \n",
       "2    State servant               Higher education               Married   \n",
       "3    State servant               Higher education               Married   \n",
       "4          Working  Secondary / secondary special  Single / not married   \n",
       "\n",
       "   YEARS_BIRTH  FLAG_PHONE  FLAG_EMAIL  CNT_FAM_MEMBERS  REGION_RATING_CLIENT  \\\n",
       "0         26.0         1.0         0.0                1                     2   \n",
       "1         46.0         1.0         0.0                2                     1   \n",
       "2         46.0         1.0         0.0                2                     1   \n",
       "3         46.0         1.0         0.0                2                     1   \n",
       "4         53.0         1.0         0.0                1                     2   \n",
       "\n",
       "        ORGANIZATION_TYPE  AMT_REQ_CREDIT_BUREAU_HOUR  \\\n",
       "0  Business Entity Type 3                         0.0   \n",
       "1                  School                         0.0   \n",
       "2                  School                         0.0   \n",
       "3                  School                         0.0   \n",
       "4              Government                         0.0   \n",
       "\n",
       "   AMT_REQ_CREDIT_BUREAU_DAY  AMT_REQ_CREDIT_BUREAU_WEEK  \\\n",
       "0                        0.0                         0.0   \n",
       "1                        0.0                         0.0   \n",
       "2                        0.0                         0.0   \n",
       "3                        0.0                         0.0   \n",
       "4                        0.0                         0.0   \n",
       "\n",
       "   AMT_REQ_CREDIT_BUREAU_MON  AMT_REQ_CREDIT_BUREAU_QRT  \\\n",
       "0                        0.0                        0.0   \n",
       "1                        0.0                        0.0   \n",
       "2                        0.0                        0.0   \n",
       "3                        0.0                        0.0   \n",
       "4                        0.0                        0.0   \n",
       "\n",
       "   AMT_REQ_CREDIT_BUREAU_YEAR NAME_CONTRACT_TYPE_y  AMT_ANNUITY_y  \\\n",
       "0                         1.0       Consumer loans       9251.775   \n",
       "1                         0.0           Cash loans      98356.995   \n",
       "2                         0.0       Consumer loans      64567.665   \n",
       "3                         0.0       Consumer loans       6737.310   \n",
       "4                         0.0       Consumer loans       5357.250   \n",
       "\n",
       "   AMT_APPLICATION  AMT_CREDIT_y FLAG_LAST_APPL_PER_CONTRACT  \\\n",
       "0         179055.0      179055.0                           Y   \n",
       "1         900000.0     1035882.0                           Y   \n",
       "2         337500.0      348637.5                           Y   \n",
       "3          68809.5       68053.5                           Y   \n",
       "4          24282.0       20106.0                           Y   \n",
       "\n",
       "   NFLAG_LAST_APPL_IN_DAY NAME_CONTRACT_STATUS  DAYS_DECISION  \\\n",
       "0                     1.0             Approved         -606.0   \n",
       "1                     1.0             Approved         -746.0   \n",
       "2                     1.0             Approved         -828.0   \n",
       "3                     1.0             Approved        -2341.0   \n",
       "4                     1.0             Approved         -815.0   \n",
       "\n",
       "  NAME_CLIENT_TYPE  SELLERPLACE_AREA  NAME_SELLER_INDUSTRY  CNT_PAYMENT  \\\n",
       "0              New             500.0       Auto technology         24.0   \n",
       "1         Repeater              -1.0                   XNA         12.0   \n",
       "2        Refreshed            1400.0             Furniture          6.0   \n",
       "3        Refreshed             200.0  Consumer electronics         12.0   \n",
       "4              New              30.0          Connectivity          4.0   \n",
       "\n",
       "  NAME_YIELD_GROUP  \n",
       "0       low_normal  \n",
       "1       low_normal  \n",
       "2           middle  \n",
       "3           middle  \n",
       "4           middle  "
      ]
     },
     "execution_count": 65,
     "metadata": {},
     "output_type": "execute_result"
    }
   ],
   "source": [
    "df3.YEARS_BIRTH = df3.YEARS_BIRTH.apply(lambda x: abs(x//365))\n",
    "\n",
    "df3.head()"
   ]
  },
  {
   "cell_type": "markdown",
   "metadata": {},
   "source": [
    "#### DAYS_DECISION"
   ]
  },
  {
   "cell_type": "code",
   "execution_count": 66,
   "metadata": {},
   "outputs": [
    {
     "data": {
      "text/html": [
       "<div>\n",
       "<style scoped>\n",
       "    .dataframe tbody tr th:only-of-type {\n",
       "        vertical-align: middle;\n",
       "    }\n",
       "\n",
       "    .dataframe tbody tr th {\n",
       "        vertical-align: top;\n",
       "    }\n",
       "\n",
       "    .dataframe thead th {\n",
       "        text-align: right;\n",
       "    }\n",
       "</style>\n",
       "<table border=\"1\" class=\"dataframe\">\n",
       "  <thead>\n",
       "    <tr style=\"text-align: right;\">\n",
       "      <th></th>\n",
       "      <th>TARGET</th>\n",
       "      <th>NAME_CONTRACT_TYPE_x</th>\n",
       "      <th>CODE_GENDER</th>\n",
       "      <th>FLAG_OWN_REALTY</th>\n",
       "      <th>CNT_CHILDREN</th>\n",
       "      <th>AMT_INCOME_TOTAL</th>\n",
       "      <th>AMT_CREDIT_x</th>\n",
       "      <th>AMT_ANNUITY_x</th>\n",
       "      <th>NAME_TYPE_SUITE_x</th>\n",
       "      <th>NAME_INCOME_TYPE</th>\n",
       "      <th>NAME_EDUCATION_TYPE</th>\n",
       "      <th>NAME_FAMILY_STATUS</th>\n",
       "      <th>YEARS_BIRTH</th>\n",
       "      <th>FLAG_PHONE</th>\n",
       "      <th>FLAG_EMAIL</th>\n",
       "      <th>CNT_FAM_MEMBERS</th>\n",
       "      <th>REGION_RATING_CLIENT</th>\n",
       "      <th>ORGANIZATION_TYPE</th>\n",
       "      <th>AMT_REQ_CREDIT_BUREAU_HOUR</th>\n",
       "      <th>AMT_REQ_CREDIT_BUREAU_DAY</th>\n",
       "      <th>AMT_REQ_CREDIT_BUREAU_WEEK</th>\n",
       "      <th>AMT_REQ_CREDIT_BUREAU_MON</th>\n",
       "      <th>AMT_REQ_CREDIT_BUREAU_QRT</th>\n",
       "      <th>AMT_REQ_CREDIT_BUREAU_YEAR</th>\n",
       "      <th>NAME_CONTRACT_TYPE_y</th>\n",
       "      <th>AMT_ANNUITY_y</th>\n",
       "      <th>AMT_APPLICATION</th>\n",
       "      <th>AMT_CREDIT_y</th>\n",
       "      <th>FLAG_LAST_APPL_PER_CONTRACT</th>\n",
       "      <th>NFLAG_LAST_APPL_IN_DAY</th>\n",
       "      <th>NAME_CONTRACT_STATUS</th>\n",
       "      <th>DAYS_DECISION</th>\n",
       "      <th>NAME_CLIENT_TYPE</th>\n",
       "      <th>SELLERPLACE_AREA</th>\n",
       "      <th>NAME_SELLER_INDUSTRY</th>\n",
       "      <th>CNT_PAYMENT</th>\n",
       "      <th>NAME_YIELD_GROUP</th>\n",
       "    </tr>\n",
       "  </thead>\n",
       "  <tbody>\n",
       "    <tr>\n",
       "      <th>0</th>\n",
       "      <td>1</td>\n",
       "      <td>Cash loans</td>\n",
       "      <td>M</td>\n",
       "      <td>Y</td>\n",
       "      <td>0</td>\n",
       "      <td>202500.0</td>\n",
       "      <td>406597.5</td>\n",
       "      <td>24700.5</td>\n",
       "      <td>Unaccompanied</td>\n",
       "      <td>Working</td>\n",
       "      <td>Secondary / secondary special</td>\n",
       "      <td>Single / not married</td>\n",
       "      <td>26.0</td>\n",
       "      <td>1.0</td>\n",
       "      <td>0.0</td>\n",
       "      <td>1</td>\n",
       "      <td>2</td>\n",
       "      <td>Business Entity Type 3</td>\n",
       "      <td>0.0</td>\n",
       "      <td>0.0</td>\n",
       "      <td>0.0</td>\n",
       "      <td>0.0</td>\n",
       "      <td>0.0</td>\n",
       "      <td>1.0</td>\n",
       "      <td>Consumer loans</td>\n",
       "      <td>9251.775</td>\n",
       "      <td>179055.0</td>\n",
       "      <td>179055.0</td>\n",
       "      <td>Y</td>\n",
       "      <td>1.0</td>\n",
       "      <td>Approved</td>\n",
       "      <td>2.0</td>\n",
       "      <td>New</td>\n",
       "      <td>500.0</td>\n",
       "      <td>Auto technology</td>\n",
       "      <td>24.0</td>\n",
       "      <td>low_normal</td>\n",
       "    </tr>\n",
       "    <tr>\n",
       "      <th>1</th>\n",
       "      <td>0</td>\n",
       "      <td>Cash loans</td>\n",
       "      <td>F</td>\n",
       "      <td>N</td>\n",
       "      <td>0</td>\n",
       "      <td>270000.0</td>\n",
       "      <td>1293502.5</td>\n",
       "      <td>35698.5</td>\n",
       "      <td>Family</td>\n",
       "      <td>State servant</td>\n",
       "      <td>Higher education</td>\n",
       "      <td>Married</td>\n",
       "      <td>46.0</td>\n",
       "      <td>1.0</td>\n",
       "      <td>0.0</td>\n",
       "      <td>2</td>\n",
       "      <td>1</td>\n",
       "      <td>School</td>\n",
       "      <td>0.0</td>\n",
       "      <td>0.0</td>\n",
       "      <td>0.0</td>\n",
       "      <td>0.0</td>\n",
       "      <td>0.0</td>\n",
       "      <td>0.0</td>\n",
       "      <td>Cash loans</td>\n",
       "      <td>98356.995</td>\n",
       "      <td>900000.0</td>\n",
       "      <td>1035882.0</td>\n",
       "      <td>Y</td>\n",
       "      <td>1.0</td>\n",
       "      <td>Approved</td>\n",
       "      <td>3.0</td>\n",
       "      <td>Repeater</td>\n",
       "      <td>-1.0</td>\n",
       "      <td>XNA</td>\n",
       "      <td>12.0</td>\n",
       "      <td>low_normal</td>\n",
       "    </tr>\n",
       "    <tr>\n",
       "      <th>2</th>\n",
       "      <td>0</td>\n",
       "      <td>Cash loans</td>\n",
       "      <td>F</td>\n",
       "      <td>N</td>\n",
       "      <td>0</td>\n",
       "      <td>270000.0</td>\n",
       "      <td>1293502.5</td>\n",
       "      <td>35698.5</td>\n",
       "      <td>Family</td>\n",
       "      <td>State servant</td>\n",
       "      <td>Higher education</td>\n",
       "      <td>Married</td>\n",
       "      <td>46.0</td>\n",
       "      <td>1.0</td>\n",
       "      <td>0.0</td>\n",
       "      <td>2</td>\n",
       "      <td>1</td>\n",
       "      <td>School</td>\n",
       "      <td>0.0</td>\n",
       "      <td>0.0</td>\n",
       "      <td>0.0</td>\n",
       "      <td>0.0</td>\n",
       "      <td>0.0</td>\n",
       "      <td>0.0</td>\n",
       "      <td>Consumer loans</td>\n",
       "      <td>64567.665</td>\n",
       "      <td>337500.0</td>\n",
       "      <td>348637.5</td>\n",
       "      <td>Y</td>\n",
       "      <td>1.0</td>\n",
       "      <td>Approved</td>\n",
       "      <td>3.0</td>\n",
       "      <td>Refreshed</td>\n",
       "      <td>1400.0</td>\n",
       "      <td>Furniture</td>\n",
       "      <td>6.0</td>\n",
       "      <td>middle</td>\n",
       "    </tr>\n",
       "    <tr>\n",
       "      <th>3</th>\n",
       "      <td>0</td>\n",
       "      <td>Cash loans</td>\n",
       "      <td>F</td>\n",
       "      <td>N</td>\n",
       "      <td>0</td>\n",
       "      <td>270000.0</td>\n",
       "      <td>1293502.5</td>\n",
       "      <td>35698.5</td>\n",
       "      <td>Family</td>\n",
       "      <td>State servant</td>\n",
       "      <td>Higher education</td>\n",
       "      <td>Married</td>\n",
       "      <td>46.0</td>\n",
       "      <td>1.0</td>\n",
       "      <td>0.0</td>\n",
       "      <td>2</td>\n",
       "      <td>1</td>\n",
       "      <td>School</td>\n",
       "      <td>0.0</td>\n",
       "      <td>0.0</td>\n",
       "      <td>0.0</td>\n",
       "      <td>0.0</td>\n",
       "      <td>0.0</td>\n",
       "      <td>0.0</td>\n",
       "      <td>Consumer loans</td>\n",
       "      <td>6737.310</td>\n",
       "      <td>68809.5</td>\n",
       "      <td>68053.5</td>\n",
       "      <td>Y</td>\n",
       "      <td>1.0</td>\n",
       "      <td>Approved</td>\n",
       "      <td>7.0</td>\n",
       "      <td>Refreshed</td>\n",
       "      <td>200.0</td>\n",
       "      <td>Consumer electronics</td>\n",
       "      <td>12.0</td>\n",
       "      <td>middle</td>\n",
       "    </tr>\n",
       "    <tr>\n",
       "      <th>4</th>\n",
       "      <td>0</td>\n",
       "      <td>Revolving loans</td>\n",
       "      <td>M</td>\n",
       "      <td>Y</td>\n",
       "      <td>0</td>\n",
       "      <td>67500.0</td>\n",
       "      <td>135000.0</td>\n",
       "      <td>6750.0</td>\n",
       "      <td>Unaccompanied</td>\n",
       "      <td>Working</td>\n",
       "      <td>Secondary / secondary special</td>\n",
       "      <td>Single / not married</td>\n",
       "      <td>53.0</td>\n",
       "      <td>1.0</td>\n",
       "      <td>0.0</td>\n",
       "      <td>1</td>\n",
       "      <td>2</td>\n",
       "      <td>Government</td>\n",
       "      <td>0.0</td>\n",
       "      <td>0.0</td>\n",
       "      <td>0.0</td>\n",
       "      <td>0.0</td>\n",
       "      <td>0.0</td>\n",
       "      <td>0.0</td>\n",
       "      <td>Consumer loans</td>\n",
       "      <td>5357.250</td>\n",
       "      <td>24282.0</td>\n",
       "      <td>20106.0</td>\n",
       "      <td>Y</td>\n",
       "      <td>1.0</td>\n",
       "      <td>Approved</td>\n",
       "      <td>3.0</td>\n",
       "      <td>New</td>\n",
       "      <td>30.0</td>\n",
       "      <td>Connectivity</td>\n",
       "      <td>4.0</td>\n",
       "      <td>middle</td>\n",
       "    </tr>\n",
       "  </tbody>\n",
       "</table>\n",
       "</div>"
      ],
      "text/plain": [
       "   TARGET NAME_CONTRACT_TYPE_x CODE_GENDER FLAG_OWN_REALTY  CNT_CHILDREN  \\\n",
       "0       1           Cash loans           M               Y             0   \n",
       "1       0           Cash loans           F               N             0   \n",
       "2       0           Cash loans           F               N             0   \n",
       "3       0           Cash loans           F               N             0   \n",
       "4       0      Revolving loans           M               Y             0   \n",
       "\n",
       "   AMT_INCOME_TOTAL  AMT_CREDIT_x  AMT_ANNUITY_x NAME_TYPE_SUITE_x  \\\n",
       "0          202500.0      406597.5        24700.5     Unaccompanied   \n",
       "1          270000.0     1293502.5        35698.5            Family   \n",
       "2          270000.0     1293502.5        35698.5            Family   \n",
       "3          270000.0     1293502.5        35698.5            Family   \n",
       "4           67500.0      135000.0         6750.0     Unaccompanied   \n",
       "\n",
       "  NAME_INCOME_TYPE            NAME_EDUCATION_TYPE    NAME_FAMILY_STATUS  \\\n",
       "0          Working  Secondary / secondary special  Single / not married   \n",
       "1    State servant               Higher education               Married   \n",
       "2    State servant               Higher education               Married   \n",
       "3    State servant               Higher education               Married   \n",
       "4          Working  Secondary / secondary special  Single / not married   \n",
       "\n",
       "   YEARS_BIRTH  FLAG_PHONE  FLAG_EMAIL  CNT_FAM_MEMBERS  REGION_RATING_CLIENT  \\\n",
       "0         26.0         1.0         0.0                1                     2   \n",
       "1         46.0         1.0         0.0                2                     1   \n",
       "2         46.0         1.0         0.0                2                     1   \n",
       "3         46.0         1.0         0.0                2                     1   \n",
       "4         53.0         1.0         0.0                1                     2   \n",
       "\n",
       "        ORGANIZATION_TYPE  AMT_REQ_CREDIT_BUREAU_HOUR  \\\n",
       "0  Business Entity Type 3                         0.0   \n",
       "1                  School                         0.0   \n",
       "2                  School                         0.0   \n",
       "3                  School                         0.0   \n",
       "4              Government                         0.0   \n",
       "\n",
       "   AMT_REQ_CREDIT_BUREAU_DAY  AMT_REQ_CREDIT_BUREAU_WEEK  \\\n",
       "0                        0.0                         0.0   \n",
       "1                        0.0                         0.0   \n",
       "2                        0.0                         0.0   \n",
       "3                        0.0                         0.0   \n",
       "4                        0.0                         0.0   \n",
       "\n",
       "   AMT_REQ_CREDIT_BUREAU_MON  AMT_REQ_CREDIT_BUREAU_QRT  \\\n",
       "0                        0.0                        0.0   \n",
       "1                        0.0                        0.0   \n",
       "2                        0.0                        0.0   \n",
       "3                        0.0                        0.0   \n",
       "4                        0.0                        0.0   \n",
       "\n",
       "   AMT_REQ_CREDIT_BUREAU_YEAR NAME_CONTRACT_TYPE_y  AMT_ANNUITY_y  \\\n",
       "0                         1.0       Consumer loans       9251.775   \n",
       "1                         0.0           Cash loans      98356.995   \n",
       "2                         0.0       Consumer loans      64567.665   \n",
       "3                         0.0       Consumer loans       6737.310   \n",
       "4                         0.0       Consumer loans       5357.250   \n",
       "\n",
       "   AMT_APPLICATION  AMT_CREDIT_y FLAG_LAST_APPL_PER_CONTRACT  \\\n",
       "0         179055.0      179055.0                           Y   \n",
       "1         900000.0     1035882.0                           Y   \n",
       "2         337500.0      348637.5                           Y   \n",
       "3          68809.5       68053.5                           Y   \n",
       "4          24282.0       20106.0                           Y   \n",
       "\n",
       "   NFLAG_LAST_APPL_IN_DAY NAME_CONTRACT_STATUS  DAYS_DECISION  \\\n",
       "0                     1.0             Approved            2.0   \n",
       "1                     1.0             Approved            3.0   \n",
       "2                     1.0             Approved            3.0   \n",
       "3                     1.0             Approved            7.0   \n",
       "4                     1.0             Approved            3.0   \n",
       "\n",
       "  NAME_CLIENT_TYPE  SELLERPLACE_AREA  NAME_SELLER_INDUSTRY  CNT_PAYMENT  \\\n",
       "0              New             500.0       Auto technology         24.0   \n",
       "1         Repeater              -1.0                   XNA         12.0   \n",
       "2        Refreshed            1400.0             Furniture          6.0   \n",
       "3        Refreshed             200.0  Consumer electronics         12.0   \n",
       "4              New              30.0          Connectivity          4.0   \n",
       "\n",
       "  NAME_YIELD_GROUP  \n",
       "0       low_normal  \n",
       "1       low_normal  \n",
       "2           middle  \n",
       "3           middle  \n",
       "4           middle  "
      ]
     },
     "execution_count": 66,
     "metadata": {},
     "output_type": "execute_result"
    }
   ],
   "source": [
    "df3.DAYS_DECISION = df3.DAYS_DECISION.apply(lambda x: abs(x//365))\n",
    "\n",
    "df3.head()"
   ]
  },
  {
   "cell_type": "code",
   "execution_count": 67,
   "metadata": {},
   "outputs": [],
   "source": [
    "df3.DAYS_DECISION.fillna(df3.DAYS_DECISION.median(),inplace=True)"
   ]
  },
  {
   "cell_type": "code",
   "execution_count": 68,
   "metadata": {},
   "outputs": [],
   "source": [
    "df3.DAYS_DECISION = df3.DAYS_DECISION.astype(int)"
   ]
  },
  {
   "cell_type": "markdown",
   "metadata": {},
   "source": [
    "#### NAME_CONTRACT_STATUS "
   ]
  },
  {
   "cell_type": "code",
   "execution_count": 69,
   "metadata": {},
   "outputs": [
    {
     "data": {
      "image/png": "[encoded data removed]",
      "text/plain": [
       "<Figure size 432x288 with 1 Axes>"
      ]
     },
     "metadata": {
      "needs_background": "light"
     },
     "output_type": "display_data"
    }
   ],
   "source": [
    "# Check Application status \n",
    "df3.NAME_CONTRACT_STATUS.value_counts(normalize=True).plot.barh()\n",
    "plt.show()"
   ]
  },
  {
   "cell_type": "markdown",
   "metadata": {},
   "source": [
    "#### NAME_CONTRACT_TYPE_x"
   ]
  },
  {
   "cell_type": "code",
   "execution_count": 73,
   "metadata": {},
   "outputs": [
    {
     "data": {
      "image/png": "[encoded data removed]",
      "text/plain": [
       "<Figure size 432x288 with 1 Axes>"
      ]
     },
     "metadata": {
      "needs_background": "light"
     },
     "output_type": "display_data"
    }
   ],
   "source": [
    "# Check loan type \n",
    "df3.NAME_CONTRACT_TYPE_x.value_counts(normalize=True).plot.bar()\n",
    "plt.xticks(rotation = 45)\n",
    "plt.show()"
   ]
  },
  {
   "cell_type": "markdown",
   "metadata": {},
   "source": [
    "#### CODE_GENDER"
   ]
  },
  {
   "cell_type": "code",
   "execution_count": 74,
   "metadata": {},
   "outputs": [
    {
     "data": {
      "image/png": "[encoded data removed]",
      "text/plain": [
       "<Figure size 432x288 with 1 Axes>"
      ]
     },
     "metadata": {
      "needs_background": "light"
     },
     "output_type": "display_data"
    }
   ],
   "source": [
    "# Check Gender who applied more loan\n",
    "df3.CODE_GENDER.value_counts(normalize=True).plot.bar()\n",
    "plt.xticks(rotation = 0)\n",
    "plt.show()"
   ]
  },
  {
   "cell_type": "markdown",
   "metadata": {},
   "source": [
    "#### TARGET"
   ]
  },
  {
   "cell_type": "code",
   "execution_count": 75,
   "metadata": {},
   "outputs": [
    {
     "data": {
      "image/png": "[encoded data removed]",
      "text/plain": [
       "<Figure size 432x288 with 1 Axes>"
      ]
     },
     "metadata": {
      "needs_background": "light"
     },
     "output_type": "display_data"
    }
   ],
   "source": [
    "df3.TARGET.value_counts(normalize=True).plot.bar()\n",
    "plt.xticks(rotation = 0)\n",
    "plt.show()"
   ]
  },
  {
   "cell_type": "markdown",
   "metadata": {},
   "source": [
    "#### NAME_INCOME_TYPE"
   ]
  },
  {
   "cell_type": "code",
   "execution_count": 76,
   "metadata": {},
   "outputs": [
    {
     "data": {
      "image/png": "[encoded data removed]",
      "text/plain": [
       "<Figure size 432x288 with 1 Axes>"
      ]
     },
     "metadata": {
      "needs_background": "light"
     },
     "output_type": "display_data"
    }
   ],
   "source": [
    "# Check Which type of employee taking more loan\n",
    "df3.NAME_INCOME_TYPE.value_counts(normalize=True).plot.bar()\n",
    "plt.xticks(rotation = 45)\n",
    "plt.show()"
   ]
  },
  {
   "cell_type": "markdown",
   "metadata": {},
   "source": [
    "#### NAME_EDUCATION_TYPE"
   ]
  },
  {
   "cell_type": "code",
   "execution_count": 74,
   "metadata": {},
   "outputs": [
    {
     "data": {
      "image/png": "[encoded data removed]",
      "text/plain": [
       "<Figure size 432x288 with 1 Axes>"
      ]
     },
     "metadata": {
      "needs_background": "light"
     },
     "output_type": "display_data"
    }
   ],
   "source": [
    "# Check Education on Client\n",
    "df3.NAME_EDUCATION_TYPE\t.value_counts(normalize=True).plot.barh()\n",
    "plt.show()"
   ]
  },
  {
   "cell_type": "markdown",
   "metadata": {},
   "source": [
    "#### NAME_FAMILY_STATUS"
   ]
  },
  {
   "cell_type": "code",
   "execution_count": 77,
   "metadata": {},
   "outputs": [
    {
     "data": {
      "image/png": "[encoded data removed]",
      "text/plain": [
       "<Figure size 432x288 with 1 Axes>"
      ]
     },
     "metadata": {
      "needs_background": "light"
     },
     "output_type": "display_data"
    }
   ],
   "source": [
    "# Check client family status \n",
    "df3.NAME_FAMILY_STATUS.value_counts(normalize=True).plot.bar()\n",
    "plt.xticks(rotation = 45)\n",
    "plt.show()"
   ]
  },
  {
   "cell_type": "markdown",
   "metadata": {},
   "source": [
    "#### YEARS_BIRTH"
   ]
  },
  {
   "cell_type": "code",
   "execution_count": 78,
   "metadata": {},
   "outputs": [],
   "source": [
    "df3['age_group'] = pd.cut(df3.YEARS_BIRTH, [0,30,40,50,60,999], labels=['<30', '30-40', '40-50', '50-60', '60+'])"
   ]
  },
  {
   "cell_type": "code",
   "execution_count": 79,
   "metadata": {},
   "outputs": [
    {
     "data": {
      "image/png": "[encoded data removed]",
      "text/plain": [
       "<Figure size 432x288 with 1 Axes>"
      ]
     },
     "metadata": {
      "needs_background": "light"
     },
     "output_type": "display_data"
    }
   ],
   "source": [
    "# Check Age of client who appling more loan\n",
    "df3.age_group.value_counts(normalize=True).plot.barh()\n",
    "plt.show()"
   ]
  },
  {
   "cell_type": "markdown",
   "metadata": {},
   "source": [
    "## Bivariante(With Target)"
   ]
  },
  {
   "cell_type": "markdown",
   "metadata": {},
   "source": [
    "#### Age Group"
   ]
  },
  {
   "cell_type": "code",
   "execution_count": 80,
   "metadata": {},
   "outputs": [
    {
     "name": "stdout",
     "output_type": "stream",
     "text": [
      "<class 'pandas.core.frame.DataFrame'>\n",
      "Int64Index: 1413701 entries, 0 to 1430154\n",
      "Data columns (total 38 columns):\n",
      " #   Column                       Non-Null Count    Dtype   \n",
      "---  ------                       --------------    -----   \n",
      " 0   TARGET                       1413701 non-null  int64   \n",
      " 1   NAME_CONTRACT_TYPE_x         1413701 non-null  object  \n",
      " 2   CODE_GENDER                  1413701 non-null  object  \n",
      " 3   FLAG_OWN_REALTY              1413701 non-null  object  \n",
      " 4   CNT_CHILDREN                 1413701 non-null  int64   \n",
      " 5   AMT_INCOME_TOTAL             1413701 non-null  float64 \n",
      " 6   AMT_CREDIT_x                 1413701 non-null  float64 \n",
      " 7   AMT_ANNUITY_x                1413701 non-null  float64 \n",
      " 8   NAME_TYPE_SUITE_x            1410175 non-null  object  \n",
      " 9   NAME_INCOME_TYPE             1413701 non-null  object  \n",
      " 10  NAME_EDUCATION_TYPE          1413701 non-null  object  \n",
      " 11  NAME_FAMILY_STATUS           1413701 non-null  object  \n",
      " 12  YEARS_BIRTH                  1413701 non-null  float64 \n",
      " 13  FLAG_PHONE                   1413701 non-null  float64 \n",
      " 14  FLAG_EMAIL                   1413701 non-null  float64 \n",
      " 15  CNT_FAM_MEMBERS              1413701 non-null  int64   \n",
      " 16  REGION_RATING_CLIENT         1413701 non-null  int64   \n",
      " 17  ORGANIZATION_TYPE            1413701 non-null  object  \n",
      " 18  AMT_REQ_CREDIT_BUREAU_HOUR   1250074 non-null  float64 \n",
      " 19  AMT_REQ_CREDIT_BUREAU_DAY    1250074 non-null  float64 \n",
      " 20  AMT_REQ_CREDIT_BUREAU_WEEK   1250074 non-null  float64 \n",
      " 21  AMT_REQ_CREDIT_BUREAU_MON    1250074 non-null  float64 \n",
      " 22  AMT_REQ_CREDIT_BUREAU_QRT    1250074 non-null  float64 \n",
      " 23  AMT_REQ_CREDIT_BUREAU_YEAR   1250074 non-null  float64 \n",
      " 24  NAME_CONTRACT_TYPE_y         1413701 non-null  object  \n",
      " 25  AMT_ANNUITY_y                1413701 non-null  float64 \n",
      " 26  AMT_APPLICATION              1413701 non-null  float64 \n",
      " 27  AMT_CREDIT_y                 1413700 non-null  float64 \n",
      " 28  FLAG_LAST_APPL_PER_CONTRACT  1413701 non-null  object  \n",
      " 29  NFLAG_LAST_APPL_IN_DAY       1413701 non-null  float64 \n",
      " 30  NAME_CONTRACT_STATUS         1413701 non-null  object  \n",
      " 31  DAYS_DECISION                1413701 non-null  int64   \n",
      " 32  NAME_CLIENT_TYPE             1413701 non-null  object  \n",
      " 33  SELLERPLACE_AREA             1413701 non-null  float64 \n",
      " 34  NAME_SELLER_INDUSTRY         1413701 non-null  object  \n",
      " 35  CNT_PAYMENT                  1106488 non-null  float64 \n",
      " 36  NAME_YIELD_GROUP             1413701 non-null  object  \n",
      " 37  age_group                    1413701 non-null  category\n",
      "dtypes: category(1), float64(18), int64(5), object(14)\n",
      "memory usage: 411.2+ MB\n"
     ]
    }
   ],
   "source": [
    "df3.info()"
   ]
  },
  {
   "cell_type": "code",
   "execution_count": 81,
   "metadata": {},
   "outputs": [],
   "source": [
    "df3.NAME_CONTRACT_STATUS = df3.NAME_CONTRACT_STATUS.astype(\"category\")"
   ]
  },
  {
   "cell_type": "code",
   "execution_count": 82,
   "metadata": {},
   "outputs": [
    {
     "data": {
      "text/plain": [
       "0            <30\n",
       "1          40-50\n",
       "2          40-50\n",
       "3          40-50\n",
       "4          50-60\n",
       "           ...  \n",
       "1430150    40-50\n",
       "1430151    40-50\n",
       "1430152    40-50\n",
       "1430153    40-50\n",
       "1430154    40-50\n",
       "Name: age_group, Length: 1413701, dtype: category\n",
       "Categories (5, object): [<30 < 30-40 < 40-50 < 50-60 < 60+]"
      ]
     },
     "execution_count": 82,
     "metadata": {},
     "output_type": "execute_result"
    }
   ],
   "source": [
    "df3.age_group"
   ]
  },
  {
   "cell_type": "code",
   "execution_count": 83,
   "metadata": {},
   "outputs": [
    {
     "data": {
      "text/plain": [
       "0          Approved\n",
       "1          Approved\n",
       "2          Approved\n",
       "3          Approved\n",
       "4          Approved\n",
       "             ...   \n",
       "1430150    Approved\n",
       "1430151     Refused\n",
       "1430152     Refused\n",
       "1430153    Approved\n",
       "1430154    Approved\n",
       "Name: NAME_CONTRACT_STATUS, Length: 1413701, dtype: category\n",
       "Categories (4, object): [Approved, Canceled, Refused, Unused offer]"
      ]
     },
     "execution_count": 83,
     "metadata": {},
     "output_type": "execute_result"
    }
   ],
   "source": [
    "df3.NAME_CONTRACT_STATUS"
   ]
  },
  {
   "cell_type": "code",
   "execution_count": 85,
   "metadata": {},
   "outputs": [
    {
     "data": {
      "image/png": "[encoded data removed]",
      "text/plain": [
       "<Figure size 432x288 with 1 Axes>"
      ]
     },
     "metadata": {
      "needs_background": "light"
     },
     "output_type": "display_data"
    }
   ],
   "source": [
    "df3.groupby(\"NAME_CONTRACT_STATUS\")['YEARS_BIRTH'].mean().plot.bar()\n",
    "plt.show()"
   ]
  },
  {
   "cell_type": "code",
   "execution_count": 86,
   "metadata": {},
   "outputs": [
    {
     "data": {
      "image/png": "[encoded data removed]",
      "text/plain": [
       "<Figure size 432x288 with 1 Axes>"
      ]
     },
     "metadata": {
      "needs_background": "light"
     },
     "output_type": "display_data"
    }
   ],
   "source": [
    "sns.boxplot(data=df3,x=\"NAME_CONTRACT_STATUS\",y=\"YEARS_BIRTH\")\n",
    "plt.show()"
   ]
  },
  {
   "cell_type": "code",
   "execution_count": 87,
   "metadata": {},
   "outputs": [
    {
     "data": {
      "image/png": "[encoded data removed]",
      "text/plain": [
       "<Figure size 432x288 with 1 Axes>"
      ]
     },
     "metadata": {
      "needs_background": "light"
     },
     "output_type": "display_data"
    }
   ],
   "source": [
    "sns.countplot(x = \"NAME_CONTRACT_STATUS\", hue= 'age_group', data = df3)\n",
    "plt.xticks(rotation=45)\n",
    "plt.show()\n"
   ]
  },
  {
   "cell_type": "code",
   "execution_count": 88,
   "metadata": {},
   "outputs": [
    {
     "data": {
      "image/png": "[encoded data removed]",
      "text/plain": [
       "<Figure size 432x288 with 1 Axes>"
      ]
     },
     "metadata": {
      "needs_background": "light"
     },
     "output_type": "display_data"
    }
   ],
   "source": [
    "sns.countplot(x = \"NAME_CONTRACT_STATUS\", hue= 'NAME_CONTRACT_TYPE_x', data = df3)\n",
    "plt.xticks(rotation=45)\n",
    "plt.show()\n"
   ]
  },
  {
   "cell_type": "code",
   "execution_count": 89,
   "metadata": {},
   "outputs": [
    {
     "data": {
      "image/png": "[encoded data removed]",
      "text/plain": [
       "<Figure size 432x288 with 1 Axes>"
      ]
     },
     "metadata": {
      "needs_background": "light"
     },
     "output_type": "display_data"
    }
   ],
   "source": [
    "sns.countplot(x = \"NAME_CONTRACT_STATUS\", hue= 'CODE_GENDER', data = df3)\n",
    "\n",
    "plt.show()"
   ]
  },
  {
   "cell_type": "code",
   "execution_count": 119,
   "metadata": {},
   "outputs": [
    {
     "data": {
      "image/png": "[encoded data removed]",
      "text/plain": [
       "<Figure size 432x288 with 1 Axes>"
      ]
     },
     "metadata": {
      "needs_background": "light"
     },
     "output_type": "display_data"
    }
   ],
   "source": [
    "df3.groupby(\"CODE_GENDER\")[\"NAME_CONTRACT_STATUS\"].value_counts(normalize=True).plot.barh()\n",
    "plt.show()"
   ]
  },
  {
   "cell_type": "code",
   "execution_count": 121,
   "metadata": {},
   "outputs": [
    {
     "data": {
      "image/png": "[encoded data removed]",
      "text/plain": [
       "<Figure size 432x288 with 1 Axes>"
      ]
     },
     "metadata": {
      "needs_background": "light"
     },
     "output_type": "display_data"
    }
   ],
   "source": [
    "df3.groupby(\"NAME_CONTRACT_STATUS\")[\"AMT_INCOME_TOTAL\"].mean().plot.barh()\n",
    "plt.show()"
   ]
  },
  {
   "cell_type": "code",
   "execution_count": 124,
   "metadata": {},
   "outputs": [
    {
     "data": {
      "image/png": "[encoded data removed]",
      "text/plain": [
       "<Figure size 432x288 with 1 Axes>"
      ]
     },
     "metadata": {
      "needs_background": "light"
     },
     "output_type": "display_data"
    }
   ],
   "source": [
    "df3.groupby(\"NAME_CONTRACT_STATUS\")[\"AMT_ANNUITY_y\"].mean().plot.barh()\n",
    "plt.show()"
   ]
  },
  {
   "cell_type": "code",
   "execution_count": 128,
   "metadata": {},
   "outputs": [
    {
     "data": {
      "image/png": "[encoded data removed]",
      "text/plain": [
       "<Figure size 432x288 with 1 Axes>"
      ]
     },
     "metadata": {
      "needs_background": "light"
     },
     "output_type": "display_data"
    }
   ],
   "source": [
    "df3.groupby(\"NAME_INCOME_TYPE\")[\"NAME_CONTRACT_STATUS\"].value_counts(normalize=True).plot.bar()\n",
    "plt.show()"
   ]
  },
  {
   "cell_type": "code",
   "execution_count": 132,
   "metadata": {},
   "outputs": [
    {
     "data": {
      "image/png": "[encoded data removed]",
      "text/plain": [
       "<Figure size 432x288 with 1 Axes>"
      ]
     },
     "metadata": {
      "needs_background": "light"
     },
     "output_type": "display_data"
    }
   ],
   "source": [
    "df3.groupby(\"NAME_CONTRACT_STATUS\")[\"NAME_FAMILY_STATUS\"].value_counts(normalize=True).plot.bar()\n",
    "plt.show()\n"
   ]
  },
  {
   "cell_type": "code",
   "execution_count": 141,
   "metadata": {},
   "outputs": [
    {
     "data": {
      "image/png": "[encoded data removed]",
      "text/plain": [
       "<Figure size 432x288 with 1 Axes>"
      ]
     },
     "metadata": {
      "needs_background": "light"
     },
     "output_type": "display_data"
    }
   ],
   "source": [
    "df3.groupby(\"NAME_CONTRACT_STATUS\")[\"CNT_PAYMENT\"].mean().plot.bar()\n",
    "plt.show()\n",
    "# df3.CNT_PAYMENT.value_counts()"
   ]
  },
  {
   "cell_type": "code",
   "execution_count": 148,
   "metadata": {},
   "outputs": [
    {
     "data": {
      "image/png": "[encoded data removed]",
      "text/plain": [
       "<Figure size 432x288 with 1 Axes>"
      ]
     },
     "metadata": {
      "needs_background": "light"
     },
     "output_type": "display_data"
    }
   ],
   "source": [
    "df3.groupby(\"NAME_CONTRACT_STATUS\")[\"AMT_APPLICATION\"].mean().plot.bar()\n",
    "plt.show()\n",
    "# df3.head()"
   ]
  },
  {
   "cell_type": "markdown",
   "metadata": {},
   "source": [
    "# Conclusion\n",
    "\n",
    "- We try to show many reason of rejection or approval of loan\n",
    "- Try to find Outliers form Univariant and bivariate\n",
    "- Perform Comparison for Target with many Column in application to see the reason  for any action(Rejection or Approval)\n",
    "- Merge the both application and perform Univariate to see who applied the loan (Category)\n",
    "- Perform bivariante on merge dataframe from ‘NAME_CONTRACT_STATUS’ with many column to see the reason of approval ,Canceled, Refused  \n",
    " "
   ]
  },
  {
   "cell_type": "code",
   "execution_count": null,
   "metadata": {},
   "outputs": [],
   "source": []
  }
 ],
 "metadata": {
  "kernelspec": {
   "display_name": "Python 3",
   "language": "python",
   "name": "python3"
  },
  "language_info": {
   "codemirror_mode": {
    "name": "ipython",
    "version": 3
   },
   "file_extension": ".py",
   "mimetype": "text/x-python",
   "name": "python",
   "nbconvert_exporter": "python",
   "pygments_lexer": "ipython3",
   "version": "3.7.6"
  }
 },
 "nbformat": 4,
 "nbformat_minor": 4
}
