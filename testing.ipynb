{
 "cells": [
  {
   "cell_type": "code",
   "execution_count": 22,
   "metadata": {},
   "outputs": [
    {
     "data": {
      "text/plain": [
       "4491707456"
      ]
     },
     "execution_count": 22,
     "metadata": {},
     "output_type": "execute_result"
    }
   ],
   "source": [
    "import numpy as np\n",
    "import pandas as pd\n",
    "id(np.tile)"
   ]
  },
  {
   "cell_type": "code",
   "execution_count": 39,
   "metadata": {},
   "outputs": [
    {
     "name": "stdout",
     "output_type": "stream",
     "text": [
      "[[0 1 0 1]\n",
      " [1 0 1 0]\n",
      " [0 1 0 1]\n",
      " [1 0 1 0]]\n"
     ]
    }
   ],
   "source": [
    "def getNumpyMatrixCheckerBord(n):\n",
    "    result = np.zeros((n, n), dtype=int)\n",
    "    result[::2, 1::2] = 1\n",
    "    result[1::2, ::2] = 1\n",
    "    print(result)\n",
    "\n",
    "getNumpyMatrixCheckerBord(4)"
   ]
  },
  {
   "cell_type": "code",
   "execution_count": 44,
   "metadata": {},
   "outputs": [
    {
     "data": {
      "text/plain": [
       "(2, 4)"
      ]
     },
     "execution_count": 44,
     "metadata": {},
     "output_type": "execute_result"
    }
   ],
   "source": [
    "a = [10,11,12,13],[15,12,13,14]\n",
    "np.shape(a)\n",
    "\n"
   ]
  },
  {
   "cell_type": "code",
   "execution_count": 49,
   "metadata": {},
   "outputs": [
    {
     "data": {
      "text/plain": [
       "array([[[ 0,  1,  2,  3],\n",
       "        [ 4,  5,  6,  7]],\n",
       "\n",
       "       [[ 8,  9, 10, 11],\n",
       "        [12, 13, 14, 15]],\n",
       "\n",
       "       [[16, 17, 18, 19],\n",
       "        [20, 21, 22, 23]]])"
      ]
     },
     "execution_count": 49,
     "metadata": {},
     "output_type": "execute_result"
    }
   ],
   "source": [
    "np.arange(24).reshape(3,2,4)"
   ]
  },
  {
   "cell_type": "code",
   "execution_count": 59,
   "metadata": {},
   "outputs": [
    {
     "name": "stdout",
     "output_type": "stream",
     "text": [
      "[0 1 2 3 4 5 6 7 8 9]\n",
      "[2 5 6]\n"
     ]
    }
   ],
   "source": [
    "array_1 = np.arange(10)\n",
    "print(array_1)\n",
    "print(array_1[[2,5,6]])"
   ]
  },
  {
   "cell_type": "code",
   "execution_count": 60,
   "metadata": {},
   "outputs": [
    {
     "name": "stdout",
     "output_type": "stream",
     "text": [
      "[1, 3, 4, 7, 5, 2]\n"
     ]
    }
   ],
   "source": [
    "array_2 = [1, 2, 3, 5, 4, 6, 7, 8, 5, 3, 2]\n",
    "print(array_2[0::2])"
   ]
  },
  {
   "cell_type": "code",
   "execution_count": 75,
   "metadata": {},
   "outputs": [
    {
     "name": "stdout",
     "output_type": "stream",
     "text": [
      "6\n"
     ]
    }
   ],
   "source": [
    "arr = np.array([[5,6,7],[7,6,5],[0,8,7]])\n",
    "print(arr[0,1])"
   ]
  },
  {
   "cell_type": "code",
   "execution_count": 84,
   "metadata": {},
   "outputs": [
    {
     "name": "stdout",
     "output_type": "stream",
     "text": [
      "1000000\n",
      "0.21515798568725586\n",
      "0.00871896743774414\n",
      "the ratio of time taken 24.677003007929997\n"
     ]
    }
   ],
   "source": [
    "list1 = [i for i in range(1000000)]\n",
    "list2 = [j**2 for j in range(1000000)]\n",
    "print(len(list1))\n",
    "import time\n",
    "\n",
    "t0 = time.time()\n",
    "multiList = list(map(lambda x,y : x*y, list1, list2 ))\n",
    "t1 = time.time()\n",
    "tTaken = t1-t0\n",
    "print(tTaken)\n",
    "\n",
    "arr_1 = np.array(list1)\n",
    "arr_2 = np.array(list2)\n",
    "\n",
    "t0 = time.time()\n",
    "\n",
    "npMultiArr = arr_1*arr_2\n",
    "\n",
    "t1 = time.time()\n",
    "npTimeTaken = t1-t0\n",
    "print(npTimeTaken)\n",
    "\n",
    "\n",
    "print(\"the ratio of time taken {}\".format(tTaken/npTimeTaken))\n",
    "\n",
    "\n",
    "\n",
    "\n",
    "\n"
   ]
  },
  {
   "cell_type": "code",
   "execution_count": 89,
   "metadata": {},
   "outputs": [
    {
     "name": "stdout",
     "output_type": "stream",
     "text": [
      "Python\n",
      "Python\n",
      "6\n",
      "279936\n"
     ]
    }
   ],
   "source": [
    "s = \"I love Python programming\"\n",
    "print(s[7:13])\n",
    "print(s[-18:-12])\n",
    "print(len(\"python\"))\n",
    "\n",
    "print(6**7)"
   ]
  },
  {
   "cell_type": "code",
   "execution_count": 93,
   "metadata": {},
   "outputs": [
    {
     "name": "stdout",
     "output_type": "stream",
     "text": [
      "2468\n",
      "13579\n",
      "159\n"
     ]
    }
   ],
   "source": [
    "num = \"123456789\"\n",
    "print(num[1::2]) # even number print\n",
    "print(num[0::2]) # odd number print\n",
    "print(num[0::4]) # odd number print\n"
   ]
  },
  {
   "cell_type": "code",
   "execution_count": 1,
   "metadata": {},
   "outputs": [
    {
     "name": "stdout",
     "output_type": "stream",
     "text": [
      "[]\n"
     ]
    }
   ],
   "source": [
    "word = ['1','2','3','4']\n",
    "word[ : ] = [ ] \n",
    "print(word)"
   ]
  },
  {
   "cell_type": "code",
   "execution_count": 2,
   "metadata": {},
   "outputs": [
    {
     "name": "stdout",
     "output_type": "stream",
     "text": [
      "B\n"
     ]
    }
   ],
   "source": [
    "if (10 < 0) and (0 < -10):\n",
    "    print(\"A\")\n",
    "elif (10 > 0) or False:\n",
    "    print(\"B\")\n",
    "else:\n",
    "    print(\"C\")"
   ]
  },
  {
   "cell_type": "code",
   "execution_count": 3,
   "metadata": {},
   "outputs": [
    {
     "name": "stdout",
     "output_type": "stream",
     "text": [
      "B\n"
     ]
    }
   ],
   "source": [
    "if True or True:\n",
    "    if False and True or False:\n",
    "        print('A')\n",
    "    elif False and False or True and True:\n",
    "        print('B')\n",
    "    else:\n",
    "        print('C')\n",
    "else:\n",
    "    print('D')"
   ]
  },
  {
   "cell_type": "code",
   "execution_count": 4,
   "metadata": {},
   "outputs": [
    {
     "name": "stdout",
     "output_type": "stream",
     "text": [
      "0\n",
      "1\n",
      "2\n"
     ]
    }
   ],
   "source": [
    "d = {0: 'Fish', 1: 'Bird', 2: 'Mammal'}\n",
    "for i in d:\n",
    "    print(i)"
   ]
  },
  {
   "cell_type": "code",
   "execution_count": 6,
   "metadata": {},
   "outputs": [
    {
     "name": "stdout",
     "output_type": "stream",
     "text": [
      "None\n",
      "None\n",
      "None\n",
      "{0, 1, 2}\n"
     ]
    }
   ],
   "source": [
    "d = {0, 1, 2}\n",
    "for x in d:\n",
    "    print(d.add(x))\n",
    "    \n",
    "print(d)"
   ]
  },
  {
   "cell_type": "code",
   "execution_count": 22,
   "metadata": {},
   "outputs": [
    {
     "name": "stdout",
     "output_type": "stream",
     "text": [
      "1\n",
      "4\n",
      "9\n",
      "['ad', 'ae', 'af', 'bd', 'be', 'bf', 'cd', 'ce', 'cf']\n"
     ]
    },
    {
     "data": {
      "text/plain": [
       "'aaa'"
      ]
     },
     "execution_count": 22,
     "metadata": {},
     "output_type": "execute_result"
    }
   ],
   "source": [
    "for i in range(1,4):\n",
    "    print(i*i)\n",
    "print([i+j for i in \"abc\" for j in \"def\"])\n",
    "\"a\"*3\n"
   ]
  },
  {
   "cell_type": "code",
   "execution_count": 41,
   "metadata": {},
   "outputs": [
    {
     "name": "stdout",
     "output_type": "stream",
     "text": [
      "[1, 4, 9, 16, 16, 16, 16, 16]\n"
     ]
    }
   ],
   "source": [
    "multi = lambda *b : [i*i for i in list(b)]\n",
    "print(multi(1,2,3,4,4,4,4,4))"
   ]
  },
  {
   "cell_type": "code",
   "execution_count": 216,
   "metadata": {},
   "outputs": [
    {
     "name": "stdout",
     "output_type": "stream",
     "text": [
      "5\n",
      "71\n"
     ]
    }
   ],
   "source": [
    "greater = lambda x,y: x if x>y else y\n",
    "\n",
    "print(greater(4,5))\n",
    "\n",
    "# Reverse the number\n",
    "def reverseDigit(n):\n",
    "    rev = 0\n",
    "    if (n < 0):\n",
    "        return rev\n",
    "    while(n>0):\n",
    "        rev = (rev*10)+(n%10)\n",
    "        n = n // 10\n",
    "                  \n",
    "                  \n",
    "    return rev\n",
    "\n",
    "\n",
    "print(reverseDigit(17))\n",
    "\n",
    "\n",
    "\n",
    "# n = 17; \n",
    "# rev = 0\n",
    "  \n",
    "# while(n > 0):\n",
    "#     print(n) \n",
    "#     a = n % 10\n",
    "#     rev = rev * 10 + a \n",
    "#     n = n // 10\n",
    "      \n",
    "# print(rev)"
   ]
  },
  {
   "cell_type": "code",
   "execution_count": 195,
   "metadata": {},
   "outputs": [
    {
     "name": "stdout",
     "output_type": "stream",
     "text": [
      "Hello\n",
      "WorldWorldWorldWorldWorld\n",
      "Reverse of no. is  2654\n"
     ]
    }
   ],
   "source": [
    "def say(message, times = 1):\n",
    "    print(message * times)\n",
    "\n",
    "say('Hello')\n",
    "say('World', 5)\n",
    "\n",
    "\n",
    "rev_num = 0\n",
    "base_pos = 1\n",
    "  \n",
    "# Recursive function to reverse \n",
    "# digits of num \n",
    "def reversDigits(num): \n",
    "    global rev_num \n",
    "    global base_pos \n",
    "    if(num > 0): \n",
    "        reversDigits((int)(num / 10)) \n",
    "        rev_num += (num % 10) * base_pos \n",
    "        base_pos *= 10\n",
    "    return rev_num \n",
    "      \n",
    "# Driver Code  \n",
    "num = 4562\n",
    "print(\"Reverse of no. is \", \n",
    "         reversDigits(num)) "
   ]
  },
  {
   "cell_type": "code",
   "execution_count": 47,
   "metadata": {},
   "outputs": [
    {
     "data": {
      "text/plain": [
       "9996"
      ]
     },
     "execution_count": 47,
     "metadata": {},
     "output_type": "execute_result"
    }
   ],
   "source": [
    "min = (lambda x, y: x if x < y else y)\n",
    "min(101*99, 102*98)"
   ]
  },
  {
   "cell_type": "code",
   "execution_count": 68,
   "metadata": {},
   "outputs": [
    {
     "name": "stdout",
     "output_type": "stream",
     "text": [
      "3\n"
     ]
    }
   ],
   "source": [
    "input_list = ['San Jose', 'San Francisco', 'Santa Fe', 'Houston']\n",
    "count = sum(list(map(lambda w: 1 if \"S\" == w[0] else 0 ,input_list)))\n",
    "print(count)\n"
   ]
  },
  {
   "cell_type": "code",
   "execution_count": 70,
   "metadata": {},
   "outputs": [
    {
     "data": {
      "text/plain": [
       "4544058560"
      ]
     },
     "execution_count": 70,
     "metadata": {},
     "output_type": "execute_result"
    }
   ],
   "source": [
    "id(count)"
   ]
  },
  {
   "cell_type": "code",
   "execution_count": 8,
   "metadata": {},
   "outputs": [
    {
     "name": "stdout",
     "output_type": "stream",
     "text": [
      "[0.0, 0.5, 0.6666666666666666, 0.75, 0.8, 0.8333333333333334, 0.8571428571428571, 0.875, 0.8888888888888888, 0.9, 0.9090909090909091, 0.9166666666666666, 0.9230769230769231, 0.9285714285714286, 0.9333333333333333, 0.9375, 0.9411764705882353, 0.9444444444444444, 0.9473684210526315, 0.95]\n"
     ]
    }
   ],
   "source": [
    "a = np.arange(0,20)\n",
    "a_list = [x/(x+1) for x in a]\n",
    "print(a_list)"
   ]
  },
  {
   "cell_type": "code",
   "execution_count": 11,
   "metadata": {},
   "outputs": [
    {
     "data": {
      "text/plain": [
       "array([0.        , 0.5       , 0.66666667, 0.75      , 0.8       ,\n",
       "       0.83333333, 0.85714286, 0.875     , 0.88888889, 0.9       ,\n",
       "       0.90909091, 0.91666667, 0.92307692, 0.92857143, 0.93333333,\n",
       "       0.9375    , 0.94117647, 0.94444444, 0.94736842, 0.95      ])"
      ]
     },
     "execution_count": 11,
     "metadata": {},
     "output_type": "execute_result"
    }
   ],
   "source": [
    "f = np.vectorize(lambda x: x/(x+1))\n",
    "f(a)"
   ]
  },
  {
   "cell_type": "code",
   "execution_count": 19,
   "metadata": {},
   "outputs": [
    {
     "name": "stdout",
     "output_type": "stream",
     "text": [
      "[[-1.66666667  1.          0.16666667]\n",
      " [-0.66666667  1.         -0.33333333]\n",
      " [ 1.33333333 -1.          0.16666667]]\n"
     ]
    }
   ],
   "source": [
    "import numpy as np\n",
    "array_1 = np.array([[1,2,3],[2,3,4],[4,2,6]])\n",
    "eigen = np.linalg.eig(array_1) #Type your answer here\n",
    "inv = np.linalg.inv(array_1) #Type your answer here\n",
    "det = np.linalg.det(array_1) #Type your answer here\n",
    "# print(eigen)\n",
    "print(inv)\n",
    "# print(det)\n"
   ]
  },
  {
   "cell_type": "code",
   "execution_count": 27,
   "metadata": {},
   "outputs": [
    {
     "data": {
      "text/plain": [
       "1     1\n",
       "2     4\n",
       "3     9\n",
       "4    16\n",
       "dtype: int64"
      ]
     },
     "execution_count": 27,
     "metadata": {},
     "output_type": "execute_result"
    }
   ],
   "source": [
    "list1 = np.arange(1,4+1)\n",
    "series = pd.Series(list1, index = range(1, 4+1))\n",
    "series.apply(lambda x: x**2)"
   ]
  },
  {
   "cell_type": "code",
   "execution_count": 28,
   "metadata": {},
   "outputs": [
    {
     "name": "stdout",
     "output_type": "stream",
     "text": [
      "         Medals\n",
      "Country        \n",
      "France     53.0\n",
      "Germany    20.0\n",
      "Russia     25.0\n",
      "UK         27.0\n",
      "USA        72.0\n",
      "         Medals\n",
      "Country        \n",
      "USA        72.0\n",
      "France     53.0\n",
      "UK         27.0\n",
      "Russia     25.0\n",
      "Germany    20.0\n"
     ]
    }
   ],
   "source": [
    "import numpy as np \n",
    "import pandas as pd\n",
    "\n",
    "# Defining the three dataframes indicating the gold, silver, and bronze medal counts\n",
    "# of different countries\n",
    "gold = pd.DataFrame({'Country': ['USA', 'France', 'Russia'],\n",
    "                         'Medals': [15, 13, 9]}\n",
    "                    )\n",
    "silver = pd.DataFrame({'Country': ['USA', 'Germany', 'Russia'],\n",
    "                        'Medals': [29, 20, 16]}\n",
    "                    )\n",
    "bronze = pd.DataFrame({'Country': ['France', 'USA', 'UK'],\n",
    "                        'Medals': [40, 28, 27]}\n",
    "                    )\n",
    "\n",
    "gold.set_index('Country', inplace = True)\n",
    "silver.set_index('Country', inplace = True)\n",
    "bronze.set_index('Country', inplace = True)\n",
    "tot = gold.add(silver, fill_value = 0).add(bronze, fill_value = 0)\n",
    "print(tot)\n",
    "total = tot.sort_values(by=\"Medals\", ascending=False)\n",
    "print(total)"
   ]
  },
  {
   "cell_type": "code",
   "execution_count": 87,
   "metadata": {},
   "outputs": [
    {
     "name": "stdout",
     "output_type": "stream",
     "text": [
      "6\n"
     ]
    }
   ],
   "source": [
    "from functools import reduce\n",
    "def calc_fact(n):\n",
    "    if (n < 1 or n == 1):\n",
    "        return 1;\n",
    "    else:\n",
    "        return reduce(lambda x, y: x*y, range(1, n+1))\n",
    "    \n",
    "\n",
    "print(calc_fact(3));"
   ]
  },
  {
   "cell_type": "code",
   "execution_count": 116,
   "metadata": {},
   "outputs": [
    {
     "name": "stdout",
     "output_type": "stream",
     "text": [
      "[2, 5, 9, 13]\n",
      "[16]\n",
      "[12, 15, 16, 20]\n",
      "[3, 8, 14]\n"
     ]
    }
   ],
   "source": [
    "c = [2, 5, 9, 12, 13, 15, 16, 17, 18, 19]\n",
    "f = [2, 4, 5, 6, 7, 9, 13, 16, 20]\n",
    "h = [1, 2, 5, 9, 10, 11, 12, 13, 15, 20]\n",
    "\n",
    "# print(sorted(playNoH))\n",
    "\n",
    "    \n",
    "\n",
    "alls = list(filter(lambda x: x in f and x in h, c))\n",
    "notHokey = list(filter(lambda x: x in f and x not in h, c))\n",
    "playNone = list(filter(lambda i: (i in c and i in f and i not in h) or (i in f and i in h and i not in c) or (i in c and i in h and i not in f), range(1,21)))\n",
    "palyTwo = list(filter(lambda i: i not in c and i not in f and i not in h, range(1,21)))\n",
    "# all_sports = [i for i in c if i in f and i in h]\n",
    "# cricket_and_football = [i for i in c if i in f and i not in h]\n",
    "# do_not_play_any = [i for i in range(1, 21) if (i in c and i in f and i not in h) or (i in f and i in h and i not in c) or (i in c and i in h and i not in f)]\n",
    "# two_sports = [i for i in range(1, 21) if i not in c and i not in f and i not in h]\n",
    "\n",
    "print(alls)\n",
    "print(notHokey)\n",
    "print(playNone)\n",
    "print(palyTwo)\n",
    "# print(sorted(all_sports))\n",
    "# print(sorted(cricket_and_football))\n",
    "# print(sorted(do_not_play_any))\n",
    "# print(sorted(two_sports))\n"
   ]
  },
  {
   "cell_type": "code",
   "execution_count": 183,
   "metadata": {},
   "outputs": [
    {
     "name": "stdout",
     "output_type": "stream",
     "text": [
      "['newshop']\n"
     ]
    }
   ],
   "source": [
    "comptetitor = [\"newshop\", \"fashion\"]\n",
    "list1 = [\"newshop good\", \"newshop good\", \"NewShop good\", \"fashion is good\"]\n",
    "list1 = [x.lower() for x in list1]\n",
    "d1 = {}\n",
    "for com in comptetitor:\n",
    "    for l in list1:\n",
    "        if (com.lower() in l):\n",
    "            if com in d1:\n",
    "                d1[com] = d1[com] + 1\n",
    "            else:\n",
    "                d1[com] = 1\n",
    "\n",
    "d2 = sorted(d1.items() ,  key=lambda x: x[1], reverse=True)\n",
    "d3 = []\n",
    "for elem in range(1):\n",
    "#     print(elem[0] , \" ::\" , elem[1])\n",
    "    d3.append(d2[elem][0])\n",
    "\n",
    "print(d3)"
   ]
  },
  {
   "cell_type": "code",
   "execution_count": 231,
   "metadata": {},
   "outputs": [
    {
     "name": "stdout",
     "output_type": "stream",
     "text": [
      "{2: 1, 7: 1, 1: 1, 3: 1, 9: 1}\n"
     ]
    }
   ],
   "source": [
    "list2 = {}\n",
    "for i in [2, 2, 7, 7, 1, 1, 3, 9, 9]:\n",
    "    list2[i] = 1\n",
    "print(list2)"
   ]
  },
  {
   "cell_type": "code",
   "execution_count": 236,
   "metadata": {},
   "outputs": [
    {
     "name": "stdout",
     "output_type": "stream",
     "text": [
      "    *\n",
      "   *_*\n",
      "  *_*_*\n",
      " *_*_*_*\n",
      "*_*_*_*_*\n"
     ]
    }
   ],
   "source": [
    "n = 5\n",
    "for i in range(1, n+1):\n",
    "    for j in range(n-i):\n",
    "        print(\" \", end=\"\")\n",
    "    for k in range(i-1):\n",
    "        print(\"*_\", end=\"\")\n",
    "    print(\"*\")"
   ]
  },
  {
   "cell_type": "code",
   "execution_count": 237,
   "metadata": {},
   "outputs": [
    {
     "name": "stdout",
     "output_type": "stream",
     "text": [
      "----e---- \n",
      "---eee--- \n",
      "--eeeee-- \n",
      "-eeeeeee- \n",
      "eeeeeeeee \n",
      "-eeeeeee- \n",
      "--eeeee-- \n",
      "---eee--- \n",
      "----e---- \n"
     ]
    }
   ],
   "source": [
    "n = 5\n",
    "m = 2*n -1\n",
    "asciichar = 96+n\n",
    "i = 0\n",
    "while i < n:\n",
    "    j = 0\n",
    "    while j < m :\n",
    "        if( (m//2)-i <= j <= (m//2)  +i):\n",
    "            print(chr(asciichar),end = \"\")\n",
    "        else:\n",
    "            print(\"-\",end = \"\")\n",
    "        \n",
    "        j+=1\n",
    "    print(\" \")\n",
    "    i+=1\n",
    "    \n",
    "i = 1\n",
    "while i < n:\n",
    "    j = 0\n",
    "    while j < m :\n",
    "        if( i <= j <= m-1 -i):\n",
    "            print(chr(asciichar),end = \"\")\n",
    "        else:\n",
    "            print(\"-\",end = \"\")\n",
    "        \n",
    "        j+=1\n",
    "        \n",
    "    print(\" \")\n",
    "    i+=1"
   ]
  },
  {
   "cell_type": "code",
   "execution_count": 240,
   "metadata": {},
   "outputs": [
    {
     "name": "stdout",
     "output_type": "stream",
     "text": [
      "--------e--------\n",
      "------e-d-e------\n",
      "----e-d-c-d-e----\n",
      "--e-d-c-b-c-d-e--\n",
      "e-d-c-b-a-b-c-d-e\n",
      "--e-d-c-b-c-d-e--\n",
      "----e-d-c-d-e----\n",
      "------e-d-e------\n",
      "--------e--------\n"
     ]
    }
   ],
   "source": [
    "startcharoriginal = chr(96+n)\n",
    "startchar = startcharoriginal\n",
    "for i in range(0,n):\n",
    "    print(\"-\"*(n-i-1)*2,end = '')\n",
    "    for j in range(0,i+1):\n",
    "        print(startchar,end = '')\n",
    "        if j<i:\n",
    "            print(\"-\",end = '')\n",
    "        curr = 96+n-j-1\n",
    "        startchar = chr(curr)\n",
    "    for k in range(1,i+1):\n",
    "        startchar = chr(curr+k+1)\n",
    "        print(\"-\",end = '')\n",
    "        print(startchar,end = '')\n",
    "    startchar = startcharoriginal\n",
    "    print(\"-\"*(n-i-1)*2)\n",
    "for i in range(n-2,-1,-1):\n",
    "    print(\"-\"*(n-i-1)*2,end = '')\n",
    "    for j in range(0,i+1):\n",
    "        print(startchar,end = '')\n",
    "        if j<i:\n",
    "            print(\"-\",end = '')\n",
    "        curr = 96+n-j-1\n",
    "        startchar = chr(curr)\n",
    "    for k in range(1,i+1):\n",
    "        startchar = chr(curr+k+1)\n",
    "        print(\"-\",end = '')\n",
    "        print(startchar,end = '')\n",
    "    startchar = startcharoriginal\n",
    "    print(\"-\"*(n-i-1)*2)  \n",
    "    "
   ]
  },
  {
   "cell_type": "code",
   "execution_count": 262,
   "metadata": {},
   "outputs": [
    {
     "name": "stdout",
     "output_type": "stream",
     "text": [
      "[20, 40, 60, 80]\n",
      "[20, 40, 60, 80]\n",
      "[10, 20, 30, 40, 50, 60, 70, 80, 90, 100, 1, 2]\n"
     ]
    }
   ],
   "source": [
    "L=[10,20,30,40,50,60,70,80,90,100]\n",
    "# print(L.index(2))\n",
    "print(L[1:-1:2])\n",
    "print([L[i] for i in range(1,9,2)])\n",
    "\n",
    "L.extend([1,2])\n",
    "print(L)"
   ]
  },
  {
   "cell_type": "code",
   "execution_count": 268,
   "metadata": {},
   "outputs": [],
   "source": [
    "import autopy\n",
    "autopy.mouse.move(200,300)"
   ]
  },
  {
   "cell_type": "code",
   "execution_count": null,
   "metadata": {},
   "outputs": [],
   "source": []
  },
  {
   "cell_type": "code",
   "execution_count": null,
   "metadata": {},
   "outputs": [],
   "source": []
  }
 ],
 "metadata": {
  "kernelspec": {
   "display_name": "Python 3",
   "language": "python",
   "name": "python3"
  },
  "language_info": {
   "codemirror_mode": {
    "name": "ipython",
    "version": 3
   },
   "file_extension": ".py",
   "mimetype": "text/x-python",
   "name": "python",
   "nbconvert_exporter": "python",
   "pygments_lexer": "ipython3",
   "version": "3.7.6"
  }
 },
 "nbformat": 4,
 "nbformat_minor": 4
}
